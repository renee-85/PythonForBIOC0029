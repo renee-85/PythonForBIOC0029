{
 "cells": [
  {
   "cell_type": "markdown",
   "id": "232cd4de",
   "metadata": {},
   "source": [
    "# Dose response curve"
   ]
  },
  {
   "cell_type": "code",
   "execution_count": null,
   "id": "5fd1532c",
   "metadata": {},
   "outputs": [],
   "source": [
    "#Import the libraries\n",
    "import numpy as np\n",
    "import matplotlib.pyplot as plt\n",
    "import pandas as pd\n",
    "from scipy.optimize import curve_fit"
   ]
  },
  {
   "cell_type": "code",
   "execution_count": null,
   "id": "271916f4",
   "metadata": {},
   "outputs": [],
   "source": [
    "#Read the Excel file\n",
    "dfDRC = pd.read_excel ('../data/DoseResponseCurveAssay.xlsx',   #create a pandas DataFrame from the filename - the file is in the current working directory!\n",
    "                       sheet_name=0,   #use the first sheet (no need to specifically include this as we use the default setting)\n",
    "                       header=0)   #our data has column names\n",
    "\n",
    "print(dfDRC)   #print the DataFrame created"
   ]
  },
  {
   "cell_type": "code",
   "execution_count": null,
   "id": "e3af7c4b",
   "metadata": {},
   "outputs": [],
   "source": [
    "#Calculate log10[Drug]\n",
    "dfDRC['log[Drug 1]'] = np.log10(dfDRC['[Drug 1] (ng/ml)'])\n",
    "dfDRC['log[Drug 2]'] = np.log10(dfDRC['[Drug 2] (ng/ml)'])"
   ]
  },
  {
   "cell_type": "code",
   "execution_count": null,
   "id": "c80cd0cf",
   "metadata": {},
   "outputs": [],
   "source": [
    "#Plot the data\n",
    "plt.figure(figsize=(7,5))   #start a figure object\n",
    "\n",
    "plt.plot(dfDRC['log[Drug 1]'], dfDRC['Response 1'],   #plot a set of x (= the log concentrations) ,y (=the responses) data\n",
    "         marker='o', color='gray', markersize=8)   #use a round, gray marker with size 8\n",
    "\n",
    "plt.plot(dfDRC['log[Drug 2]'], dfDRC['Response 2'],   #plot a set of x (= the log concentrations) ,y (=the responses) data, a different experiment\n",
    "         marker='s', color='black', markersize=8)   #use a square, black marker with size 8\n",
    "\n",
    "plt.title('Dose-response Curve', fontsize=18)   #title of graph\n",
    "plt.xlabel('log $[Drug]$ (ng ml$^{-1}$)', fontsize=14)   #X-axis label\n",
    "plt.ylabel('Response', fontsize=14)   #Y-axis label\n",
    "\n",
    "plt.show()   #show the figure object"
   ]
  },
  {
   "cell_type": "code",
   "execution_count": null,
   "id": "3ebc82ae",
   "metadata": {},
   "outputs": [],
   "source": [
    "#Define the Hill function\n",
    "def funcDRC(x, Rmin, Rmax, EC50, nHill):   #create the function\n",
    "    \"\"\"\n",
    "    Return the Hill equation using Rmin, Rmax, EC50, and nHill\n",
    "\n",
    "    Args:\n",
    "        Rmin, the response effect in the absence of drug\n",
    "        Rmax, the maximum effect\n",
    "        EC50, the relative 50% effective dose or concentration\n",
    "        nHill, the Hill exponent which describes the steepness of the curve\n",
    "        \n",
    "    Returns:\n",
    "        the Hill equation function \"a * x + b\"\n",
    "    \"\"\"\n",
    "    return Rmin + (Rmax-Rmin) / (1 + (((10**(np.log10(EC50)))/(10**x))**nHill))"
   ]
  },
  {
   "cell_type": "code",
   "execution_count": null,
   "id": "3f3d111d",
   "metadata": {},
   "outputs": [],
   "source": [
    "#Combine all data\n",
    "xDRC= pd.concat([dfDRC['log[Drug 1]'], dfDRC['log[Drug 2]']])\n",
    "yDRC= pd.concat([dfDRC['Response 1'], dfDRC['Response 2']])\n",
    "\n",
    "#Fit all data\n",
    "paramsDRC, params_covarianceDRC = curve_fit(funcDRC,   #the function we try to fit to the data\n",
    "                                            xDRC,   #the x values, the log10 concentrations\n",
    "                                            yDRC,   #the y values, the responses\n",
    "                                            [0.01, 0.12, 0.2, 1])   #the starting parameters, guesses from graph"
   ]
  },
  {
   "cell_type": "code",
   "execution_count": null,
   "id": "4ee11ae1",
   "metadata": {},
   "outputs": [],
   "source": [
    "#Report the fit parameters with standard errors\n",
    "print(\"Rmin, the effect in the absence of drug = \", paramsDRC[0], \"±\", np.sqrt(np.diag(params_covarianceDRC))[0])\n",
    "print(\"Rmax, the maximum effect = \", paramsDRC[1], \"±\", np.sqrt(np.diag(params_covarianceDRC))[1])\n",
    "print(\"EC50 in (ng/ml), the relative 50% effective concentration = \", paramsDRC[2], \"±\", np.sqrt(np.diag(params_covarianceDRC))[2])\n",
    "print(\"nHill, the Hill exponent = \", paramsDRC[3], \"±\", np.sqrt(np.diag(params_covarianceDRC))[3])"
   ]
  },
  {
   "cell_type": "code",
   "execution_count": null,
   "id": "f51b63ec",
   "metadata": {},
   "outputs": [],
   "source": [
    "#Calculate the residuals\n",
    "residDRC = yDRC - funcDRC(xDRC, *paramsDRC)   #calculate the residuals, the star in *paramsDRC unpacks the array so the two optimized parameter values become the second to fifth arguments (after the x-values) to the function"
   ]
  },
  {
   "cell_type": "code",
   "execution_count": null,
   "id": "31bf039c",
   "metadata": {},
   "outputs": [],
   "source": [
    "#Generate X-values to calculate the function\n",
    "xvalues = np.linspace(-10,10,1000)   #create an array with 1000 evenly distributed elements between 0 (included) and -10 (included)\n",
    "\n",
    "#Produce a combined graph\n",
    "fig = plt.figure()   #to create a figure object\n",
    "\n",
    "xlimits = [-4, 4]   #to make sure we use the same of the X-axis boundaries for both plots\n",
    "\n",
    "ax1 = fig.add_axes([0.1, 0.51, 1, 0.8])   #to specify the coordinates, width and height of the top plot\n",
    "\n",
    "ax2 = fig.add_axes([0.1, 0.1, 1, 0.4])   #to specify the coordinates, width and height of the bottom plot\n",
    "\n",
    "\n",
    "ax1.plot(xDRC, yDRC,   #plot a set of x (= the log concentrations) ,y (=the responses) data\n",
    "         marker='o', color='gray', markersize=8, linestyle='None',   #use a round, gray marker with size 8 but no line \n",
    "         label='Data')   #add a legend label\n",
    "\n",
    "ax1.plot(xvalues, funcDRC(xvalues, *paramsDRC),   #add the fitted curve to plot. Use the generated log10 concentrations as x-values. Use the fit parameters to calculate the y-values. The star in *paramsDRC unpacks the array so the two optimized parameter values become the second to fifth arguments (after the x-values) to the function.\n",
    "         color=\"red\",   #use a red line\n",
    "         label='Fit')   #add a legend label \n",
    "\n",
    "ax1.axis(xlimits + [0, 0.12])   #sets the X-axis and Y-axis boundaries for the top plot\n",
    "ax1.tick_params(axis='x', bottom=False, labelbottom=False)   #removes the ticks and tick labels on the X-axis for the top plot\n",
    "ax1.set_ylabel('Response', fontsize=14)   #adds Y-axis title for the top plot\n",
    "ax1.legend(loc='upper left')   #include legend\n",
    "\n",
    "ax2.plot(xDRC, residDRC,     #plot a set of x (=the concentrations),y (= the residuals) data points\n",
    "          marker='o', color='gray', linestyle='None', markersize=8)   #use a round, gray marker with size 8 but no line \n",
    "\n",
    "ax2.axhline(0, color='gray', linestyle=\"--\")   #adds a horizontal line at y=0\n",
    "ax2.axis(xlimits + [-0.025,0.025])   #sets the X-axis and Y-axis boundaries for the bottom plot\n",
    "ax2.set_xlabel('log $[Drug]$ (ng ml$^{-1}$)', fontsize=14)   #adds X-axis title for the bottom plot, which is the same for the top plot\n",
    "ax2.set_ylabel('Residuals', fontsize=14)   #adds Y-axis title for the bottom plot\n",
    "\n",
    "plt.show()   #show the figure object"
   ]
  },
  {
   "cell_type": "markdown",
   "id": "fa88ad24",
   "metadata": {},
   "source": [
    "# Colorimetric assay"
   ]
  },
  {
   "cell_type": "code",
   "execution_count": null,
   "id": "8d85642c",
   "metadata": {},
   "outputs": [],
   "source": [
    "#Import the libraries\n",
    "import numpy as np\n",
    "import matplotlib.pyplot as plt\n",
    "import pandas as pd\n",
    "from scipy.optimize import curve_fit"
   ]
  },
  {
   "cell_type": "code",
   "execution_count": null,
   "id": "c6fd9f5d",
   "metadata": {},
   "outputs": [],
   "source": [
    "#Read the Excel file\n",
    "dfCA = pd.read_excel ('../data/ColorimetricAssay.xlsx',   #create a pandas DataFrame from the filename - the file is in the current working directory!\n",
    "                    sheet_name=0,   #use the first sheet (no need to specifically include this as we use the default setting)\n",
    "                    skiprows=3,   #skip the first three rows\n",
    "                    skipfooter=3,   #skip the last three rows \n",
    "                    usecols=[6,7,8,9],   #only import columns 6 to 9 - be aware that column numbers start with zero!\n",
    "                    header=None,   #our data does not have column names\n",
    "                    names=['BSA-1','BSA-2', 'Sample-1', 'Sample-2'])   #use BSA-1, BSA-2, Sample-1, and Sample-2 as column names\n",
    "\n",
    "print (dfCA)   #print the DataFrame created"
   ]
  },
  {
   "cell_type": "code",
   "execution_count": null,
   "id": "cf74e523",
   "metadata": {},
   "outputs": [],
   "source": [
    "#Insert a column containing the concentrations of the standards\n",
    "x1 = [2000, 1500, 1000, 750, 500, 250, 125, 0]   #create a list with integers containing the concentrations\n",
    "\n",
    "dfCA.insert(0, '[BSA]', x1)   #insert the column at index 0 (i.e. make it the first column) in dfCA, name the column [BSA], and fill it with the data provided by x1\n",
    "\n",
    "print(dfCA)   #print the DataFrame created"
   ]
  },
  {
   "cell_type": "code",
   "execution_count": null,
   "id": "ae5d21ab",
   "metadata": {},
   "outputs": [],
   "source": [
    "#Plot the data\n",
    "plt.figure(figsize=(7,5))   #start a figure object\n",
    "\n",
    "plt.plot(dfCA['[BSA]'], dfCA['BSA-1'],   #plot a set of x (=the concentrations),y (= the measured absorbances) data points\n",
    "         marker='o', color='gray', markersize=8)   #use a round, gray marker with size 8\n",
    "\n",
    "plt.plot(dfCA['[BSA]'], dfCA['BSA-2'],   #plot another set of x (=the concentrations),y (= the measured absorbances) data points\n",
    "         marker='o', color='black', markersize=8)   #use a round, black marker with size 8\n",
    "\n",
    "plt.title('Standard Curve', fontsize=18)   #title of graph\n",
    "plt.xlabel('$[BSA]$ ($\\mu$g $ml^{-1}$)', fontsize=14)   #X-axis label\n",
    "plt.ylabel('Absorbance (AU)', fontsize=14)   #Y-axis label\n",
    "plt.axis([-10, 2200, 0, 1.5])   #axis boundaries, in this case from -10 to 2200 for the X-axis and 0 to 1.5 for the Y-axis\n",
    "\n",
    "plt.show()   #show the figure object"
   ]
  },
  {
   "cell_type": "code",
   "execution_count": null,
   "id": "1943b25a",
   "metadata": {},
   "outputs": [],
   "source": [
    "dfCA['BSA-mean'] = dfCA.iloc[:,1:3].mean(axis=1)   #we use axis 1 to get the mean of the elements of one row, we use columns 1 = BSA-1 and 2 = BSA-2, represented by [1:3]. The result is added to a new column.\n",
    "dfCA['BSA-std'] = dfCA.iloc[:,1:3].std(axis=1)   #we use axis 1 to get the standard deviation of the elements of one row, we use columns 1 = BSA-1 and 2 = BSA-2, represented by [1:3]. The result is added to a new column.\n",
    "\n",
    "print(dfCA)   #print the DataFrame created"
   ]
  },
  {
   "cell_type": "code",
   "execution_count": null,
   "id": "e162ef89",
   "metadata": {},
   "outputs": [],
   "source": [
    "#Define a line\n",
    "def funcline(x, a, b):   #create the function\n",
    "    \"\"\"\n",
    "    Return a line using slope and intercept\n",
    "\n",
    "    Args:\n",
    "        the slope, a\n",
    "        the intercept, b\n",
    "        \n",
    "    Returns:\n",
    "        the line function \"a * x + b\"\n",
    "    \"\"\"\n",
    "    return a * x + b\n",
    "    \n",
    "#Define a quadratic curve\n",
    "def funcpoly2(x, a, b, c):   #create the function\n",
    "    \"\"\"\n",
    "    Return a quadratic curve using the first and second coefficients, a and b, and constant, c\n",
    "\n",
    "    Args:\n",
    "        the first coefficient, a\n",
    "        the second coefficient, b\n",
    "        the constant, c\n",
    "        \n",
    "    Returns:\n",
    "        the quadratic curve function \"a * x^2 + b * x + c\"\n",
    "    \"\"\"\n",
    "    return a * x**2 + b * x + c"
   ]
  },
  {
   "cell_type": "code",
   "execution_count": null,
   "id": "94d11a28",
   "metadata": {},
   "outputs": [],
   "source": [
    "#Fit with a line\n",
    "params1, params_covariance1 = curve_fit(funcline,   #the line function we try to fit to the data\n",
    "                                        dfCA['[BSA]'],   #the x values, the concentrations\n",
    "                                        dfCA['BSA-mean'],   #the y values, the measured absorbances\n",
    "                                        [0.1, 0.1],   #the starting parameters for a (=the slope) and b (=the intercept)\n",
    "                                        sigma=dfCA['BSA-std'],   #the standard deviations used for weighted fitting\n",
    "                                        absolute_sigma=True)   #use sigma (=the standard deviations) in an absolute sense\n",
    "\n",
    "#Fit with a quadratic curve\n",
    "params2, params_covariance2 = curve_fit(funcpoly2,   #the quadratic curve function we try to fit to the data\n",
    "                                        dfCA['[BSA]'],   #the x values, the concentrations\n",
    "                                        dfCA['BSA-mean'],   #the y values, the measured absorbances\n",
    "                                        [0.1, 0.1, 0.1],   #the starting parameters for a (=the first coefficient), b (=the second coefficient), and c (=the constant)\n",
    "                                        sigma=dfCA['BSA-std'],   #the standard deviations used for weighted fitting\n",
    "                                        absolute_sigma=True)   #use sigma (=the standard deviations) in an absolute sense"
   ]
  },
  {
   "cell_type": "code",
   "execution_count": null,
   "id": "9f11733a",
   "metadata": {},
   "outputs": [],
   "source": [
    "#Report the fit parameters with standard errors for the line function\n",
    "print(\"Slope, a = \", params1[0], \"±\", np.sqrt(np.diag(params_covariance1))[0])\n",
    "print(\"Intercept, b = \", params1[1], \"±\", np.sqrt(np.diag(params_covariance1))[1])\n",
    "\n",
    "#Report the fit parameters with standard errors for the quadratic function\n",
    "print(\"First coefficient, a =\", params2[0], \"±\", np.sqrt(np.diag(params_covariance2))[0])\n",
    "print(\"Second coefficient, b = \", params2[1], \"±\", np.sqrt(np.diag(params_covariance2))[1])\n",
    "print(\"Constant, c = \", params2[2], \"±\", np.sqrt(np.diag(params_covariance2))[2])"
   ]
  },
  {
   "cell_type": "code",
   "execution_count": null,
   "id": "1966a851",
   "metadata": {},
   "outputs": [],
   "source": [
    "#Calculate the residuals for the line function\n",
    "resid1 = dfCA['BSA-mean'] - funcline(dfCA['[BSA]'], *params1)   #calculate the residuals, the star in _*params1_ unpacks the array so the two optimized parameter values become the second and third arguments (after the x-values) to the function\n",
    "\n",
    "#Calculate the residuals for the quadratic function\n",
    "resid2 = dfCA['BSA-mean'] - funcpoly2(dfCA['[BSA]'], *params2)   #calculate the residuals, the star in _*params2_ unpacks the array so the two optimized parameter values become the second, third, and fourth arguments (after the x-values) to the function"
   ]
  },
  {
   "cell_type": "code",
   "execution_count": null,
   "id": "d7840ded",
   "metadata": {},
   "outputs": [],
   "source": [
    "#Generate X-values to calculate the function\n",
    "xvalues = np.linspace(0, 2200, 100)   #create an array with 100 evenly distributed elements between 0 (included) and 2200 (included)\n",
    "\n",
    "#Produce a combined graph\n",
    "fig = plt.figure()   #to create a figure object\n",
    "\n",
    "xlimits = [0, 2200]   #to make sure we use the same of the X-axis boundaries for both plots\n",
    "\n",
    "ax1 = fig.add_axes([0.1, 0.53, 1, 0.81])   #to specify the coordinates, width and height of the top plot\n",
    "\n",
    "ax2 = fig.add_axes([0.1, 0.1, 1, 0.4])   #to specify the coordinates, width and height of the bottom plot\n",
    "\n",
    "ax1.errorbar(dfCA['[BSA]'], dfCA['BSA-mean'],   #plot a set of x (=the concentrations),y (= the mean absorbances) data points\n",
    "             yerr=dfCA['BSA-std'],   #use an error bar (=the standard deviations)\n",
    "             fmt='o', color='black', ecolor='black', #use a round, black marker with size 8\n",
    "             label='Data')   #add a legend label\n",
    "\n",
    "ax1.plot(xvalues, funcline(xvalues, *params1),   #add the fitted line to plot. Use the generated BSA concentrations as x-values. Use the fitted parameters to calculate the y-values. The star in _*params1_ unpacks the array so the two optimized parameter values become the second and third arguments (after the x-values) to the function.\n",
    "         color=\"gray\", linestyle='-',   #use a gray line\n",
    "         label='Fit $y=ax+b$')   #add a legend label\n",
    "\n",
    "ax1.plot(xvalues, funcpoly2(xvalues, *params2),   #add the fitted quadratic curve to plot. Use the generated BSA concentrations as x-values. Use the fitted parameters to calculate the y-values. The star in _*params2_ unpacks the array so the two optimized parameter values become the second, third, and fourth arguments (after the x-values) to the function.\n",
    "         color=\"red\", linestyle='-',   #use a red line\n",
    "         label='Fit $y=ax^2+bx$+c')   #add a legend label\n",
    "\n",
    "ax1.axis(xlimits + [0, 1.5])   #sets the X-axis and Y-axis boundaries for the top plot\n",
    "ax1.tick_params(axis='x', bottom=False, labelbottom=False)   #removes the ticks and tick labels on the X-axis for the top plot\n",
    "ax1.set_ylabel('Absorbance (AU)')   #adds Y-axis title for the top plot\n",
    "ax1.legend(loc='upper left')   #include legend\n",
    "\n",
    "ax2.plot(dfCA['[BSA]'], resid1,   #plot a set of x (=the concentrations),y (= the residuals for y=ax) data points\n",
    "         marker='o', color='gray', linestyle='-', markersize=8,   #use gray datapoints size 8 and a line\n",
    "         label='Residuals $y=ax+b$')   #add a legend label\n",
    "\n",
    "ax2.plot(dfCA['[BSA]'], resid2,   #plot a set of x (=the concentrations),y (= the residuals for y=ax^2+bx+c) data points\n",
    "         marker='o', color='red', linestyle='-', markersize=8,   #use red datapoints size 8 and a line\n",
    "         label='Residuals $y=ax^2+bx$+c')   #add a legend label\n",
    "\n",
    "ax2.axhline(0, color='gray', linestyle=\"--\")   #adds a horizontal line at y=0\n",
    "ax2.axis(xlimits + [-0.2,0.2])   #sets the X-axis and Y-axis boundaries for the bottom plot\n",
    "ax2.set_xlabel('$[BSA]$ ($\\mu$g $ml^{-1}$)')   #adds X-axis title for the bottom plot, which is the same for the top plot\n",
    "ax2.set_ylabel('Absorbance (AU)')   #adds Y-axis title for the bottom plot\n",
    "ax2.legend(loc='lower left')   #include legend\n",
    "\n",
    "plt.show()   #show the figure object"
   ]
  },
  {
   "cell_type": "code",
   "execution_count": null,
   "id": "87044301",
   "metadata": {},
   "outputs": [],
   "source": [
    "#Calculate the concentration for each of the dilution factors\n",
    "def solcalc(y, a, b, c):   #create the function\n",
    "    \"\"\"\n",
    "    Solve the quadratic equation for x when y is given using the quadratic formula\n",
    "\n",
    "    Args:\n",
    "        the first coefficient, a\n",
    "        the second coefficient, b\n",
    "        the constant, c\n",
    "        \n",
    "    Returns:\n",
    "        the solution x-values of a quadratic equation with y given\n",
    "    \"\"\"\n",
    "    return (-b + np.sqrt(b**2 - 4 * a * (c-y)))/(2 * a)\n",
    "\n",
    "dfCA['Solution-1'] = dfCA['Sample-1'].apply(solcalc, args=params2.tolist())   #apply the function that calculates the solution x-values of a quadratic equation with y given to the Sample-1 absorbances. Use the fitted parameters (converted from NumPy array to list) as arguments for the function (after the y-values). \n",
    "dfCA['Solution-2'] = dfCA['Sample-2'].apply(solcalc, args=params2.tolist())   #apply the function that calculates the solution x-values of a quadratic equation with y given to the Sample-2 absorbances. Use the fitted parameters (converted from NumPy array to list) as arguments for the function (after the y-values). "
   ]
  },
  {
   "cell_type": "code",
   "execution_count": null,
   "id": "fcb31f7f",
   "metadata": {},
   "outputs": [],
   "source": [
    "#Take the dilution factors into account\n",
    "dfCA['DF'] = [2.5, 5, 10, 20, 0, 0, 0, 0]   #add a column containing the dilution factors\n",
    "dfCA['Concentration-1'] = dfCA['Solution-1'] * dfCA['DF']   #add a column with the calculated values for undiluted samples for 1\n",
    "dfCA['Concentration-2'] = dfCA['Solution-2'] * dfCA['DF']   #add a column with the calculated values for undiluted samples for 2\n",
    "print(dfCA)   #print the DataFrame"
   ]
  },
  {
   "cell_type": "code",
   "execution_count": null,
   "id": "80d87657",
   "metadata": {},
   "outputs": [],
   "source": [
    "#Calculate the overal concentration\n",
    "dfCAnew=dfCA.iloc[0:3,-2:]   #create a new DataFrame containing all values you want to calculate the mean and standard deviation for\n",
    "print(dfCAnew)   #print the new DataFrame \n",
    "\n",
    "print(np.array(dfCAnew).mean())   #convert the new DataFrame into a NumPy array and calulcate the mean of all elements\n",
    "print(np.array(dfCAnew).std())   #convert the new DataFrame into a NumPy array and calulcate the standard deviation of all elements"
   ]
  },
  {
   "cell_type": "code",
   "execution_count": null,
   "id": "e7b3f8d6",
   "metadata": {},
   "outputs": [],
   "source": []
  }
 ],
 "metadata": {
  "kernelspec": {
   "display_name": "Python 3 (ipykernel)",
   "language": "python",
   "name": "python3"
  },
  "language_info": {
   "codemirror_mode": {
    "name": "ipython",
    "version": 3
   },
   "file_extension": ".py",
   "mimetype": "text/x-python",
   "name": "python",
   "nbconvert_exporter": "python",
   "pygments_lexer": "ipython3",
   "version": "3.11.3"
  }
 },
 "nbformat": 4,
 "nbformat_minor": 5
}
