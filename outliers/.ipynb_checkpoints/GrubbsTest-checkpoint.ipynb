{
 "cells": [
  {
   "cell_type": "markdown",
   "metadata": {},
   "source": [
    "# The Grubbs' test"
   ]
  },
  {
   "cell_type": "markdown",
   "metadata": {},
   "source": [
    "## __<font color=blue>Purpose</font>__\n",
    "---\n",
    "\n",
    "Grubbs' test is used to detect __a single outlier__ in a dataset that is assumed to be __normally distributed__. You need at least three data points.\n",
    "\n",
    "If you suspect more than one outlier may be present, it is recommended that you use the generalized extreme studentized deviate (ESD) test as the test can be affected by __masking__. Masking can occur when too few outliers are specified in the test. For example, if you test for a single outlier when there are actually two or more, the additional outliers can influence the test statistic enough that no points are identified as outliers. \n",
    "\n",
    "## __<font color=blue>How it works</font>__\n",
    "---\n",
    "\n",
    "First, a __null hypothesis ($H_{0}$)__ is defined. In this case, H₀ assumes that there are no outliers in the dataset. The __alternative hypothesis ($H_{a}$)__ is that there is exactly one outlier in the dataset.\n",
    "\n",
    "Next, we calculate the __Grubbs' test statistic, G__\n",
    "\n",
    "$$\n",
    " G = \\frac{max|Y_{i}-\\overline{Y}|}{s}\n",
    "$$\n",
    "\n",
    "with _$\\overline{Y}$_ and _s_ denoting the sample mean and standard deviation, respectively. The Grubbs' test statistic is the largest absolute deviation from the sample mean in units of the sample standard deviation.\n",
    "\n",
    "This is the __two-sided__ version of the test. The Grubbs' test can also be defined as one of the following __one-sided__ tests:\n",
    "\n",
    "1. test whether the minimum value is an outlier\n",
    "\n",
    "    $$\n",
    "    G = \\frac{\\overline{Y}-Y_{min}}{s}\n",
    "    $$\n",
    "\n",
    "    with _$Y_{min}$_ denoting the minimum value.\n",
    "\n",
    "2. test whether the maximum value is an outlier\n",
    "\n",
    "    $$\n",
    "    G = \\frac{Y_{max}-\\overline{Y}}{s}\n",
    "    $$\n",
    "\n",
    "    with _$Y_{max}$_ denoting the maximum value.\n",
    "\n",
    "For the two-sided test, the hypothesis of no outliers is rejected if $G > G_{critical}$, the __Grubbs' critical value__\n",
    "\n",
    "$$\n",
    " G_{critical} = \\frac{N-1}{\\sqrt{N}} \\sqrt{\\frac{(t_{\\alpha/(2N),N-2})^2}{N-2+(t_{\\alpha/(2N),N-2})^2}}\n",
    "$$\n",
    "\n",
    "with _$t_{\\alpha/(2N),N-2}$_ denoting the critical value of the _t_ distribution with (N-2) degrees of freedom and a significance level of α/(2N).\n",
    "\n",
    "For one-sided tests, we use a significance level of α/N."
   ]
  },
  {
   "cell_type": "markdown",
   "metadata": {},
   "source": [
    "## __<font color=blue>Example: one-sided Grubbs' test</font>__\n",
    "---"
   ]
  },
  {
   "cell_type": "code",
   "execution_count": 5,
   "metadata": {},
   "outputs": [],
   "source": [
    "# Import the libraries needed\n",
    "\n",
    "import matplotlib.pyplot as plt   # For creating visualizations and plots\n",
    "import numpy as np                # For numerical computations and handling arrays\n",
    "import scipy.stats as stats       # For statistical functions and probability distributions"
   ]
  },
  {
   "cell_type": "code",
   "execution_count": 6,
   "metadata": {},
   "outputs": [],
   "source": [
    "# Define an example dataset \n",
    "\n",
    "# Create a 1D NumPy array with some sample values (our dataset)\n",
    "y = np.array([0.199, 0.200, 0.200, 0.201, 0.202, 0.203, 0.202, 0.246])\n",
    "\n",
    "# Create an array with evenly spaced numbers within a given interval (0, 1, 2, ...) to use as the x-axis\n",
    "# Use np.arange(start (optional, default = 0), stop = len(y), step (optional, default = 1))\n",
    "x = np.arange(len(y))"
   ]
  },
  {
   "cell_type": "code",
   "execution_count": 7,
   "metadata": {},
   "outputs": [
    {
     "data": {
      "image/png": "[encoded data removed]",
      "text/plain": [
       "<Figure size 640x480 with 1 Axes>"
      ]
     },
     "metadata": {},
     "output_type": "display_data"
    }
   ],
   "source": [
    "# Visualize the dataset\n",
    "\n",
    "# Create a scatter plot of the data using x = indices (0, 1, 2, ...) and y = dataset values\n",
    "plt.scatter(x,y)\n",
    "\n",
    "# Add labels to the x-axis and y-axis\n",
    "plt.xlabel(\"Index (x)\")         # Describes what x-values represent\n",
    "plt.ylabel(\"Data values (y)\")   # Describes what y-values represent\n",
    "\n",
    "# Add a title to the plot\n",
    "plt.title(\"Scatter Plot of Example Dataset\")\n",
    "\n",
    "# Display the plot\n",
    "plt.show()"
   ]
  },
  {
   "cell_type": "markdown",
   "metadata": {},
   "source": [
    "Most values are very close together (between 0.199 and 0.203). Then suddenly, there’s a jump to 0.246. This makes it a potential outlier. Let's apply a one-sided Grubbs' test.\n",
    "\n",
    "- Null hypothesis ($H_{0}$): there are no outliers in the data\n",
    "- Alternative hypothesis ($H_{a}$): the maximum value is an outlier\n",
    "\n",
    "The null hypothesis of no outliers is rejected if $G > G_{critical}$ ."
   ]
  },
  {
   "cell_type": "code",
   "execution_count": 9,
   "metadata": {},
   "outputs": [],
   "source": [
    "# Step 1: Calculate Grubbs' test statistic, G\n",
    "\n",
    "mean_y = np.mean(y)                   # Mean of the dataset\n",
    "std_y = np.std(y, ddof=1)             # Sample standard deviation (ddof=1 for sample (N-1), not population (N))\n",
    "abs_diff = np.abs(y - mean_y)         # Absolute differences of each dataset value from the mean\n",
    "max_abs_diff = np.max(abs_diff)       # Largest absolute difference from the mean\n",
    "G_calculated = max_abs_diff / std_y   # Largest deviation divided by sample standard deviation, Grubbs' test statistic G"
   ]
  },
  {
   "cell_type": "code",
   "execution_count": 10,
   "metadata": {},
   "outputs": [],
   "source": [
    "# Step 2: Calculate the critical value\n",
    "\n",
    "# Define a function to calculate the Grubbs critical value using sample size and significance level\n",
    "def calculate_critical_value(size, alpha):\n",
    "    \"\"\"\n",
    "    Calculate the critical value using the formula given in NIST's Grubbs' Test for Outliers \n",
    "    \n",
    "    Arguments:\n",
    "        size (int): sample size of the dataset (n)\n",
    "        alpha (float): significance level (commonly 0.05 for 5%)\n",
    "    \n",
    "    Returns:\n",
    "        critical value (float): the critical value for this sample size and significance level\n",
    "    \"\"\"\n",
    "    t_crit = stats.t.ppf(alpha / (2 * size), size - 2)                                            # Critical value for two-tailed test\n",
    "    critical_value = ((size - 1) / np.sqrt(size)) * np.sqrt(t_crit**2 / (size - 2 + t_crit**2))   # Formula for Grubbs' critical value\n",
    "    \n",
    "    return critical_value\n",
    "\n",
    "# Calculate and display the Grubbs critical value for dataset y at 5% significance\n",
    "# As the function above is for a two-tailed test and we are performing a one-tailed test, we need a signifinace level of 10%.\n",
    "G_critical = calculate_critical_value(len(y), 0.1)"
   ]
  },
  {
   "cell_type": "code",
   "execution_count": 11,
   "metadata": {},
   "outputs": [
    {
     "name": "stdout",
     "output_type": "stream",
     "text": [
      "Grubbs' test statistic (G): 2.467\n",
      "Grubbs' critical value (G_critical): 2.032\n",
      "Reject the null hypothesis. An outlier is detected.\n"
     ]
    }
   ],
   "source": [
    "# Step 3: Compare and interpret results\n",
    "\n",
    "# Print the Grubbs' test statistic (G_calculated) and the Grubbs' critical value (G_critical) rounded to 3 decimal places ({:.3f})\n",
    "# Use format() to embed variables directly in a string\n",
    "print(\"Grubbs' test statistic (G): {:.3f}\".format(G_calculated))\n",
    "print(\"Grubbs' critical value (G_critical): {:.3f}\".format(G_critical))\n",
    "\n",
    "# Compare the Grubbs' test statistic with the critical value\n",
    "if G_calculated > G_critical:\n",
    "    # If the calculated value is larger than the critical value, the extreme point is an outlier\n",
    "    print(\"Reject the null hypothesis. An outlier is detected.\")\n",
    "else:\n",
    "    # If the calculated value is smaller or equal, no significant outlier is detected\n",
    "    print(\"Accept the null hypothesis. No outlier detected.\")"
   ]
  },
  {
   "cell_type": "markdown",
   "metadata": {},
   "source": [
    "## __<font color=blue>Resources</font>__\n",
    "---\n",
    "\n",
    "- Grubbs, F. E. (1969). Procedures for Detecting Outlying Observations in Samples. Technometrics, 11(1), 1–21. Available [here](https://doi.org/10.1080/00401706.1969.10490657).\n",
    "- National Institute of Standards and Technology (NIST), Grubbs' Test for Outliers. Available [here](https://www.itl.nist.gov/div898/handbook/eda/section3/eda35h1.htm).\n",
    "- Bhavesh Bhatt, Grubbs' Test for Outlier Detection using Python. Available [here](https://www.youtube.com/watch?v=Hn_lMUaMcak).\n",
    "- GraphPad, Detecting outliers with Grubbs' test. Available [here](https://www.graphpad.com/support/faq/detecting-outliers-with-grubbs-test/)."
   ]
  }
 ],
 "metadata": {
  "kernelspec": {
   "display_name": "Python [conda env:base] *",
   "language": "python",
   "name": "conda-base-py"
  },
  "language_info": {
   "codemirror_mode": {
    "name": "ipython",
    "version": 3
   },
   "file_extension": ".py",
   "mimetype": "text/x-python",
   "name": "python",
   "nbconvert_exporter": "python",
   "pygments_lexer": "ipython3",
   "version": "3.12.3"
  },
  "widgets": {
   "application/vnd.jupyter.widget-state+json": {
    "state": {},
    "version_major": 2,
    "version_minor": 0
   }
  }
 },
 "nbformat": 4,
 "nbformat_minor": 4
}
