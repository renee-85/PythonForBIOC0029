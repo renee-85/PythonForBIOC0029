{
 "cells": [
  {
   "cell_type": "markdown",
   "metadata": {},
   "source": [
    "# The generalized (Extreme Studentized Deviate) ESD test"
   ]
  },
  {
   "cell_type": "markdown",
   "metadata": {},
   "source": [
    "## __<font color=blue>Purpose</font>__\n",
    "---\n",
    "\n",
    "The generalized ESD test detects __one or more outliers__ in a dataset that is assumed to be __normally distributed__.\n",
    "\n",
    "You must specify the __maximum number of outliers, _r___, to test for.\n",
    "\n",
    "## __<font color=blue>How it works</font>__\n",
    "---\n",
    "\n",
    "The generalized ESD test essentially performs _r_ separate tests: a test for one outlier, a test for two outliers, and so on until _r_ outliers.\n",
    "\n",
    "First, a __null hypothesis ($H_{0}$)__ is defined. In this case, H₀ assumes that there are no outliers in the dataset. The __alternative hypothesis ($H_{a}$)__ is that there are up to _r_ outliers in the dataset.\n",
    "\n",
    "Next, for each step, we calculate the __generalized ESD test statistic, $R_{i}$__\n",
    "\n",
    "$$\n",
    " R_{i} = \\frac{max_{i}|x_{i}-\\overline{x}|}{s}\n",
    "$$\n",
    "\n",
    "with _$\\overline{x}$_ and _s_ denoting the sample mean and standard deviation, respectively.\n",
    "\n",
    "Remove the observation that maximizes $|x_{i}-\\overline{x}|$ and then recompute the above statistic with _n - 1_ observations.\n",
    "\n",
    "Repeat this process until _r_ observations have been removed. This results in the ___r_ test statistics $R_{1}$, $R_{2}$, ..., $R_{r}$__.\n",
    "\n",
    "At the same time, compute the following corresponding __critical values__\n",
    "\n",
    "$$\n",
    " \\lambda_{i} = \\frac{(n - i) t_{p,n-i-1}}{\\sqrt{(n - i - 1 + t_{p,n-i-1}^2)(n - i + 1)}}\n",
    "$$\n",
    " \n",
    "where $t_{p,\\nu}$ is the critical value from the _t_ distribution with $\\nu$ degrees of freedom and\n",
    "\n",
    "$$\n",
    " p = 1 - \\frac{\\alpha}{2 (n - i + 1)}\n",
    "$$\n",
    " \n",
    "The number of outliers is determined by finding the largest _i_ such that $R_{i}$ > $\\lambda_{i}$."
   ]
  },
  {
   "cell_type": "markdown",
   "metadata": {},
   "source": [
    "## __<font color=blue>Example</font>__\n",
    "---"
   ]
  },
  {
   "cell_type": "code",
   "execution_count": 2,
   "metadata": {},
   "outputs": [],
   "source": [
    "# Import the libraries needed\n",
    "\n",
    "import matplotlib.pyplot as plt   # For creating visualizations and plots\n",
    "import numpy as np                # For numerical computations and handling arrays\n",
    "import scipy.stats as stats       # For statistical functions and probability distributions\n",
    "import pandas as pd               # For working with dataframes"
   ]
  },
  {
   "cell_type": "code",
   "execution_count": 4,
   "metadata": {},
   "outputs": [],
   "source": [
    "# Define an example dataset \n",
    "\n",
    "# Create a 1D NumPy array with some sample values (our dataset)\n",
    "y = np.array([145, 125, 190, 135, 220, 130, 210, 3, 165, 165, 150, 350, 170, 180, 195, 440, 215, 135, 410, 40, 140, 175])\n",
    "\n",
    "# Create an array with evenly spaced numbers within a given interval (0, 1, 2, ...) to use as the x-axis\n",
    "# Use np.arange(start (optional, default = 0), stop = len(y), step (optional, default = 1))\n",
    "x = np.arange(len(y))"
   ]
  },
  {
   "cell_type": "code",
   "execution_count": 6,
   "metadata": {},
   "outputs": [
    {
     "data": {
      "image/png": "[encoded data removed]",
      "text/plain": [
       "<Figure size 640x480 with 1 Axes>"
      ]
     },
     "metadata": {},
     "output_type": "display_data"
    }
   ],
   "source": [
    "# Visualize the dataset\n",
    "\n",
    "# Create a scatter plot of the data using x = indices (0, 1, 2, ...) and y = dataset values\n",
    "plt.scatter(x,y)\n",
    "\n",
    "# Add labels to the x-axis and y-axis\n",
    "plt.xlabel(\"Index (x)\")         # Describes what x-values represent\n",
    "plt.ylabel(\"Data values (y)\")   # Describes what y-values represent\n",
    "\n",
    "# Add a title to the plot\n",
    "plt.title(\"Scatter Plot of Example Dataset\")\n",
    "\n",
    "# Display the plot\n",
    "plt.show()"
   ]
  },
  {
   "cell_type": "markdown",
   "metadata": {},
   "source": [
    "Most values are very close together (between 0.199 and 0.203). We have 3, 40, 350, 410, and 440 as potential outliers. Let's apply a generalized ESD test.\n",
    "\n",
    "- Null hypothesis ($H_{0}$): there are no outliers in the data\n",
    "- Alternative hypothesis ($H_{a}$): there are up to 6 outliers in the data"
   ]
  },
  {
   "cell_type": "code",
   "execution_count": 9,
   "metadata": {},
   "outputs": [],
   "source": [
    "# Define a function with loop to iterate over maximum number of outliers\n",
    "\n",
    "def generalized_esd_test(data, max_outliers, alpha):\n",
    "    \"\"\"\n",
    "    Perform the Generalized ESD test for detecting multiple outliers in a dataset.\n",
    "    \n",
    "    Parameters:\n",
    "    data (list or np.array): input numerical data\n",
    "    max_outliers (int): maximum number of outliers to test for\n",
    "    alpha (float): significance level (commonly 0.05 for 5%)\n",
    "    \n",
    "    Returns:\n",
    "    dictionary (dict) containing\n",
    "        - outlier_indices: list of indices of detected outliers\n",
    "        - outliers: list of outlier values\n",
    "        - test_statistics: list of calculated test statistics R for each iteration\n",
    "        - critical_values: list of calculated critical values λ for each iteration\n",
    "    \"\"\"\n",
    "    # Convert data to numpy array for easier manipulation\n",
    "    data = np.array(data)\n",
    "\n",
    "    # Determine the length of the dataset\n",
    "    n = len(data)\n",
    "    \n",
    "    # Lists to store data\n",
    "    outlier_indices = []\n",
    "    outliers = []\n",
    "    test_statistics = []\n",
    "    critical_values = []\n",
    "    \n",
    "    # Copy of the data to modify iteratively\n",
    "    data_copy = data.copy()\n",
    "\n",
    "    # Loop and compute and compare test statistic R and critical value λ\n",
    "    for i in range(1, max_outliers + 1):\n",
    "\n",
    "        # Calculate test statistic R for this iteration\n",
    "        mean = np.mean(data_copy)             # Mean of the dataset\n",
    "        std = np.std(data_copy, ddof=1)       # Sample standard deviation\n",
    "        abs_diff = np.abs(data_copy - mean)   # Absolute differences of each dataset value from the mean\n",
    "        max_abs_diff = np.max(abs_diff)       # Largest absolute difference from the mean\n",
    "        R = max_abs_diff / std                # Largest deviation divided by sample standard deviation, test statistic R\n",
    "        \n",
    "        # Select the dataset value to remove\n",
    "        max_index = np.argmax(abs_diff)                               # Maximum absolute difference from the mean\n",
    "        actual_index = np.where(data == data_copy[max_index])[0][0]   # Calculate the index of the maximum absolute difference in the original data\n",
    "        \n",
    "        # Compute critical value λ for this iteration\n",
    "        p = 1 - alpha / (2 * (n - i + 1))     # Define p\n",
    "        t = stats.t.ppf(p, n - i - 1)         # Critical value for two-tailed test\n",
    "        lambda_crit = ((n - i) * t) / (np.sqrt((n - i - 1 + t**2) * (n - i + 1)))   # Formula for critical value λ\n",
    "\n",
    "        # Store values for inspection\n",
    "        outlier_indices.append(actual_index)\n",
    "        outliers.append(data_copy[max_index])\n",
    "        test_statistics.append(R)\n",
    "        critical_values.append(lambda_crit)\n",
    "    \n",
    "        # Remove the detected outlier from the copy of data for the next iteration\n",
    "        data_copy = np.delete(data_copy, max_index)\n",
    "\n",
    "    # Build DataFrame for all iterations\n",
    "    df = pd.DataFrame({\n",
    "        \"Iteration\": range(1, len(test_statistics) + 1),\n",
    "        \"Index\": outlier_indices,\n",
    "        \"Value\": outliers,\n",
    "        \"Test Statistic (R)\": test_statistics,\n",
    "        \"Critical Value (λ)\": critical_values\n",
    "    })\n",
    "\n",
    "    # Add decision column: Was the suspected outlier flagged?\n",
    "    df[\"R > λ ?\"] = df[\"Test Statistic (R)\"] > df[\"Critical Value (λ)\"]\n",
    "\n",
    "    return df"
   ]
  },
  {
   "cell_type": "code",
   "execution_count": 13,
   "metadata": {},
   "outputs": [
    {
     "name": "stdout",
     "output_type": "stream",
     "text": [
      "   Iteration  Index  Value  Test Statistic (R)  Critical Value (λ)  R > λ ?\n",
      "0          1     15    440            2.497556            2.757735    False\n",
      "1          2     18    410            2.729992            2.733780    False\n",
      "2          3     11    350            2.714963            2.708246     True\n",
      "3          4      7      3            2.721414            2.680931     True\n",
      "4          5     19     40            2.838520            2.651599     True\n",
      "5          6      4    220            1.707766            2.619964    False\n"
     ]
    }
   ],
   "source": [
    "# Example usage of function\n",
    "\n",
    "result = generalized_esd_test(y, 6, 0.05)\n",
    "print(result)"
   ]
  },
  {
   "cell_type": "markdown",
   "metadata": {},
   "source": [
    "In this example, the largest number of outliers for which the test statistic is greater than the critical value (at the 5 % level) is five.  We can conclude that there are five outliers in this dataset."
   ]
  },
  {
   "cell_type": "markdown",
   "metadata": {},
   "source": [
    "## __<font color=blue>Resources</font>__\n",
    "---\n",
    "\n",
    "- Rosner, B. (1983). Percentage Points for a Generalized ESD Many-Outlier Procedure. Technometrics, 25(2), 165–172. Available [here](https://doi.org/10.1080/00401706.1983.10487848).\n",
    "- National Institute of Standards and Technology (NIST), Generalized ESD Test for Outliers. Available [here](https://www.itl.nist.gov/div898/handbook/eda/section3/eda35h3.htm)."
   ]
  }
 ],
 "metadata": {
  "kernelspec": {
   "display_name": "Python [conda env:base] *",
   "language": "python",
   "name": "conda-base-py"
  },
  "language_info": {
   "codemirror_mode": {
    "name": "ipython",
    "version": 3
   },
   "file_extension": ".py",
   "mimetype": "text/x-python",
   "name": "python",
   "nbconvert_exporter": "python",
   "pygments_lexer": "ipython3",
   "version": "3.12.3"
  },
  "widgets": {
   "application/vnd.jupyter.widget-state+json": {
    "state": {},
    "version_major": 2,
    "version_minor": 0
   }
  }
 },
 "nbformat": 4,
 "nbformat_minor": 4
}
