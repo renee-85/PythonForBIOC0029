{
 "cells": [
  {
   "cell_type": "markdown",
   "id": "232cd4de",
   "metadata": {},
   "source": [
    "# Dose response curve"
   ]
  },
  {
   "cell_type": "code",
   "execution_count": null,
   "id": "5fd1532c",
   "metadata": {},
   "outputs": [],
   "source": [
    "#Import the libraries\n",
    "import numpy as np\n",
    "import matplotlib.pyplot as plt\n",
    "import pandas as pd\n",
    "from scipy.optimize import curve_fit"
   ]
  },
  {
   "cell_type": "code",
   "execution_count": null,
   "id": "271916f4",
   "metadata": {},
   "outputs": [],
   "source": [
    "#Read the Excel file\n",
    "dfDRC = pd.read_excel ('../data/DoseResponseCurveAssay.xlsx',   #create a pandas DataFrame from the filename with file path and extension shown!\n",
    "                       sheet_name=0,   #use the first sheet (no need to specifically include this as we use the default setting)\n",
    "                       header=0)   #our data has column names\n",
    "\n",
    "print(dfDRC)   #print the DataFrame created"
   ]
  },
  {
   "cell_type": "code",
   "execution_count": null,
   "id": "e3af7c4b",
   "metadata": {},
   "outputs": [],
   "source": [
    "#Calculate log10[Drug]\n",
    "dfDRC['log[Drug 1]'] = np.log10(dfDRC['[Drug 1] (ng/ml)'])\n",
    "dfDRC['log[Drug 2]'] = np.log10(dfDRC['[Drug 2] (ng/ml)'])"
   ]
  },
  {
   "cell_type": "code",
   "execution_count": null,
   "id": "c80cd0cf",
   "metadata": {},
   "outputs": [],
   "source": [
    "#Plot the data\n",
    "plt.figure(figsize=(7,5))   #start a figure object\n",
    "\n",
    "plt.plot(dfDRC['log[Drug 1]'], dfDRC['Response 1'],   #plot a set of x (= the log concentrations) ,y (=the responses) data\n",
    "         marker='o', color='gray', markersize=8)   #use a round, gray marker with size 8\n",
    "\n",
    "plt.plot(dfDRC['log[Drug 2]'], dfDRC['Response 2'],   #plot a set of x (= the log concentrations) ,y (=the responses) data, a different experiment\n",
    "         marker='s', color='black', markersize=8)   #use a square, black marker with size 8\n",
    "\n",
    "plt.title('Dose-response Curve', fontsize=18)   #title of graph\n",
    "plt.xlabel('log $[Drug]$ (ng ml$^{-1}$)', fontsize=14)   #X-axis label\n",
    "plt.ylabel('Response', fontsize=14)   #Y-axis label\n",
    "\n",
    "plt.show()   #show the figure object"
   ]
  },
  {
   "cell_type": "code",
   "execution_count": null,
   "id": "3ebc82ae",
   "metadata": {},
   "outputs": [],
   "source": [
    "#Define the Hill function\n",
    "def funcDRC(x, Rmin, Rmax, EC50, nHill):   #create the function\n",
    "    \"\"\"\n",
    "    Return the Hill equation using Rmin, Rmax, EC50, and nHill\n",
    "\n",
    "    Args:\n",
    "        Rmin, the response effect in the absence of drug\n",
    "        Rmax, the maximum effect\n",
    "        EC50, the relative 50% effective dose or concentration\n",
    "        nHill, the Hill exponent which describes the steepness of the curve\n",
    "        \n",
    "    Returns:\n",
    "        the Hill equation function \"a * x + b\"\n",
    "    \"\"\"\n",
    "    return Rmin + (Rmax-Rmin) / (1 + (((10**(np.log10(EC50)))/(10**x))**nHill))"
   ]
  },
  {
   "cell_type": "code",
   "execution_count": null,
   "id": "3f3d111d",
   "metadata": {},
   "outputs": [],
   "source": [
    "#Combine all data\n",
    "xDRC= pd.concat([dfDRC['log[Drug 1]'], dfDRC['log[Drug 2]']])\n",
    "yDRC= pd.concat([dfDRC['Response 1'], dfDRC['Response 2']])\n",
    "\n",
    "#Fit all data\n",
    "paramsDRC, params_covarianceDRC = curve_fit(funcDRC,   #the function we try to fit to the data\n",
    "                                            xDRC,   #the x values, the log10 concentrations\n",
    "                                            yDRC,   #the y values, the responses\n",
    "                                            [0.01, 0.12, 0.2, 1])   #the starting parameters, guesses from graph"
   ]
  },
  {
   "cell_type": "code",
   "execution_count": null,
   "id": "4ee11ae1",
   "metadata": {},
   "outputs": [],
   "source": [
    "#Report the fit parameters with standard errors\n",
    "print(\"Rmin, the effect in the absence of drug = \", paramsDRC[0], \"±\", np.sqrt(np.diag(params_covarianceDRC))[0])\n",
    "print(\"Rmax, the maximum effect = \", paramsDRC[1], \"±\", np.sqrt(np.diag(params_covarianceDRC))[1])\n",
    "print(\"EC50 in (ng/ml), the relative 50% effective concentration = \", paramsDRC[2], \"±\", np.sqrt(np.diag(params_covarianceDRC))[2])\n",
    "print(\"nHill, the Hill exponent = \", paramsDRC[3], \"±\", np.sqrt(np.diag(params_covarianceDRC))[3])"
   ]
  },
  {
   "cell_type": "code",
   "execution_count": null,
   "id": "f51b63ec",
   "metadata": {},
   "outputs": [],
   "source": [
    "#Calculate the residuals\n",
    "residDRC = yDRC - funcDRC(xDRC, *paramsDRC)   #calculate the residuals, the star in *paramsDRC unpacks the array so the two optimized parameter values become the second to fifth arguments (after the x-values) to the function"
   ]
  },
  {
   "cell_type": "code",
   "execution_count": null,
   "id": "31bf039c",
   "metadata": {},
   "outputs": [],
   "source": [
    "#Generate X-values to calculate the function\n",
    "xvalues = np.linspace(-10,10,1000)   #create an array with 1000 evenly distributed elements between 0 (included) and -10 (included)\n",
    "\n",
    "#Produce a combined graph\n",
    "fig = plt.figure()   #to create a figure object\n",
    "\n",
    "xlimits = [-4, 4]   #to make sure we use the same of the X-axis boundaries for both plots\n",
    "\n",
    "ax1 = fig.add_axes([0.1, 0.51, 1, 0.8])   #to specify the coordinates, width and height of the top plot\n",
    "\n",
    "ax2 = fig.add_axes([0.1, 0.1, 1, 0.4])   #to specify the coordinates, width and height of the bottom plot\n",
    "\n",
    "\n",
    "ax1.plot(xDRC, yDRC,   #plot a set of x (= the log concentrations) ,y (=the responses) data\n",
    "         marker='o', color='gray', markersize=8, linestyle='None',   #use a round, gray marker with size 8 but no line \n",
    "         label='Data')   #add a legend label\n",
    "\n",
    "ax1.plot(xvalues, funcDRC(xvalues, *paramsDRC),   #add the fitted curve to plot. Use the generated log10 concentrations as x-values. Use the fit parameters to calculate the y-values. The star in *paramsDRC unpacks the array so the two optimized parameter values become the second to fifth arguments (after the x-values) to the function.\n",
    "         color=\"red\",   #use a red line\n",
    "         label='Fit')   #add a legend label \n",
    "\n",
    "ax1.axis(xlimits + [0, 0.12])   #sets the X-axis and Y-axis boundaries for the top plot\n",
    "ax1.tick_params(axis='x', bottom=False, labelbottom=False)   #removes the ticks and tick labels on the X-axis for the top plot\n",
    "ax1.set_ylabel('Response', fontsize=14)   #adds Y-axis title for the top plot\n",
    "ax1.legend(loc='upper left')   #include legend\n",
    "\n",
    "ax2.plot(xDRC, residDRC,     #plot a set of x (=the concentrations),y (= the residuals) data points\n",
    "          marker='o', color='gray', linestyle='None', markersize=8)   #use a round, gray marker with size 8 but no line \n",
    "\n",
    "ax2.axhline(0, color='gray', linestyle=\"--\")   #adds a horizontal line at y=0\n",
    "ax2.axis(xlimits + [-0.025,0.025])   #sets the X-axis and Y-axis boundaries for the bottom plot\n",
    "ax2.set_xlabel('log $[Drug]$ (ng ml$^{-1}$)', fontsize=14)   #adds X-axis title for the bottom plot, which is the same for the top plot\n",
    "ax2.set_ylabel('Residuals', fontsize=14)   #adds Y-axis title for the bottom plot\n",
    "\n",
    "plt.show()   #show the figure object"
   ]
  },
  {
   "cell_type": "markdown",
   "id": "fa88ad24",
   "metadata": {},
   "source": [
    "# Colorimetric assay"
   ]
  },
  {
   "cell_type": "code",
   "execution_count": null,
   "id": "8d85642c",
   "metadata": {},
   "outputs": [],
   "source": [
    "#Import the libraries\n",
    "import numpy as np\n",
    "import matplotlib.pyplot as plt\n",
    "import pandas as pd\n",
    "from scipy.optimize import curve_fit"
   ]
  },
  {
   "cell_type": "code",
   "execution_count": null,
   "id": "c6fd9f5d",
   "metadata": {},
   "outputs": [],
   "source": [
    "#Read the Excel file\n",
    "dfCA = pd.read_excel ('../data/ColorimetricAssay.xlsx',   #create a pandas DataFrame from the filename with file path and extension shown\n",
    "                    sheet_name=0,   #use the first sheet (no need to specifically include this as we use the default setting)\n",
    "                    skiprows=3,   #skip the first three rows\n",
    "                    skipfooter=3,   #skip the last three rows \n",
    "                    usecols=[6,7,8,9],   #only import columns 6 to 9 - be aware that column numbers start with zero!\n",
    "                    header=None,   #our data does not have column names\n",
    "                    names=['BSA-1','BSA-2', 'Sample-1', 'Sample-2'])   #use BSA-1, BSA-2, Sample-1, and Sample-2 as column names\n",
    "\n",
    "print (dfCA)   #print the DataFrame created"
   ]
  },
  {
   "cell_type": "code",
   "execution_count": null,
   "id": "cf74e523",
   "metadata": {},
   "outputs": [],
   "source": [
    "#Insert a column containing the concentrations of the standards\n",
    "x1 = [2000, 1500, 1000, 750, 500, 250, 125, 0]   #create a list with integers containing the concentrations\n",
    "\n",
    "dfCA.insert(0, '[BSA]', x1)   #insert the column at index 0 (i.e. make it the first column) in dfCA, name the column [BSA], and fill it with the data provided by x1\n",
    "\n",
    "print(dfCA)   #print the DataFrame created"
   ]
  },
  {
   "cell_type": "code",
   "execution_count": null,
   "id": "ae5d21ab",
   "metadata": {},
   "outputs": [],
   "source": [
    "#Plot the data\n",
    "plt.figure(figsize=(7,5))   #start a figure object\n",
    "\n",
    "plt.plot(dfCA['[BSA]'], dfCA['BSA-1'],   #plot a set of x (= the concentrations),y (= the measured absorbances) data points\n",
    "         marker='o', color='gray', markersize=8)   #use a round, gray marker with size 8\n",
    "\n",
    "plt.plot(dfCA['[BSA]'], dfCA['BSA-2'],   #plot another set of x (= the concentrations),y (= the measured absorbances) data points\n",
    "         marker='o', color='black', markersize=8)   #use a round, black marker with size 8\n",
    "\n",
    "plt.title('Standard Curve', fontsize=18)   #title of graph\n",
    "plt.xlabel('$[BSA]$ ($\\mu$g $ml^{-1}$)', fontsize=14)   #X-axis label\n",
    "plt.ylabel('Absorbance (AU)', fontsize=14)   #Y-axis label\n",
    "plt.axis([-10, 2200, 0, 1.5])   #axis boundaries, in this case from -10 to 2200 for the X-axis and 0 to 1.5 for the Y-axis\n",
    "\n",
    "plt.show()   #show the figure object"
   ]
  },
  {
   "cell_type": "code",
   "execution_count": null,
   "id": "1943b25a",
   "metadata": {},
   "outputs": [],
   "source": [
    "#Calculate mean and stdev\n",
    "dfCA['BSA-mean'] = dfCA.iloc[:,1:3].mean(axis=1)   #we use axis 1 to get the mean of the elements of one row, we use columns 1 = BSA-1 and 2 = BSA-2, represented by [1:3]. The result is added to a new column.\n",
    "dfCA['BSA-std'] = dfCA.iloc[:,1:3].std(axis=1)   #we use axis 1 to get the standard deviation of the elements of one row, we use columns 1 = BSA-1 and 2 = BSA-2, represented by [1:3]. The result is added to a new column.\n",
    "\n",
    "print(dfCA)   #print the DataFrame created"
   ]
  },
  {
   "cell_type": "code",
   "execution_count": null,
   "id": "e162ef89",
   "metadata": {},
   "outputs": [],
   "source": [
    "#Define a line\n",
    "def funcline(x, a, b):   #create the function\n",
    "    \"\"\"\n",
    "    Return a line using slope and intercept\n",
    "\n",
    "    Args:\n",
    "        the slope, a\n",
    "        the intercept, b\n",
    "        \n",
    "    Returns:\n",
    "        the line function \"a * x + b\"\n",
    "    \"\"\"\n",
    "    return a * x + b\n",
    "    \n",
    "#Define a quadratic curve\n",
    "def funcpoly2(x, a, b, c):   #create the function\n",
    "    \"\"\"\n",
    "    Return a quadratic curve using the first and second coefficients, a and b, and constant, c\n",
    "\n",
    "    Args:\n",
    "        the first coefficient, a\n",
    "        the second coefficient, b\n",
    "        the constant, c\n",
    "        \n",
    "    Returns:\n",
    "        the quadratic curve function \"a * x^2 + b * x + c\"\n",
    "    \"\"\"\n",
    "    return a * x**2 + b * x + c"
   ]
  },
  {
   "cell_type": "code",
   "execution_count": null,
   "id": "94d11a28",
   "metadata": {},
   "outputs": [],
   "source": [
    "#Fit with a line\n",
    "params1, params_covariance1 = curve_fit(funcline,   #the line function we try to fit to the data\n",
    "                                        dfCA['[BSA]'],   #the x values, the concentrations\n",
    "                                        dfCA['BSA-mean'],   #the y values, the measured absorbances\n",
    "                                        [0.1, 0.1],   #the starting parameters for a (=the slope) and b (=the intercept)\n",
    "                                        sigma=dfCA['BSA-std'],   #the standard deviations used for weighted fitting\n",
    "                                        absolute_sigma=True)   #use sigma (=the standard deviations) in an absolute sense\n",
    "\n",
    "#Fit with a quadratic curve\n",
    "params2, params_covariance2 = curve_fit(funcpoly2,   #the quadratic curve function we try to fit to the data\n",
    "                                        dfCA['[BSA]'],   #the x values, the concentrations\n",
    "                                        dfCA['BSA-mean'],   #the y values, the measured absorbances\n",
    "                                        [0.1, 0.1, 0.1],   #the starting parameters for a (=the first coefficient), b (=the second coefficient), and c (=the constant)\n",
    "                                        sigma=dfCA['BSA-std'],   #the standard deviations used for weighted fitting\n",
    "                                        absolute_sigma=True)   #use sigma (=the standard deviations) in an absolute sense"
   ]
  },
  {
   "cell_type": "code",
   "execution_count": null,
   "id": "9f11733a",
   "metadata": {},
   "outputs": [],
   "source": [
    "#Report the fit parameters with standard errors for the line function\n",
    "print(\"Slope, a = \", params1[0], \"±\", np.sqrt(np.diag(params_covariance1))[0])\n",
    "print(\"Intercept, b = \", params1[1], \"±\", np.sqrt(np.diag(params_covariance1))[1])\n",
    "\n",
    "#Report the fit parameters with standard errors for the quadratic function\n",
    "print(\"First coefficient, a =\", params2[0], \"±\", np.sqrt(np.diag(params_covariance2))[0])\n",
    "print(\"Second coefficient, b = \", params2[1], \"±\", np.sqrt(np.diag(params_covariance2))[1])\n",
    "print(\"Constant, c = \", params2[2], \"±\", np.sqrt(np.diag(params_covariance2))[2])"
   ]
  },
  {
   "cell_type": "code",
   "execution_count": null,
   "id": "1966a851",
   "metadata": {},
   "outputs": [],
   "source": [
    "#Calculate the residuals for the line function\n",
    "resid1 = dfCA['BSA-mean'] - funcline(dfCA['[BSA]'], *params1)   #calculate the residuals, the star in _*params1_ unpacks the array so the two optimized parameter values become the second and third arguments (after the x-values) to the function\n",
    "\n",
    "#Calculate the residuals for the quadratic function\n",
    "resid2 = dfCA['BSA-mean'] - funcpoly2(dfCA['[BSA]'], *params2)   #calculate the residuals, the star in _*params2_ unpacks the array so the two optimized parameter values become the second, third, and fourth arguments (after the x-values) to the function"
   ]
  },
  {
   "cell_type": "code",
   "execution_count": null,
   "id": "d7840ded",
   "metadata": {},
   "outputs": [],
   "source": [
    "#Generate X-values to calculate the function\n",
    "xvalues = np.linspace(0, 2200, 100)   #create an array with 100 evenly distributed elements between 0 (included) and 2200 (included)\n",
    "\n",
    "#Produce a combined graph\n",
    "fig = plt.figure()   #to create a figure object\n",
    "\n",
    "xlimits = [0, 2200]   #to make sure we use the same of the X-axis boundaries for both plots\n",
    "\n",
    "ax1 = fig.add_axes([0.1, 0.53, 1, 0.81])   #to specify the coordinates, width and height of the top plot\n",
    "\n",
    "ax2 = fig.add_axes([0.1, 0.1, 1, 0.4])   #to specify the coordinates, width and height of the bottom plot\n",
    "\n",
    "ax1.errorbar(dfCA['[BSA]'], dfCA['BSA-mean'],   #plot a set of x (= the concentrations),y (= the mean absorbances) data points\n",
    "             yerr=dfCA['BSA-std'],   #use an error bar (= the standard deviations)\n",
    "             fmt='o', color='black', ecolor='black', #use a round, black marker with size 8\n",
    "             label='Data')   #add a legend label\n",
    "\n",
    "ax1.plot(xvalues, funcline(xvalues, *params1),   #add the fitted line to plot. Use the generated BSA concentrations as x-values. Use the fitted parameters to calculate the y-values. The star in _*params1_ unpacks the array so the two optimized parameter values become the second and third arguments (after the x-values) to the function.\n",
    "         color=\"gray\", linestyle='-',   #use a gray line\n",
    "         label='Fit $y=ax+b$')   #add a legend label\n",
    "\n",
    "ax1.plot(xvalues, funcpoly2(xvalues, *params2),   #add the fitted quadratic curve to plot. Use the generated BSA concentrations as x-values. Use the fitted parameters to calculate the y-values. The star in _*params2_ unpacks the array so the two optimized parameter values become the second, third, and fourth arguments (after the x-values) to the function.\n",
    "         color=\"red\", linestyle='-',   #use a red line\n",
    "         label='Fit $y=ax^2+bx$+c')   #add a legend label\n",
    "\n",
    "ax1.axis(xlimits + [0, 1.5])   #sets the X-axis and Y-axis boundaries for the top plot\n",
    "ax1.tick_params(axis='x', bottom=False, labelbottom=False)   #removes the ticks and tick labels on the X-axis for the top plot\n",
    "ax1.set_ylabel('Absorbance (AU)')   #adds Y-axis title for the top plot\n",
    "ax1.legend(loc='upper left')   #include legend\n",
    "\n",
    "ax2.plot(dfCA['[BSA]'], resid1,   #plot a set of x (= the concentrations),y (= the residuals for y=ax) data points\n",
    "         marker='o', color='gray', linestyle='-', markersize=8,   #use gray datapoints size 8 and a line\n",
    "         label='Residuals $y=ax+b$')   #add a legend label\n",
    "\n",
    "ax2.plot(dfCA['[BSA]'], resid2,   #plot a set of x (= the concentrations),y (= the residuals for y=ax^2+bx+c) data points\n",
    "         marker='o', color='red', linestyle='-', markersize=8,   #use red datapoints size 8 and a line\n",
    "         label='Residuals $y=ax^2+bx$+c')   #add a legend label\n",
    "\n",
    "ax2.axhline(0, color='gray', linestyle=\"--\")   #adds a horizontal line at y=0\n",
    "ax2.axis(xlimits + [-0.2,0.2])   #sets the X-axis and Y-axis boundaries for the bottom plot\n",
    "ax2.set_xlabel('$[BSA]$ ($\\mu$g $ml^{-1}$)')   #adds X-axis title for the bottom plot, which is the same for the top plot\n",
    "ax2.set_ylabel('Absorbance (AU)')   #adds Y-axis title for the bottom plot\n",
    "ax2.legend(loc='lower left')   #include legend\n",
    "\n",
    "plt.show()   #show the figure object"
   ]
  },
  {
   "cell_type": "code",
   "execution_count": null,
   "id": "87044301",
   "metadata": {},
   "outputs": [],
   "source": [
    "#Calculate the concentration for each of the dilution factors\n",
    "def solcalc(y, a, b, c):   #create the function\n",
    "    \"\"\"\n",
    "    Solve the quadratic equation for x when y is given using the quadratic formula\n",
    "\n",
    "    Args:\n",
    "        the first coefficient, a\n",
    "        the second coefficient, b\n",
    "        the constant, c\n",
    "        \n",
    "    Returns:\n",
    "        the solution x-values of a quadratic equation with y given\n",
    "    \"\"\"\n",
    "    return (-b + np.sqrt(b**2 - 4 * a * (c-y)))/(2 * a)\n",
    "\n",
    "dfCA['Solution-1'] = dfCA['Sample-1'].apply(solcalc, args=params2.tolist())   #apply the function that calculates the solution x-values of a quadratic equation with y given to the Sample-1 absorbances. Use the fitted parameters (converted from NumPy array to list) as arguments for the function (after the y-values). \n",
    "dfCA['Solution-2'] = dfCA['Sample-2'].apply(solcalc, args=params2.tolist())   #apply the function that calculates the solution x-values of a quadratic equation with y given to the Sample-2 absorbances. Use the fitted parameters (converted from NumPy array to list) as arguments for the function (after the y-values). "
   ]
  },
  {
   "cell_type": "code",
   "execution_count": null,
   "id": "fcb31f7f",
   "metadata": {},
   "outputs": [],
   "source": [
    "#Take the dilution factors into account\n",
    "dfCA['DF'] = [2.5, 5, 10, 20, 0, 0, 0, 0]   #add a column containing the dilution factors\n",
    "dfCA['Concentration-1'] = dfCA['Solution-1'] * dfCA['DF']   #add a column with the calculated values for undiluted samples for 1\n",
    "dfCA['Concentration-2'] = dfCA['Solution-2'] * dfCA['DF']   #add a column with the calculated values for undiluted samples for 2\n",
    "print(dfCA)   #print the DataFrame"
   ]
  },
  {
   "cell_type": "code",
   "execution_count": null,
   "id": "80d87657",
   "metadata": {},
   "outputs": [],
   "source": [
    "#Calculate the overal concentration\n",
    "dfCAnew=dfCA.iloc[0:3,-2:]   #create a new DataFrame containing all values you want to calculate the mean and standard deviation for\n",
    "print(dfCAnew)   #print the new DataFrame \n",
    "\n",
    "print(np.array(dfCAnew).mean())   #convert the new DataFrame into a NumPy array and calulcate the mean of all elements\n",
    "print(np.array(dfCAnew).std())   #convert the new DataFrame into a NumPy array and calulcate the standard deviation of all elements"
   ]
  },
  {
   "cell_type": "markdown",
   "id": "9549dfe1",
   "metadata": {
    "collapsed": true
   },
   "source": [
    "# Redox potential"
   ]
  },
  {
   "cell_type": "code",
   "execution_count": null,
   "id": "48f639de",
   "metadata": {},
   "outputs": [],
   "source": [
    "#Import the libraries\n",
    "import numpy as np\n",
    "import matplotlib.pyplot as plt\n",
    "import pandas as pd\n",
    "from scipy.optimize import curve_fit"
   ]
  },
  {
   "cell_type": "code",
   "execution_count": null,
   "id": "d0683a4b",
   "metadata": {},
   "outputs": [],
   "source": [
    "#Read the Excel file\n",
    "dfRP = pd.read_excel ('../data/RedoxPotential.xlsx',   #create a pandas DataFrame from the filename with file path and extension shown\n",
    "                    sheet_name=0,   #use the first sheet (no need to specifically include this as we use the default setting)\n",
    "                    header=0)   #our data has column names\n",
    "\n",
    "print(dfRP)   #print the DataFrame created"
   ]
  },
  {
   "cell_type": "code",
   "execution_count": null,
   "id": "b2535589",
   "metadata": {},
   "outputs": [],
   "source": [
    "#Calculate log10([Ferrocyanide]/[Ferricyanide])\n",
    "\n",
    "dfRP['Log10([FerroCN]/[FerriCN])'] = np.log10((dfRP.iloc[2:,2] / dfRP.iloc[2:,1]))   #Calculate log10([Ferrocyanide]/[Ferricyanide]), but not for the first two rows as specified using iloc[start_index_row:(to end row), index_column] = [2:,2] and [2:,1] with column 1 (we start counting from 0!) = [Ferricyanide] and column 2 = [Ferrocyanide]. Store the information in a new column called 'Log10([FerroCN]/[FerriCN])'.\n",
    "\n",
    "print(dfRP)   #print the DataFrame created"
   ]
  },
  {
   "cell_type": "code",
   "execution_count": null,
   "id": "ed8d87ba",
   "metadata": {},
   "outputs": [],
   "source": [
    "#Calculate log10([FerrocytC]/[FerricytC]) using a function\n",
    "def funclog10_FerrocytC_FerricytC(Aobs, Aferri, Aferro):   #create the function\n",
    "    \"\"\"\n",
    "    Calculate log10([FerrocytC]/[FerricytC]) = log10((Aobs - Aferri)/(Aferro - Aobs))\n",
    "\n",
    "    Args:\n",
    "        Aobs in AU = the observed signal for a mixture of ferro- and ferricyt c. The column containing the absorbances at 550 nm (in AU) in the presence of 25 to 300 μM ferricyanide and 9.975 to 9.700 mM ferrocyanide.\n",
    "        Aferri in AU = the observed signal for fully oxidized cyt c, i.e. ferricyt c. The absorbance at 550 nm (in AU) in the presence of 10 mM potassium ferricyanide.\n",
    "        Aferro in AU = the observed signal for fully reduced cyt c, i.e. ferrocyt c. The absorbance at 550 nm (in AU) in the presence of 10 mM sodium dithionite.\n",
    "\n",
    "    Returns:\n",
    "        log10([FerrocytC]/[FerricytC])\n",
    "    \"\"\"\n",
    "    log10FerrocytCFerricytC = np.log10((Aobs-Aferri) / (Aferro-Aobs))\n",
    "    return log10FerrocytCFerricytC\n",
    "\n",
    "dfRP['Log10([FerrocytC]/[FerricytC])'] = dfRP.iloc[2:,0].apply(funclog10_FerrocytC_FerricytC,   #Apply the function with arguments Aferri and Aferro (after Aobs) to our data set. Use iloc[start_index_row:(to end row), index_column] = [2:,0] to select Aobs for the data set but not for the first two rows. Store the information in a new column called 'Log10([FerrocytC]/[FerricytC])'.\n",
    "                                                                   args=(dfRP.iloc[0,0], dfRP.iloc[1,0]))   #Use iloc[index_row,index_column] to select Aferri = [0,0] and Aferro = [1,0] for the data set. \n",
    "\n",
    "print(dfRP)   #print the DataFrame created"
   ]
  },
  {
   "cell_type": "code",
   "execution_count": null,
   "id": "3c636284",
   "metadata": {},
   "outputs": [],
   "source": [
    "#Plot the data\n",
    "plt.figure(figsize=(7,5))   #start a figure object\n",
    "\n",
    "plt.plot(dfRP.iloc[2:,4], dfRP.iloc[2:,5],   #plot a set of x (= Log10([FerroCN]/[FerriCN]), i.e. column 4),y (= Log10([FerrocytC]/[FerricytC]), i.e. column 5) data points, but do not include the first two rows as specified using iloc[start_index_row:(to end row), index_column] = [2:,4] and [2:,5]\n",
    "         marker='o', color='gray', markersize=8, linestyle='None',   #use a round, gray marker with size 8; use no line\n",
    "         label='Data')   #add a legend label\n",
    "       \n",
    "plt.title('Cytochrome c', fontsize=18)   #title of graph\n",
    "plt.xlabel('$log10([Ferrocyanide]/[Ferricyanide]$)', fontsize=14)   #X-axis label\n",
    "plt.ylabel('$log10([FerrocytC]/[FerricytC])$', fontsize=14)   #Y-axis label\n",
    "plt.axis([1, 3, -1.5, 0])   #axis boundaries, in this case from 1 to 3 for the X-axis and -1.5 to 0 for the Y-axis\n",
    "plt.legend(loc='lower right')   #show legend in lower right corner\n",
    "\n",
    "plt.show()   #show the figure object"
   ]
  },
  {
   "cell_type": "code",
   "execution_count": null,
   "id": "030d8e6f",
   "metadata": {},
   "outputs": [],
   "source": [
    "#Define a line\n",
    "def funcline(x, a, b):   #create the function\n",
    "    \"\"\"\n",
    "    Return a line using slope and intercept\n",
    "\n",
    "    Args:\n",
    "        the slope, a\n",
    "        the intercept, b\n",
    "        \n",
    "    Returns:\n",
    "        the line function \"a * x + b\"\n",
    "    \"\"\"\n",
    "    return a * x + b\n",
    "\n",
    "#Fit the data with a line\n",
    "paramsCraig, params_covCraig = curve_fit(funcline,   #the line function we try to fit to the data\n",
    "                                         dfRP.iloc[2:,4],   #the x values, Log10([FerroCN]/[FerriCN]), but not the first two rows\n",
    "                                         dfRP.iloc[2:,5],   #the y values, Log10([FerrocytC]/[FerricytC]), but not the first two rows\n",
    "                                         [1, -2])   #the starting parameters for a (=the slope) and b (=the intercept)\n",
    "\n",
    "#Report the fit parameters with standard errors for the line function\n",
    "print(\"Slope, a = \", paramsCraig[0], \"±\", np.sqrt(np.diag(params_covCraig))[0])\n",
    "print(\"Intercept, b = \", paramsCraig[1], \"±\", np.sqrt(np.diag(params_covCraig))[1])"
   ]
  },
  {
   "cell_type": "code",
   "execution_count": null,
   "id": "e6ff5444",
   "metadata": {},
   "outputs": [],
   "source": [
    "#Calculate the residuals\n",
    "resid = dfRP.iloc[2:,5] - funcline(dfRP.iloc[2:,4], *paramsCraig)   #calculate the residuals, the star in _*paramsCraig_ unpacks the array so the two optimized parameter values become the second and third arguments (after the x-values) to the function"
   ]
  },
  {
   "cell_type": "code",
   "execution_count": null,
   "id": "7db8203f",
   "metadata": {},
   "outputs": [],
   "source": [
    "#Generate X-values to calculate the function\n",
    "xvalues = np.linspace(1, 3, 100)   #create an array with 100 evenly distributed elements between 0 (included) and 3 (included)\n",
    "\n",
    "#Produce a combined graph\n",
    "fig = plt.figure()   #to create a figure object\n",
    "\n",
    "xlimits = [1, 3]   #to make sure we use the same of the X-axis boundaries for both plots\n",
    "\n",
    "ax1 = fig.add_axes([0.1, 0.53, 1, 0.81])   #to specify the coordinates, width and height of the top plot\n",
    "\n",
    "ax2 = fig.add_axes([0.1, 0.1, 1, 0.4])   #to specify the coordinates, width and height of the bottom plot\n",
    "\n",
    "ax1.plot(dfRP.iloc[2:,4], dfRP.iloc[2:,5],   #plot a set of x (= Log10([FerroCN]/[FerriCN]), i.e. column 4),y (= Log10([FerrocytC]/[FerricytC]), i.e. column 5) data points, but do not include the first two rows as specified using iloc[start_index_row:(to end row), index_column] = [2:,4] and [2:,5]\n",
    "         marker='o', color='gray', markersize=8, linestyle='None',   #use a round, gray marker with size 8; use no line\n",
    "         label='Data')   #add a legend label\n",
    "\n",
    "ax1.plot(xvalues, funcline(xvalues, *paramsCraig),   #add the fitted line to plot. Use the generated Log10([FerroCN]/[FerriCN] array as x-values. Use the fitted parameters to calculate the y-values. The star in _*paramsCraig_ unpacks the array so the two optimized parameter values become the second and third arguments (after the x-values) to the function.\n",
    "         color=\"gray\", linestyle='-',   #use a gray line\n",
    "         label='Fit')   #add a legend label\n",
    "\n",
    "ax1.axis(xlimits + [-1.5, 0])   #sets the X-axis and Y-axis boundaries for the top plot\n",
    "ax1.tick_params(axis='x', bottom=False, labelbottom=False)   #removes the ticks and tick labels on the X-axis for the top plot\n",
    "ax1.set_ylabel('$log10([FerrocytC]/[FerricytC])$')   #adds Y-axis title for the top plot\n",
    "ax1.legend(loc='upper left')   #include legend\n",
    "\n",
    "ax2.plot(dfRP.iloc[2:,4], resid,   #plot a set of x (= Log10([FerroCN]/[FerriCN]),y (= the residuals for y=ax+b) data points\n",
    "         marker='o', color='gray', linestyle='None', markersize=8)   #use gray datapoints size 8 and no line\n",
    "         \n",
    "ax2.axhline(0, color='gray', linestyle=\"--\")   #adds a horizontal line at y=0\n",
    "ax2.axis(xlimits + [-0.1,0.1])   #sets the X-axis and Y-axis boundaries for the bottom plot\n",
    "ax2.set_xlabel('$log10([Ferrocyanide]/[Ferricyanide]$')   #adds X-axis title for the bottom plot, which is the same for the top plot\n",
    "ax2.set_ylabel('Residuals')   #adds Y-axis title for the bottom plot\n",
    "\n",
    "plt.show()   #show the figure object"
   ]
  },
  {
   "cell_type": "code",
   "execution_count": null,
   "id": "bf33ef78",
   "metadata": {},
   "outputs": [],
   "source": [
    "#Define the function\n",
    "def funcmidredpot(a, b, da, db):   #create the function\n",
    "    \"\"\"\n",
    "    Return the midpoint redox potential with uncertainty\n",
    "\n",
    "    Args:\n",
    "        the slope, a\n",
    "        the standard deviation of the slope, da\n",
    "        the intercept, b\n",
    "        the standard deviation of the intercept, db\n",
    "        \n",
    "    Returns:\n",
    "        the midpoint redox potential \n",
    "        the uncertainty of the midpoint redox potential, using error propagation rules\n",
    "    \"\"\"\n",
    "    rp = 0.430 - 0.059 * (-b / a)\n",
    "    drp = 0.059 * np.sqrt((a**2 * db**2 + b**2 * da**2)/(a**4))\n",
    "    \n",
    "    return rp, drp\n",
    "\n",
    "#Apply the function\n",
    "midredpot = funcmidredpot(*paramsCraig, *np.sqrt(np.diag(params_covCraig)))    #Use the fitted parameters with standard deviations (the stars unpack both arrays) as arguments for the function. \n",
    "\n",
    "print(\"The midpoint redox potential of cytochrome c is\", midredpot[0], \"+/-\", midredpot[1], \"V. The uncertainty is one standard deviation and is derived from the errors on the fit.\")   #Print the result of the experiment."
   ]
  },
  {
   "cell_type": "markdown",
   "id": "fe888e1a",
   "metadata": {},
   "source": [
    "# Chemical unfolding"
   ]
  },
  {
   "cell_type": "code",
   "execution_count": null,
   "id": "e76dcd80",
   "metadata": {},
   "outputs": [],
   "source": [
    "#Import the libraries\n",
    "import numpy as np\n",
    "import matplotlib.pyplot as plt\n",
    "import pandas as pd\n",
    "from scipy.optimize import curve_fit"
   ]
  },
  {
   "cell_type": "code",
   "execution_count": null,
   "id": "7f1bb714",
   "metadata": {},
   "outputs": [],
   "source": [
    "#Read the Excel file\n",
    "dfCU = pd.read_excel ('../data/ChemicalUnfoldingAssay.xlsx',   #create a pandas DataFrame from the filename with file path and extension shown\n",
    "                    sheet_name=0,   #use the first sheet (no need to specifically include this as we use the default setting)\n",
    "                    header=0)   #our data has column names\n",
    "\n",
    "print(dfCU)   #print the DataFrame created"
   ]
  },
  {
   "cell_type": "code",
   "execution_count": null,
   "id": "4e22d35e",
   "metadata": {},
   "outputs": [],
   "source": [
    "#Plot the data\n",
    "plt.figure(figsize=(7,5))   #start a figure object\n",
    "\n",
    "plt.plot(dfCU.iloc[:,0], dfCU.iloc[:,1],   #plot a set of x (= [GdnHCl], i.e. column 1),y (= epsilon), i.e. column 2) data points\n",
    "         marker='o', color='gray', markersize=8, linestyle='None',   #use a round, gray marker with size 8; use no line\n",
    "         label='Data')   #add a legend label\n",
    "       \n",
    "plt.title('Chemical unfolding', fontsize=18)   #title of graph\n",
    "plt.xlabel('$[GdnHCl] (M)$', fontsize=14)   #X-axis label\n",
    "plt.ylabel('$\\epsilon_{222nm} (mdeg)$', fontsize=14)   #Y-axis label\n",
    "plt.axis([-0.1, 6.5, -15.5, -2.5])   #axis boundaries, in this case from -0.1 to 6.5 for the X-axis and -15.5 to -2.5 for the Y-axis\n",
    "plt.legend(loc='lower right')   #show legend in lower right corner\n",
    "\n",
    "plt.show()   #show the figure object"
   ]
  },
  {
   "cell_type": "code",
   "execution_count": null,
   "id": "9b384059",
   "metadata": {},
   "outputs": [],
   "source": [
    "#Define the temperature\n",
    "temp = 20\n",
    "\n",
    "#Define the chemical unfolding function\n",
    "def chemicalunfolding(x, yn, mn, yu, mu, DGu, m):\n",
    "    return ((yn + mn * x) + (yu + mu * x) * np.exp(-((DGu + m * x) / (8.314 * (273.15 + temp))))) / (1 + np.exp(-((DGu + m * x) / (8.314 * (273.15 + temp)))))"
   ]
  },
  {
   "cell_type": "code",
   "execution_count": null,
   "id": "54f9d02a",
   "metadata": {},
   "outputs": [],
   "source": [
    "#Create a list of GdnHCl concentrations as input for the function\n",
    "GdnHClin=np.linspace(0, 10, 100)\n",
    "\n",
    "#Test the initial guesses for the fitting parameters\n",
    "plt.figure(figsize=(7,5))   #start a figure object\n",
    "\n",
    "plt.plot(dfCU.iloc[:,0], dfCU.iloc[:,1],   #plot a set of x (= [GdnHCl], i.e. column 1),y (= epsilon), i.e. column 2) data points\n",
    "         marker='o', color='gray', markersize=8, linestyle='None',   #use a round, gray marker with size 8; use no line\n",
    "         label='Data')   #add a legend label\n",
    "\n",
    "plt.plot(GdnHClin, chemicalunfolding(GdnHClin, -15, 0, -4, 0.1, 20000, -5000), #Test my guesses for the initial parameters. Use the generated GdnHCl array between 0 and 10 as x-values.\n",
    "         color=\"red\", linestyle='solid',   #use red, solid line\n",
    "         label='Guesses')   #add a legend label\n",
    "         \n",
    "plt.title('Chemical unfolding', fontsize=18)   #title of graph\n",
    "plt.xlabel('$[GdnHCl] (M)$', fontsize=14)   #X-axis label\n",
    "plt.ylabel('$\\epsilon_{222nm} (mdeg)$', fontsize=14)   #Y-axis label\n",
    "plt.axis([-0.1, 6.5, -15.5, -2.5])   #axis boundaries, in this case from -0.1 to 6.5 for the X-axis and -15.5 to -2.5 for the Y-axis\n",
    "plt.legend(loc='lower right')   #show legend in lower right corner\n",
    "\n",
    "plt.show()   #show the figure object"
   ]
  },
  {
   "cell_type": "code",
   "execution_count": null,
   "id": "0714a75c",
   "metadata": {},
   "outputs": [],
   "source": [
    "#Fit the data with the chemical unfolding curve\n",
    "paramsCU, params_covCU = curve_fit(chemicalunfolding,   #the line function we try to fit to the data\n",
    "                                          dfCU.iloc[:,0],   #the x values\n",
    "                                          dfCU.iloc[:,1],   #the y values\n",
    "                                          [-15, 0, -4, 0.1, 20000, -5000]) #my guesses for the initial parameters\n",
    "\n",
    "#Report the fit parameters with standard errors for the line function\n",
    "print(\"Yn = \", paramsCU[0], \"±\", np.sqrt(np.diag(params_covCU))[0])\n",
    "print(\"Yu = \", paramsCU[2], \"±\", np.sqrt(np.diag(params_covCU))[2])\n",
    "print(\"mn = \", paramsCU[1], \"±\", np.sqrt(np.diag(params_covCU))[1])\n",
    "print(\"mu = \", paramsCU[3], \"±\", np.sqrt(np.diag(params_covCU))[3])\n",
    "print(\"DGu = \", paramsCU[4], \"±\", np.sqrt(np.diag(params_covCU))[4])\n",
    "print(\"m = \", paramsCU[5], \"±\", np.sqrt(np.diag(params_covCU))[5])"
   ]
  },
  {
   "cell_type": "code",
   "execution_count": null,
   "id": "f97db537",
   "metadata": {},
   "outputs": [],
   "source": [
    "#Calculate the residuals\n",
    "resid = dfCU.iloc[:,1] - chemicalunfolding(dfCU.iloc[:,0], *paramsCU)   #calculate the residuals, the star in _*paramsCU_ unpacks the array so the optimized parameter values become the arguments (after the x-values) to the function\n",
    "\n",
    "#Produce a combined graph\n",
    "fig = plt.figure()   #to create a figure object\n",
    "\n",
    "xlimits = [-0.1, 6.1]   #to make sure we use the same of the X-axis boundaries for both plots\n",
    "\n",
    "ax1 = fig.add_axes([0.1, 0.53, 1, 0.81])   #to specify the coordinates, width and height of the top plot\n",
    "\n",
    "ax2 = fig.add_axes([0.1, 0.1, 1, 0.4])   #to specify the coordinates, width and height of the bottom plot\n",
    "\n",
    "ax1.plot(dfCU.iloc[:,0], dfCU.iloc[:,1],   #plot a set of x (= [GdnHCl], i.e. column 1),y (= epsilon), i.e. column 2) data points\n",
    "         marker='o', color='gray', markersize=8, linestyle='None',   #use a round, gray marker with size 8; use no line\n",
    "         label='Data')   #add a legend label\n",
    "\n",
    "ax1.plot(GdnHClin, chemicalunfolding(GdnHClin, *paramsCU),   #Add the fitted line to plot. Use the generated GdnHCl array between 0 and 10 as x-values. Use the fitted parameters to calculate the y-values. The star in _*paramsCU_ unpacks the array so the optimized parameter values become the arguments (after the x-values) to the function.\n",
    "         color=\"gray\", linestyle='-',   #use a gray, solid line\n",
    "         label='Fit')   #add a legend label\n",
    "\n",
    "ax1.axis(xlimits + [-15.5, -2.5])   #sets the X-axis and Y-axis boundaries for the top plot\n",
    "ax1.tick_params(axis='x', bottom=False, labelbottom=False)   #removes the ticks and tick labels on the X-axis for the top plot\n",
    "ax1.set_ylabel('$\\epsilon_{222nm} (mdeg)$')   #adds Y-axis title for the top plot\n",
    "ax1.legend(loc='upper left')   #include legend\n",
    "\n",
    "ax2.plot(dfCU.iloc[:,0], resid,   #plot a set of x (= [GdnHCl]),y (= the residuals) data points\n",
    "         marker='o', color='gray', linestyle='None', markersize=8)   #use gray datapoints size 8 and no line\n",
    "         \n",
    "ax2.axhline(0, color='gray', linestyle=\"--\")   #adds a horizontal line at y=0\n",
    "ax2.axis(xlimits + [-0.3,0.3])   #sets the X-axis and Y-axis boundaries (needs some trial and error to find the right ones!) for the bottom plot\n",
    "ax2.set_xlabel('$[GdnHCl] (M)$')   #adds X-axis title for the bottom plot, which is the same for the top plot\n",
    "ax2.set_ylabel('Residuals')   #adds Y-axis title for the bottom plot\n",
    "\n",
    "plt.show()   #show the figure object"
   ]
  },
  {
   "cell_type": "markdown",
   "id": "70ebb408",
   "metadata": {},
   "source": [
    "# Michaelis-Menten curve"
   ]
  },
  {
   "cell_type": "code",
   "execution_count": 1,
   "id": "86883b8c",
   "metadata": {},
   "outputs": [],
   "source": [
    "#Import the libraries\n",
    "import numpy as np\n",
    "import matplotlib.pyplot as plt\n",
    "import pandas as pd\n",
    "from scipy.optimize import curve_fit"
   ]
  },
  {
   "cell_type": "code",
   "execution_count": 2,
   "id": "08bbe25a",
   "metadata": {},
   "outputs": [
    {
     "name": "stdout",
     "output_type": "stream",
     "text": [
      "    [S]0 (µM)  v0 (mM s-1)\n",
      "0         0.0    -0.024261\n",
      "1         2.5     0.281586\n",
      "2         5.0     0.503380\n",
      "3        10.0     0.882312\n",
      "4        20.0     1.528808\n",
      "5        40.0     1.963921\n",
      "6        80.0     2.322012\n",
      "7       160.0     2.426638\n",
      "8       320.0     2.783801\n",
      "9       640.0     2.874228\n",
      "10     1280.0     2.734735\n"
     ]
    }
   ],
   "source": [
    "#Read the Excel file\n",
    "dfEK = pd.read_excel ('../data/EnzymeKineticsAssay.xlsx',   #create a pandas DataFrame from the filename with file path and extension shown\n",
    "                    sheet_name=0,   #use the first sheet (no need to specifically include this as we use the default setting)\n",
    "                    header=0)   #our data has column names\n",
    "\n",
    "print(dfEK)   #print the DataFrame created"
   ]
  },
  {
   "cell_type": "code",
   "execution_count": 6,
   "id": "67024ea9",
   "metadata": {},
   "outputs": [
    {
     "data": {
      "image/png": "[encoded data removed]",
      "text/plain": [
       "<Figure size 700x500 with 1 Axes>"
      ]
     },
     "metadata": {},
     "output_type": "display_data"
    }
   ],
   "source": [
    "#Plot the data\n",
    "plt.figure(figsize=(7,5))   #start a figure object\n",
    "\n",
    "plt.plot(dfEK.iloc[:,0], dfEK.iloc[:,1],   #plot a set of x (= [S]0, i.e. column 1),y (= V0), i.e. column 2) data points\n",
    "         marker='o', color='gray', markersize=8, linestyle='None',   #use a round, gray marker with size 8; use no line\n",
    "         label='Data')   #add a legend label\n",
    "       \n",
    "plt.title('Michaelis-Menten curve', fontsize=18)   #title of graph\n",
    "plt.xlabel('$[S]_0$ in $\\mu$$M$', fontsize=14)   #X-axis label\n",
    "plt.ylabel('$v_0$ in $mM s^{-1}$', fontsize=14)   #Y-axis label\n",
    "plt.axis([-0.1, 1300, -0.05, 3])   #axis boundaries, in this case from -0.1 to 1300 for the X-axis and -0.05 to 3 for the Y-axis\n",
    "plt.legend(loc='lower right')   #show legend in lower right corner\n",
    "\n",
    "plt.show()   #show the figure object"
   ]
  },
  {
   "cell_type": "code",
   "execution_count": 7,
   "id": "d499ce9a",
   "metadata": {},
   "outputs": [],
   "source": [
    "#Define the Michaelis-Menten function\n",
    "def MichaelisMentenF(x, Km, Vmax) :\n",
    "    return (Vmax * x)/(Km + x)"
   ]
  },
  {
   "cell_type": "code",
   "execution_count": 12,
   "id": "e50f7041",
   "metadata": {},
   "outputs": [
    {
     "data": {
      "image/png": "[encoded data removed]",
      "text/plain": [
       "<Figure size 700x500 with 1 Axes>"
      ]
     },
     "metadata": {},
     "output_type": "display_data"
    }
   ],
   "source": [
    "#Create a list of substrate concentrations as input for the function\n",
    "Sin=np.linspace(0, 1500, 1000)\n",
    "\n",
    "#Test the initial guesses for the fitting parameters\n",
    "plt.figure(figsize=(7,5))   #start a figure object\n",
    "\n",
    "plt.plot(dfEK.iloc[:,0], dfEK.iloc[:,1],   #plot a set of x (= [GdnHCl], i.e. column 1),y (= θ), i.e. column 2) data points\n",
    "         marker='o', color='gray', markersize=8, linestyle='None',   #use a round, gray marker with size 8; use no line\n",
    "         label='Data')   #add a legend label\n",
    "\n",
    "plt.plot(Sin, MichaelisMentenF(Sin, 20, 2.8), #Test my guesses for the initial parameters. Use the generated [S]0 array between 0 and 1500 as x-values.\n",
    "         color=\"red\", linestyle='solid',   #use red, solid line\n",
    "         label='Guesses')   #add a legend label\n",
    "         \n",
    "plt.title('Michaelis-Menten curve', fontsize=18)   #title of graph\n",
    "plt.xlabel('$[S]_0$ in $\\mu$$M$', fontsize=14)   #X-axis label\n",
    "plt.ylabel('$v_0$ in $mM s^{-1}$', fontsize=14)   #Y-axis label\n",
    "plt.axis([-0.1, 1300, -0.05, 3])   #axis boundaries, in this case from -0.1 to 1300 for the X-axis and -0.05 to 3 for the Y-axis\n",
    "plt.legend(loc='lower right')   #show legend in lower right corner\n",
    "\n",
    "plt.show()   #show the figure object"
   ]
  },
  {
   "cell_type": "code",
   "execution_count": 13,
   "id": "ff66b2d6",
   "metadata": {},
   "outputs": [
    {
     "name": "stdout",
     "output_type": "stream",
     "text": [
      "Km =  20.116403196685493 ± 1.5716578691778114\n",
      "Vmax =  2.877072644358705 ± 0.048488907316231296\n"
     ]
    }
   ],
   "source": [
    "#Fit the data with the chemical unfolding curve\n",
    "paramsEK, params_covEK = curve_fit(MichaelisMentenF,   #the line function we try to fit to the data\n",
    "                                          dfEK.iloc[:,0],   #the x values\n",
    "                                          dfEK.iloc[:,1],   #the y values\n",
    "                                          [20, 2.8]) #my guesses for the initial parameters\n",
    "\n",
    "#Report the fit parameters with standard errors for the line function\n",
    "print(\"Km = \", paramsEK[0], \"±\", np.sqrt(np.diag(params_covEK))[0])\n",
    "print(\"Vmax = \", paramsEK[1], \"±\", np.sqrt(np.diag(params_covEK))[1])"
   ]
  },
  {
   "cell_type": "code",
   "execution_count": 17,
   "id": "00bbff7a",
   "metadata": {},
   "outputs": [
    {
     "data": {
      "image/png": "[encoded data removed]",
      "text/plain": [
       "<Figure size 640x480 with 2 Axes>"
      ]
     },
     "metadata": {},
     "output_type": "display_data"
    }
   ],
   "source": [
    "#Calculate the residuals\n",
    "resid = dfEK.iloc[:,1] - MichaelisMentenF(dfEK.iloc[:,0], *paramsEK)   #calculate the residuals, the star in _*paramsEK_ unpacks the array so the optimized parameter values become the arguments (after the x-values) to the function\n",
    "\n",
    "#Produce a combined graph\n",
    "fig = plt.figure()   #to create a figure object\n",
    "\n",
    "xlimits = [-0.1, 1300]   #to make sure we use the same of the X-axis boundaries for both plots\n",
    "\n",
    "ax1 = fig.add_axes([0.1, 0.53, 1, 0.81])   #to specify the coordinates, width and height of the top plot\n",
    "\n",
    "ax2 = fig.add_axes([0.1, 0.1, 1, 0.4])   #to specify the coordinates, width and height of the bottom plot\n",
    "\n",
    "ax1.plot(dfEK.iloc[:,0], dfEK.iloc[:,1],   #plot a set of x (= [S]0, i.e. column 1),y (= V0), i.e. column 2) data points\n",
    "         marker='o', color='gray', markersize=8, linestyle='None',   #use a round, gray marker with size 8; use no line\n",
    "         label='Data')   #add a legend label\n",
    "\n",
    "ax1.plot(Sin, MichaelisMentenF(Sin, *paramsEK),   #Add the fitted line to plot. Use the generated [S]0 array between 0 and 1500 as x-values. Use the fitted parameters to calculate the y-values. The star in _*paramsEK_ unpacks the array so the optimized parameter values become the arguments (after the x-values) to the function.\n",
    "         color=\"gray\", linestyle='-',   #use a gray, solid line\n",
    "         label='Fit')   #add a legend label\n",
    "\n",
    "ax1.axis(xlimits + [-0.05, 3])   #sets the X-axis and Y-axis boundaries for the top plot\n",
    "ax1.tick_params(axis='x', bottom=False, labelbottom=False)   #removes the ticks and tick labels on the X-axis for the top plot\n",
    "ax1.set_ylabel('$v_0$ in $mM s^{-1}$')   #adds Y-axis title for the top plot\n",
    "ax1.legend(loc='lower right')   #include legend\n",
    "\n",
    "ax2.plot(dfEK.iloc[:,0], resid,   #plot a set of x (= [S]0),y (= the residuals) data points\n",
    "         marker='o', color='gray', linestyle='None', markersize=8)   #use gray datapoints size 8 and no line\n",
    "         \n",
    "ax2.axhline(0, color='gray', linestyle=\"--\")   #adds a horizontal line at y=0\n",
    "ax2.axis(xlimits + [-0.3,0.3])   #sets the X-axis and Y-axis boundaries (needs some trial and error to find the right ones!) for the bottom plot\n",
    "ax2.set_xlabel('$[S]_0$ in $\\mu$$M$')   #adds X-axis title for the bottom plot, which is the same for the top plot\n",
    "ax2.set_ylabel('Residuals')   #adds Y-axis title for the bottom plot\n",
    "\n",
    "plt.show()   #show the figure object"
   ]
  },
  {
   "cell_type": "code",
   "execution_count": null,
   "id": "f615ac2d",
   "metadata": {},
   "outputs": [],
   "source": []
  }
 ],
 "metadata": {
  "kernelspec": {
   "display_name": "Python 3 (ipykernel)",
   "language": "python",
   "name": "python3"
  },
  "language_info": {
   "codemirror_mode": {
    "name": "ipython",
    "version": 3
   },
   "file_extension": ".py",
   "mimetype": "text/x-python",
   "name": "python",
   "nbconvert_exporter": "python",
   "pygments_lexer": "ipython3",
   "version": "3.11.3"
  }
 },
 "nbformat": 4,
 "nbformat_minor": 5
}
