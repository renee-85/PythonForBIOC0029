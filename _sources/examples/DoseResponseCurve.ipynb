{
 "cells": [
  {
   "cell_type": "markdown",
   "id": "c5023103",
   "metadata": {},
   "source": [
    "# Dose response curve"
   ]
  },
  {
   "cell_type": "markdown",
   "id": "11289243",
   "metadata": {},
   "source": [
    "## __<font color=blue>Introduction</font>__\n",
    "---\n",
    "\n",
    "A __dose-response curve__ is a curve that shows the relationship between the dose of a drug administered ($[Drug]$ (ng ml$^{-1}$) or $\\mu$$M$) and its pharmacological effect (Response).\n",
    "\n",
    "When the relation between drug dose (X-axis) and drug response (Y-axis) is plotted on a __base 10 logarithmic scale__, this produces a __sigmoidal curve__. This representation is more useful than a linear plot because it expands the dose scale in the region where drug response is changing rapidly and compresses the scale at higher doses where large changes have little effect on response.\n",
    "\n",
    "Nonlinear regression can determine a drug’s potency (_i.e._ __the concentration that gives half-maximal response, $EC_{50}$__). The __Hill Equation or 4 parameter logistic model__ is a standard model often used in dose-response curve analysis:\n",
    "\n",
    "$$\n",
    " Response = R_{min} + \\frac{R_{max} - R_{min}}{1 + (\\frac{10^{Log_{10}(EC_{50})}}{10^{x}})^{nHill}}\n",
    "$$\n",
    "\n",
    "Where $Response$ is the measured signal, $x$ is the log of drug dose or concentration, $EC_{50}$ is the relative 50% effective dose or concentration, $n_{Hill}$ is the Hill exponent and describes the steepness of the curve, $R_{max}$ is the maximum effect and $R_{min}$ is the effect in the absence of drug.\n",
    "\n",
    "```{image} ./Images/DoseResponseCurve.png\n",
    ":alt: Dose response curve model\n",
    ":width: 600px\n",
    ":align: center\n",
    "```\n",
    "\n",
    "See [here](https://www.graphpad.com/support/faq/how-do-i-perform-a-dose-response-experiment/) for more information."
   ]
  },
  {
   "cell_type": "markdown",
   "id": "eebaa1d7",
   "metadata": {},
   "source": [
    "## __<font color=blue>Data</font>__\n",
    "---\n",
    "\n",
    "The spreadsheet \"DoseResponseCurveAssay.xlsx\" contains two independent replicates. These are two independent experiments and - as we can see - the drug administered doses differ between experiments. As a result, we cannot calculate average response values.\n",
    "\n",
    "```{image} ./Images/DataDoseResponseCurveAssay.png\n",
    ":alt: Dose response curve assay data\n",
    ":width: 600px\n",
    ":align: center\n",
    "```"
   ]
  },
  {
   "cell_type": "markdown",
   "id": "7a1b52dc",
   "metadata": {},
   "source": [
    "## __<font color=blue>Data analysis</font>__\n",
    "---"
   ]
  },
  {
   "cell_type": "markdown",
   "id": "b9141c78",
   "metadata": {},
   "source": [
    "```{exercise}\n",
    ":label: myexample1-exercise1\n",
    "\n",
    "Import the libraries needed. Use convenient naming.\n",
    "```"
   ]
  },
  {
   "cell_type": "markdown",
   "id": "6336c2b8",
   "metadata": {},
   "source": [
    "````{solution} myexample1-exercise1\n",
    ":label: myexample1-solution1\n",
    ":class: dropdown\n",
    "\n",
    "```{code-block} python\n",
    "#Import the libraries\n",
    "import numpy as np\n",
    "import matplotlib.pyplot as plt\n",
    "import pandas as pd\n",
    "from scipy.optimize import curve_fit\n",
    "```\n",
    "````"
   ]
  },
  {
   "cell_type": "markdown",
   "id": "10faa17d",
   "metadata": {},
   "source": [
    "```{exercise}\n",
    ":label: myexample1-exercise2\n",
    "\n",
    "Read in the data containing $[Drug]$ (ng ml$^{-1}$) and response from the Excel file into a Python pandas DataFrame.\n",
    "```"
   ]
  },
  {
   "cell_type": "markdown",
   "id": "ab8adc22",
   "metadata": {},
   "source": [
    "````{solution} myexample1-exercise2\n",
    ":label: myexample1-solution2\n",
    ":class: dropdown\n",
    "\n",
    "Here's one possible solution.\n",
    "\n",
    "```{code-block} python\n",
    "#Read the Excel file\n",
    "dfDRC = pd.read_excel ('../data/DoseResponseCurveAssay.xlsx',   #create a pandas DataFrame from the filename with file path and extension shown\n",
    "                       sheet_name=0,   #use the first sheet (no need to specifically include this as we use the default setting)\n",
    "                       header=0)   #our data has column names\n",
    "                       \n",
    "print(dfDRC)   #print the DataFrame created\n",
    "```\n",
    "````"
   ]
  },
  {
   "cell_type": "markdown",
   "id": "772be3af",
   "metadata": {},
   "source": [
    "```{exercise}\n",
    ":label: myexample1-exercise3\n",
    "\n",
    "Calculate $log_{10}$$[Drug]$.\n",
    "\n",
    "Tip: use the [numpy.log10](https://numpy.org/doc/stable/reference/generated/numpy.log10.html) command to calculate $log_{10}$.\n",
    "```"
   ]
  },
  {
   "cell_type": "markdown",
   "id": "6a3fff01",
   "metadata": {},
   "source": [
    "````{solution} myexample1-exercise3\n",
    ":label: myexample1-solution3\n",
    ":class: dropdown\n",
    "\n",
    "Here's one possible solution.\n",
    "\n",
    "```{code-block} python\n",
    "#Calculate log10[Drug]\n",
    "dfDRC['log[Drug 1]'] = np.log10(dfDRC['[Drug 1] (ng/ml)'])\n",
    "dfDRC['log[Drug 2]'] = np.log10(dfDRC['[Drug 2] (ng/ml)'])\n",
    "```\n",
    "````"
   ]
  },
  {
   "cell_type": "markdown",
   "id": "ba8bfd74",
   "metadata": {},
   "source": [
    "```{exercise}\n",
    ":label: myexample1-exercise4\n",
    "\n",
    "Plot the data: log$[Drug]$ versus response.\n",
    "\n",
    "__Inspect the data!__\n",
    "\n",
    "- Do we discern a clear trend in our data?\n",
    "  - Do the data show a positive (sloping upward), negative (sloping downward), or no (spread out) correlation?\n",
    "  - Do we notice a linear or a non-linear relationship between x- and y-values?\n",
    "\n",
    "- Do we have outliers?\n",
    "  - Where the values entered correctly?\n",
    "  - Where there any experimental errors? _E.g._ a calculation error that we picked up afterwards when looking at our lab notebook?\n",
    "  - Are the data points a mistake? _E.g._ a pipetting error?\n",
    "\n",
    "In this example, we do not have plenty replicate data points at each value of x so we cannot use statistical tests, _e.g._ the Grubbs test (see [here](https://www.graphpad.com/quickcalcs/grubbs1/) for more information and an online Grubbs test calculator), on each set of replicates to determine whether a data point is a significant outlier from the rest.\n",
    "\n",
    "We often only measure a data point once or twice, like in this example. Useful tools in this case are:\n",
    "- __studentized residuals__, which look at the residuals calculated from the experimental data and model data. See [here](https://www.jmp.com/en_ca/statistics-knowledge-portal/what-is-multiple-regression/mlr-residual-analysis-and-outliers.html) for more information.\n",
    "- __robust techniques__ which use median, rather than mean, values. See [here](https://www.rsc.org/images/robust-regression-brief-50_tcm18-216960.pdf) for more information.\n",
    "- __Cook’s distance__, which measures the influence of each data point (of note, an influential point is not always an outlier!), thereby determining how much predicted values would change if that point were deleted. See [here](https://www.scikit-yb.org/en/latest/api/regressor/influence.html) for more information.\n",
    "-  __ROUT (Robust regression and OUTlier removal)__ for non-linear regression. See the article by Motulsky HJ and Brown RE (2006), available [here](https://bmcbioinformatics.biomedcentral.com/articles/10.1186/1471-2105-7-123), for more information.\n",
    "```"
   ]
  },
  {
   "cell_type": "markdown",
   "id": "a1a631cd",
   "metadata": {},
   "source": [
    "````{solution} myexample1-exercise4\n",
    ":label: myexample1-solution4\n",
    ":class: dropdown\n",
    "\n",
    "Here's one possible solution.\n",
    "\n",
    "```{code-block} python\n",
    "#Plot the data\n",
    "plt.figure(figsize=(7,5))   #start a figure object\n",
    "\n",
    "plt.plot(dfDRC['log[Drug 1]'], dfDRC['Response 1'],   #plot a set of x (= the log concentrations) ,y (=the responses) data\n",
    "         marker='o', color='gray', markersize=8)   #use a round, gray marker with size 8\n",
    "\n",
    "plt.plot(dfDRC['log[Drug 2]'], dfDRC['Response 2'],   #plot a set of x (= the log concentrations) ,y (=the responses) data, a different experiment\n",
    "         marker='s', color='black', markersize=8)   #use a square, black marker with size 8\n",
    "\n",
    "plt.title('Dose-response Curve', fontsize=18)   #title of graph\n",
    "plt.xlabel('log $[Drug]$ (ng ml$^{-1}$)', fontsize=14)   #X-axis label\n",
    "plt.ylabel('Response', fontsize=14)   #Y-axis label\n",
    "\n",
    "plt.show()   #show the figure object\n",
    "```\n",
    "\n",
    "We see a trend - a positive correlation; maybe the expected sigmoidal curve - between log $[Drug]$ and response. No data points are spotted as outliers.\n",
    "````"
   ]
  },
  {
   "cell_type": "markdown",
   "id": "832c3c2d",
   "metadata": {},
   "source": [
    "```{exercise}\n",
    ":label: myexample1-exercise5\n",
    "\n",
    "Define the Hill function to fit the data.\n",
    "```"
   ]
  },
  {
   "cell_type": "markdown",
   "id": "5fa248c5",
   "metadata": {},
   "source": [
    "````{solution} myexample1-exercise5\n",
    ":label: myexample1-solution5\n",
    ":class: dropdown\n",
    "\n",
    "Here's one possible solution.\n",
    "\n",
    "```{code-block} python\n",
    "#Define the Hill function\n",
    "def funcDRC(x, Rmin, Rmax, EC50, nHill):   #create the function\n",
    "    \"\"\"\n",
    "    Return the Hill equation using Rmin, Rmax, EC50, and nHill\n",
    "\n",
    "    Args:\n",
    "        Rmin, the response effect in the absence of drug\n",
    "        Rmax, the maximum effect\n",
    "        EC50, the relative 50% effective dose or concentration\n",
    "        nHill, the Hill exponent which describes the steepness of the curve\n",
    "        \n",
    "    Returns:\n",
    "        the Hill equation function \"a * x + b\"\n",
    "    \"\"\"\n",
    "    return Rmin + (Rmax-Rmin) / (1 + (((10**(np.log10(EC50)))/(10**x))**nHill))\n",
    "```\n",
    "````"
   ]
  },
  {
   "cell_type": "markdown",
   "id": "7b6e395e",
   "metadata": {},
   "source": [
    "```{exercise}\n",
    ":label: myexample1-exercise6\n",
    "\n",
    "Fit all data using the Hill function.\n",
    "\n",
    "Tips:\n",
    "- Use the [pandas.concat](https://pandas.pydata.org/pandas-docs/stable/reference/api/pandas.concat.html) function to combine columns.\n",
    "- Look at the graph to find good guesses for the model parameters (see figure above).\n",
    "```"
   ]
  },
  {
   "cell_type": "markdown",
   "id": "6b65fb93",
   "metadata": {},
   "source": [
    "````{solution} myexample1-exercise6\n",
    ":label: myexample1-solution6\n",
    ":class: dropdown\n",
    "\n",
    "Here's one possible solution.\n",
    "\n",
    "```{code-block} python\n",
    "#Combine all data\n",
    "xDRC= pd.concat([dfDRC['log[Drug 1]'], dfDRC['log[Drug 2]']])\n",
    "yDRC= pd.concat([dfDRC['Response 1'], dfDRC['Response 2']])\n",
    "\n",
    "#Fit all data\n",
    "paramsDRC, params_covarianceDRC = curve_fit(funcDRC,   #the function we try to fit to the data\n",
    "                                            xDRC,   #the x values, the log10 concentrations\n",
    "                                            yDRC,   #the y values, the responses\n",
    "                                            [0.01, 0.12, 0.2, 1])   #the starting parameters, guesses from graph\n",
    "```\n",
    "````"
   ]
  },
  {
   "cell_type": "markdown",
   "id": "3a2a8116",
   "metadata": {},
   "source": [
    "```{exercise}\n",
    ":label: myexample1-exercise7\n",
    "\n",
    "Report the fit parameters and standard errors on the fit parameters: $R_{min}$, $R_{max}$, $EC_{50}$, and $n_{Hill}$.\n",
    "```"
   ]
  },
  {
   "cell_type": "markdown",
   "id": "b8d58c21",
   "metadata": {},
   "source": [
    "````{solution} myexample1-exercise7\n",
    ":label: myexample1-solution7\n",
    ":class: dropdown\n",
    "\n",
    "Here's one possible solution.\n",
    "\n",
    "```{code-block} python\n",
    "#Report the fit parameters with standard errors\n",
    "print(\"Rmin, the effect in the absence of drug = \", paramsDRC[0], \"±\", np.sqrt(np.diag(params_covarianceDRC))[0])\n",
    "print(\"Rmax, the maximum effect = \", paramsDRC[1], \"±\", np.sqrt(np.diag(params_covarianceDRC))[1])\n",
    "print(\"EC50 in (ng/ml), the relative 50% effective concentration = \", paramsDRC[2], \"±\", np.sqrt(np.diag(params_covarianceDRC))[2])\n",
    "print(\"nHill, the Hill exponent = \", paramsDRC[3], \"±\", np.sqrt(np.diag(params_covarianceDRC))[3])\n",
    "```\n",
    "````"
   ]
  },
  {
   "cell_type": "markdown",
   "id": "1133600e",
   "metadata": {},
   "source": [
    "```{exercise}\n",
    ":label: myexample1-exercise8\n",
    "\n",
    "Calculate the residuals.\n",
    "```"
   ]
  },
  {
   "cell_type": "markdown",
   "id": "bb3ca9ef",
   "metadata": {},
   "source": [
    "````{solution} myexample1-exercise8\n",
    ":label: myexample1-solution8\n",
    ":class: dropdown\n",
    "\n",
    "Here's one possible solution.\n",
    "\n",
    "```{code-block} python\n",
    "#Calculate the residuals\n",
    "residDRC = yDRC - funcDRC(xDRC, *paramsDRC)   #calculate the residuals, the star in *paramsDRC unpacks the array so the two optimized parameter values become the second to fifth arguments (after the x-values) to the function\n",
    "```\n",
    "````"
   ]
  },
  {
   "cell_type": "markdown",
   "id": "e9dd8566",
   "metadata": {},
   "source": [
    "```{exercise}\n",
    ":label: myexample1-exercise9\n",
    "\n",
    "Produce a combined figure showing the residuals plot underneath the main plot with data and fitted curve. Make sure they are aligned and have the same X-axis so we can see which residual corresponds to which data point.\n",
    "\n",
    "__Inspect the quality of the fit!__\n",
    "\n",
    "- Look at the graph of the experimental data and the fitted curve  Do the experimental data and model match?\n",
    "- Look at the graph of the residuals. Are they around 0? Are they random or is there a trend? If the residuals display a systematic pattern, the model fits the data poorly.\n",
    "- Look at the fit parameters and the standard errors on the fit parameters. Are the fit parameters within (biological) reason? Are the standard errors on the fit parameters small? If a standard error on a fit parameter is bigger than the fit parameter, it is possible that there are not enough data points or that the model fits the data poorly.\n",
    "- Look at the goodness of fit statistics. But be careful! For example, R-square, ranging from 0 (worst possible fit) to 1 (best possible fit), compares the fit of your model to the fit of a horizontal line through the mean of all Y values, which is valid for linear regression, but not for non-linear regression. For those reasons, these fit statistics are not readily available as output of the SciPy curve_fit() function...\n",
    "```"
   ]
  },
  {
   "cell_type": "markdown",
   "id": "067b3dec",
   "metadata": {},
   "source": [
    "````{solution} myexample1-exercise9\n",
    ":label: myexample1-solution9\n",
    ":class: dropdown\n",
    "\n",
    "Here's one possible solution.\n",
    "\n",
    "```{code-block} python\n",
    "#Generate X-values to calculate the function\n",
    "xvalues = np.linspace(-10,10,1000)   #create an array with 1000 evenly distributed elements between 0 (included) and -10 (included)\n",
    "\n",
    "#Produce a combined graph\n",
    "fig = plt.figure()   #to create a figure object\n",
    "\n",
    "xlimits = [-4, 4]   #to make sure we use the same of the X-axis boundaries for both plots\n",
    "\n",
    "ax1 = fig.add_axes([0.1, 0.51, 1, 0.8])   #to specify the coordinates, width and height of the top plot\n",
    "\n",
    "ax2 = fig.add_axes([0.1, 0.1, 1, 0.4])   #to specify the coordinates, width and height of the bottom plot\n",
    "\n",
    "\n",
    "ax1.plot(xDRC, yDRC,   #plot a set of x (= the log concentrations) ,y (=the responses) data\n",
    "         marker='o', color='gray', markersize=8, linestyle='None',   #use a round, gray marker with size 8 but no line \n",
    "         label='Data')   #add a legend label\n",
    "\n",
    "ax1.plot(xvalues, funcDRC(xvalues, *paramsDRC),   #add the fitted curve to plot. Use the generated log10 concentrations as x-values. Use the fit parameters to calculate the y-values. The star in *paramsDRC unpacks the array so the two optimized parameter values become the second to fifth arguments (after the x-values) to the function.\n",
    "         color=\"red\",   #use a red line\n",
    "         label='Fit')   #add a legend label \n",
    "\n",
    "ax1.axis(xlimits + [0, 0.12])   #sets the X-axis and Y-axis boundaries for the top plot\n",
    "ax1.tick_params(axis='x', bottom=False, labelbottom=False)   #removes the ticks and tick labels on the X-axis for the top plot\n",
    "ax1.set_ylabel('Response', fontsize=14)   #adds Y-axis title for the top plot\n",
    "ax1.legend(loc='upper left')   #include legend\n",
    "\n",
    "ax2.plot(xDRC, residDRC,     #plot a set of x (=the concentrations),y (= the residuals) data points\n",
    "          marker='o', color='gray', linestyle='None', markersize=8)   #use a round, gray marker with size 8 but no line \n",
    "\n",
    "ax2.axhline(0, color='gray', linestyle=\"--\")   #adds a horizontal line at y=0\n",
    "ax2.axis(xlimits + [-0.025,0.025])   #sets the X-axis and Y-axis boundaries for the bottom plot\n",
    "ax2.set_xlabel('log $[Drug]$ (ng ml$^{-1}$)', fontsize=14)   #adds X-axis title for the bottom plot, which is the same for the top plot\n",
    "ax2.set_ylabel('Residuals', fontsize=14)   #adds Y-axis title for the bottom plot\n",
    "\n",
    "plt.show()   #show the figure object\n",
    "```\n",
    "\n",
    "All in all the fit looks good. There seems to be no trend in the residuals. The fit paramaters are within (biological) reason and the standard errors are not bigger than the fit parameters. \n",
    "````"
   ]
  }
 ],
 "metadata": {
  "kernelspec": {
   "display_name": "Python 3 (ipykernel)",
   "language": "python",
   "name": "python3"
  },
  "language_info": {
   "codemirror_mode": {
    "name": "ipython",
    "version": 3
   },
   "file_extension": ".py",
   "mimetype": "text/x-python",
   "name": "python",
   "nbconvert_exporter": "python",
   "pygments_lexer": "ipython3",
   "version": "3.11.3"
  }
 },
 "nbformat": 4,
 "nbformat_minor": 5
}
