{
 "cells": [
  {
   "cell_type": "markdown",
   "id": "44a2b0d0",
   "metadata": {},
   "source": [
    "# Matplotlib For Plotting And Data Visualization"
   ]
  },
  {
   "cell_type": "markdown",
   "id": "9f3ba1f3",
   "metadata": {},
   "source": [
    "[Matplotlib](https://matplotlib.org/) is a commonly used plotting library."
   ]
  },
  {
   "cell_type": "markdown",
   "id": "9d204862",
   "metadata": {},
   "source": [
    "```{exercise}\n",
    ":label: my5-exercise1\n",
    "\n",
    "Import matplotlib. Use convenient naming.\n",
    "```"
   ]
  },
  {
   "cell_type": "markdown",
   "id": "d010c865",
   "metadata": {},
   "source": [
    "````{solution} my5-exercise1\n",
    ":label: my5-solution1\n",
    ":class: dropdown\n",
    "\n",
    "```{code-block} python\n",
    "import matplotlib.pyplot as plt\n",
    "```\n",
    "````"
   ]
  },
  {
   "cell_type": "markdown",
   "id": "ed881286",
   "metadata": {},
   "source": [
    "To create a plot:\n",
    "\n",
    "- Use [matplotlib.pyplot.figure](https://matplotlib.org/stable/api/_as_gen/matplotlib.pyplot.figure.html) to create a figure object. This is needed when we want to _e.g._ tweak the size of the figure.\n",
    "\n",
    "- Use [matplotlib.pyplot.plot](https://matplotlib.org/stable/api/_as_gen/matplotlib.pyplot.plot.html) to produce a plot. The first and second arguments are for the `x-values` and `y-values`, _i.e._ the independent and dependent variables. If no x-values are provided, the default is (0, 1, ... n-1) with n the length of the y-values. This function has also several optional arguments define basic formatting properties like color (`color`), marker (`marker` and `markersize`), line (`linestyle` and `linewidth`), and names for legend items (`label`).\n",
    "  - Color values can be color names or abbreviations, _e.g._ black = k, red = r, yellow = y, green = g, cyan = c, blue = b ...\n",
    "  - Markers can be circles = o, squares = s, triangle up = ^, triangle down = v, diamond = D, cross = x ...\n",
    "  - Line styles can be solid = -, dashed = --, dotted = : ... \n",
    "  - See the  documentation for more information and examples.\n",
    "\n",
    "- Add features, such as title, axis labels, axis limits, and a legend to the plot using [matplotlib.pyplot.title](https://matplotlib.org/stable/api/_as_gen/matplotlib.pyplot.title.html), [matplotlib.pyplot.xlabel](https://matplotlib.org/stable/api/_as_gen/matplotlib.pyplot.xlabel.html), [matplotlib.pyplot.ylabel](https://matplotlib.org/stable/api/_as_gen/matplotlib.pyplot.ylabel.html), [matplotlib.pyplot.axis](https://matplotlib.org/stable/api/_as_gen/matplotlib.pyplot.axis.html), and [matplotlib.pyplot.legend](https://matplotlib.org/stable/api/_as_gen/matplotlib.pyplot.legend.html).\n",
    "\n",
    "- Execute the [matplotlib.pyplot.show](https://matplotlib.org/stable/api/_as_gen/matplotlib.pyplot.show.html) command to show the plot.\n",
    "\n",
    "See the documentation for more information and examples."
   ]
  },
  {
   "cell_type": "markdown",
   "id": "93235615",
   "metadata": {},
   "source": [
    "````{exercise}\n",
    ":label: my5-exercise2\n",
    "\n",
    "We constructed a Lineweaver-Burk plot for the kinetic data obtained for an enzyme in the absence and presence of inhibitor using the following code.\n",
    "\n",
    "```\n",
    "Subconc = np.array([1, 2, 4, 8, 12])   #the substrate concentrations, in mM\n",
    "V0withoutI = np.array([2.1, 3.7, 6.6, 11.6, 15.1])   #the initial velocity in the absence of inhibitor for each substrate concentration, in mM/s\n",
    "V0withI =  np.array([1.1, 2.2, 4.1, 7.4, 10.2])   #the initial velocity in the presence of inhibitor for each substrate concentration, in mM/s\n",
    "\n",
    "plt.figure(figsize=(7,5))   #start a figure object\n",
    "\n",
    "plt.plot(1/Subconc, 1/V0withoutI,   #plot a set of (x (=1/the concentrations), y (= 1/the measured velocities in the absence of inhibitor)) data\n",
    "         marker='o', color='b', markersize=8,   #use a round, blue marker with size 8\n",
    "         linestyle='solid', linewidth='1',   #use a solid line with width 1\n",
    "         label='Without inhibitor')   #add a label for the legend\n",
    "\n",
    "plt.plot(1/Subconc, 1/V0withI,   #plot a set of (x (=1/the concentrations), y (= 1/the measured velocities in the presence of inhibitor)) data\n",
    "         marker='o', color='b', markersize=8,   #use a round, blue marker with size 8\n",
    "         linestyle='solid', linewidth='1',   #use a solid line with width 1\n",
    "         label='With inhibitor')   #add a label for the legend\n",
    "\n",
    "plt.title('Lineweaver-Burk plot', fontsize=18)   #title of graph\n",
    "plt.xlabel('$1/[S_{0}]$ ($mM^{-1}$)', fontsize=14)   #X-axis label\n",
    "plt.ylabel('$1/V_{0}$ ($s mM^{-1}$)', fontsize=14)   #Y-axis label\n",
    "plt.legend()   #add a legend\n",
    "\n",
    "plt.show()   #show the figure object\n",
    "```\n",
    "\n",
    "Can you adapt the code so the two curves have a different color, marker style, and line style?\n",
    "````"
   ]
  },
  {
   "cell_type": "markdown",
   "id": "b6f141b5",
   "metadata": {},
   "source": [
    "````{solution} my5-exercise2\n",
    ":label: my5-solution2\n",
    ":class: dropdown\n",
    "\n",
    "Here's one possible solution.\n",
    "\n",
    "```{code-block} python\n",
    "Subconc = np.array([1, 2, 4, 8, 12])   #the substrate concentrations, in mM\n",
    "V0withoutI = np.array([2.1, 3.7, 6.6, 11.6, 15.1])   #the initial velocity in the absence of inhibitor for each substrate concentration, in mM/s\n",
    "V0withI =  np.array([1.1, 2.2, 4.1, 7.4, 10.2])   #the initial velocity in the presence of inhibitor for each substrate concentration, in mM/s\n",
    "\n",
    "plt.figure(figsize=(7,5))   #start a figure object\n",
    "\n",
    "plt.plot(1/Subconc, 1/V0withoutI,   #plot a set of (x (=1/the concentrations), y (= 1/the measured velocities in the absence of inhibitor)) data\n",
    "         marker='o', color='b', markersize=8,   #use a round, blue marker with size 8\n",
    "         linestyle='solid', linewidth='1',   #use a solid line with width 1\n",
    "         label='Without inhibitor')   #add a label for the legend\n",
    "\n",
    "plt.plot(1/Subconc, 1/V0withI,   #plot a set of (x (=1/the concentrations), y (= 1/the measured velocities in the presence of inhibitor)) data\n",
    "         marker='s', color='r', markersize=8,   #use a red, square marker with size 8\n",
    "         linestyle='dashed', linewidth='1.5',   #use a dashed line with width 1.5\n",
    "         label='With inhibitor')   #add a label for the legend\n",
    "\n",
    "plt.title('Lineweaver-Burk plot', fontsize=18)   #title of graph\n",
    "plt.xlabel('$1/[S_{0}]$ ($mM^{-1}$)', fontsize=14)   #X-axis label\n",
    "plt.ylabel('$1/V_{0}$ ($s mM^{-1}$)', fontsize=14)   #Y-axis label\n",
    "plt.axis([0, 1.2, 0, 1])   #adjust the axis limits to xmin=0, xmax=1.2, ymin=0, and ymax=1\n",
    "plt.legend()   #add a legend\n",
    "\n",
    "plt.show()   #show the figure object\n",
    "```\n",
    "````"
   ]
  },
  {
   "cell_type": "markdown",
   "id": "98ee63bc",
   "metadata": {},
   "source": [
    "```{exercise}\n",
    ":label: my5-exercise3\n",
    "\n",
    "The following equation represents the fraction of ligand, L, bound to its target protein, P, when $[P] <<< [L]$. $K_{d}$ is the dissociation constant.\n",
    "\n",
    "$$\n",
    " bound = \\frac{[L]}{K_{d} + [L]}\n",
    "$$\n",
    "\n",
    "1. Define a function that calculates the fraction of L bound to P using the equation provided.\n",
    "\n",
    "2. Create an array using a fixed number of points, _e.g._ 1000, between 0 and 100 $mM$. This will serve as the X-values.\n",
    "\n",
    "2. Plot the function for two different scenarios, $K_{d}$ = 1 $mM$ and $K_{d}$ = 10 $mM$. Use a different colour for each curve. Make sure to include a title, X-and Y-axes labels, and a legend.\n",
    "```"
   ]
  },
  {
   "cell_type": "markdown",
   "id": "fe773dd6",
   "metadata": {},
   "source": [
    "````{solution} my5-exercise3\n",
    ":label: my5-solution3\n",
    ":class: dropdown\n",
    "\n",
    "Here's one possible solution.\n",
    "\n",
    "```{code-block} python\n",
    "#Define a function that calculates the the fraction of L bound to P using the equation provided\n",
    "def fractionbound(ligconc, disconst):\n",
    "    \"\"\"\n",
    "    Evaluate the fraction of ligand, L, bound to its target protein, P, using [L]/(Kd + [L]).\n",
    "\n",
    "    Args:\n",
    "        ligconc = [L], the concentration of ligand (float) in mM\n",
    "        disconst = Kd, the dissociation constant (float) in mM\n",
    "        \n",
    "    Returns:\n",
    "        the fraction of L bound to P (float) in %\n",
    "    \"\"\"\n",
    "    fracbound = ligconc / (disconst + ligconc)\n",
    "    return fracbound\n",
    "\n",
    "\n",
    "#Create an array to serve as the X-values\n",
    "arrayL = np.linspace(0, 100, 1000)   #create an array using 1000 points between 0 and 100\n",
    "\n",
    "\n",
    "#Plot the function for two different scenarios\n",
    "plt.figure(figsize=(7,5))   #start a figure object\n",
    "\n",
    "plt.plot(arrayL, fractionbound(arrayL, 1),   #plot a set of (x (=the ligand concentrations),y (= the calculated fractions of L bound using Kd = 1 mM)) data\n",
    "         marker='o', color='gray', markersize=4,   #use a round, gray marker with size 4\n",
    "         linestyle='solid', linewidth='0.5',   #use a solid line with width 0.5\n",
    "         label='$K_{d}$ = 1 mM')   #use a label for the legend\n",
    "\n",
    "plt.plot(arrayL, fractionbound(arrayL, 10),   #plot a set of (x (=the ligand concentrations),y (= the calculated fractions of L bound using Kd = 10 mM)) data\n",
    "         marker='o', color='red', markersize=4,   #use a round, red marker with size 4\n",
    "         linestyle='solid', linewidth='0.5',   #use a solid line with width 0.5\n",
    "         label='$K_{d}$ = 10 mM')   #use a label for the legend\n",
    "\n",
    "plt.title('Binding curve', fontsize=18)   #title of graph\n",
    "plt.xlabel('$[L]$ in $mM$', fontsize=14)   #X-axis label\n",
    "plt.ylabel('Fraction bound', fontsize=14)   #Y-axis label\n",
    "plt.legend()   #add a legend\n",
    "\n",
    "plt.show()   #show the figure object\n",
    "```\n",
    "````"
   ]
  },
  {
   "cell_type": "code",
   "execution_count": null,
   "id": "097e8825",
   "metadata": {},
   "outputs": [],
   "source": []
  }
 ],
 "metadata": {
  "kernelspec": {
   "display_name": "Python 3 (ipykernel)",
   "language": "python",
   "name": "python3"
  },
  "language_info": {
   "codemirror_mode": {
    "name": "ipython",
    "version": 3
   },
   "file_extension": ".py",
   "mimetype": "text/x-python",
   "name": "python",
   "nbconvert_exporter": "python",
   "pygments_lexer": "ipython3",
   "version": "3.11.3"
  }
 },
 "nbformat": 4,
 "nbformat_minor": 5
}
