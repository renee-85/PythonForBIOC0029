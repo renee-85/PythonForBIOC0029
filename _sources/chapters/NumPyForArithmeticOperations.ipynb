{
 "cells": [
  {
   "cell_type": "markdown",
   "metadata": {},
   "source": [
    "# NumPy For Arithmetic Operations"
   ]
  },
  {
   "cell_type": "markdown",
   "metadata": {},
   "source": [
    "[NumPy](http://www.numpy.org/) is the linear algebra library used for scientific computing."
   ]
  },
  {
   "cell_type": "markdown",
   "metadata": {},
   "source": [
    "```{exercise}\n",
    ":label: my3-exercise1\n",
    "\n",
    "Import NumPy. Use convenient naming.\n",
    "```"
   ]
  },
  {
   "cell_type": "markdown",
   "metadata": {},
   "source": [
    "````{solution} my3-exercise1\n",
    ":label: my3-solution1\n",
    ":class: dropdown\n",
    "\n",
    "```{code-block} python\n",
    "import numpy as np\n",
    "```\n",
    "````"
   ]
  },
  {
   "cell_type": "markdown",
   "metadata": {},
   "source": [
    "## __<font color=blue>Arrays have a size, dimension, and shape</font>__\n",
    "---\n",
    "\n",
    "The NumPy __array__ stores a series of numerical data of the same data type and can perform mathematical operations.\n",
    "\n",
    "Numpy arrays have a variety of properties:\n",
    "- __size__: the total number of elements\n",
    "- __dimension__:1D, 2D, 3D ...\n",
    "- __shape__:the number of units along each dimension.\n",
    "   - For a 1D array with shape (a,), a represents the total number of __elements__ (axis 0). \n",
    "   - For a 2D array with shape (a,b), a represents the number of __rows__ (axis 0), and b represents the number of __columns__ (axis 1).\n",
    "   - For a 3D array with shape (a,b,c), a represents the number of __layers__ (axis 0), b represents the number of rows in each layer (axis 1), and c represents the number of columns in each layer (axis 2).\n",
    "\n",
    "```{image} ./Images-NumPyArithmeticOperations/Arrays.png\n",
    ":alt: 1D, 2D, and 3D NumPy arrays\n",
    ":width: 600px\n",
    ":align: center\n",
    "```"
   ]
  },
  {
   "cell_type": "markdown",
   "metadata": {},
   "source": [
    "## __<font color=blue>Creating arrays</font>__\n",
    "---\n",
    "\n",
    "To create an array, use the `np.array()` function. See the figure above for examples.\n",
    "\n",
    "Use `array_name.size` to get the size of a NumPy array as an integer value.\n",
    "\n",
    "Use `array_name.ndim` to get the number of dimensions of a NumPy array as an integer value.\n",
    "\n",
    "Use `array_name.shape` to get the shape of a NumPy array as an integer value."
   ]
  },
  {
   "cell_type": "markdown",
   "metadata": {},
   "source": [
    "````{exercise}\n",
    ":label: my3-exercise2\n",
    "\n",
    "Compare:\n",
    "\n",
    "```{code-block} python\n",
    "array1D = np.array([1,2,3,4,5,6,7,8,9,10,11,12,13,14,15,16,17,18,19,20,21,22,23,24])\n",
    "print(array1D)   #print the 1D array that we created\n",
    "print(array1D.size)   #print the size of the 1D array that we created\n",
    "print(array1D.ndim)   #print the dimension of the 1D array that we created\n",
    "print(array1D.shape)   #print the shape of the 1D array that we created\n",
    "```\n",
    "\n",
    "with\n",
    "\n",
    "```{code-block} python\n",
    "array2D = np.array([[1,2,3],[4,5,6],[7,8,9],[10,11,12],[13,14,15],[16,17,18],[19,20,21],[22,23,24]])\n",
    "print(array2D)   #print the 2D array that we created\n",
    "print(array2D.size)   #print the size of the 2D array that we created\n",
    "print(array2D.ndim)   #print the dimension of the 2D array that we created\n",
    "print(array2D.shape)   #print the shape of the 2D array that we created\n",
    "```\n",
    "\n",
    "and\n",
    "\n",
    "```{code-block} python\n",
    "array3D = np.array([[[1,2,3],[4,5,6],[7,8,9],[10,11,12]],[[13,14,15],[16,17,18],[19,20,21],[22,23,24]]])\n",
    "print(array3D)   #print the 3D array that we created\n",
    "print(array3D.size)   #print the size of the 3D array that we created\n",
    "print(array3D.ndim)   #print the dimension of the 3D array that we created\n",
    "print(array3D.shape)   #print the shape of the 3D array that we created\n",
    "```\n",
    "````"
   ]
  },
  {
   "cell_type": "markdown",
   "metadata": {},
   "source": [
    "````{solution} my3-exercise2\n",
    ":label: my3-solution2\n",
    ":class: dropdown\n",
    "\n",
    "- Array1D is a 1D array with 24 elements and shape (24,).\n",
    "- Array2D is a 2D array with 24 elements, 8 rows (axis 0), 3 columns (axis 1), and shape (8,3).\n",
    "- Array3D is a 3D array with 24 elements, 2 layers (axis 0), 4 rows (axis 1), 3 columns (axis 2), and shape (2,4,3).\n",
    "````"
   ]
  },
  {
   "cell_type": "markdown",
   "metadata": {},
   "source": [
    "```{exercise}\n",
    ":label: my3-exercise3\n",
    "\n",
    "We determined the fraction of binding sites occupied for two membrane proteins for the same hormone. The results are in the table below:\n",
    "\n",
    "| [Hormone] (nM)  | Fraction of binding sites occupied - protein 1 | Fraction of binding sites occupied - protein 2 |\n",
    "| ----------- | ----------- | ----------- |\n",
    "| 0.2         | 0.048       | 0.291       |\n",
    "| 0.5         | 0.110       | 0.487       |\n",
    "| 1.0         | 0.224       | 0.669       |\n",
    "| 2.0         | 0.467       | 0.732       |\n",
    "| 5.0         | 0.632       | 0.891       |\n",
    "| 10.0        | 0.715       | 0.948       |\n",
    "| 20.0        | 0.832       | 0.971       |\n",
    "| 50.0        | 0.929       | 0.991       |\n",
    "\n",
    "Store this information in a NumPy array. Print the size, dimension, and shape of the array.\n",
    "```"
   ]
  },
  {
   "cell_type": "markdown",
   "metadata": {},
   "source": [
    "````{solution} my3-exercise3\n",
    ":label: my3-solution3\n",
    ":class: dropdown\n",
    "\n",
    "Here's one possible solution.\n",
    "\n",
    "```{code-block} python\n",
    "bindingsitesdata = np.array([[0.2,0.048,0.291], [0.5,0.110,0.487], [1.0,0.224,0.669], [2.0,0.467,0.732], [5.0,0.632,0.891], [10.0,0.715,0.948], [20.0,0.832,0.971], [50.0,0.929,0.991]])   #create an 8 x 3 array. The first item is \"Hormone] (nM)\", the second item is \"Fraction of binding sites occupied - protein 1\", and the third item is \"Fraction of binding sites occupied - protein 2\".\n",
    "print(bindingsitesdata)   #print the array that we created\n",
    "\n",
    "print(bindingsitesdata.size)   #print the size of the bindingsitesdata array that we created\n",
    "print(bindingsitesdata.ndim)   #print the dimension of the bindingsitesdata array that we created\n",
    "print(bindingsitesdata.shape)   #print the shape of the bindingsitesdata array that we created\n",
    "```\n",
    "````"
   ]
  },
  {
   "cell_type": "markdown",
   "metadata": {},
   "source": [
    "### __<font color=red>Array of ones</font>__\n",
    "---\n",
    "\n",
    "To create an array consisting of ones, use the `np.ones(shape)` function. Just pass it the shape of the output array.\n",
    "\n",
    "\n",
    "\n",
    "### __<font color=red>Array of zeros</font>__\n",
    "---\n",
    "\n",
    "To create an array consisting of zeros, use the `np.zeros(shape)` function. Just pass it the shape of the output array.\n",
    "\n",
    "\n",
    "\n",
    "### __<font color=red>Array of sequential or evenly spaced values</font>__\n",
    "---\n",
    "\n",
    "To create an array with evenly spaced numbers within a given interval, use `np.arange(start, stop, step)`. Just pass it the start value (optional, the default is 0), the excluded end value, and the step size needed (optional, the default is 1).\n",
    "\n",
    "To create an array using a fixed number of points over an interval, use `np.linspace(start, stop, num)`. Just pass it the start value, the by default included end value (optional), and the number of points needed (optional, the default is 50)."
   ]
  },
  {
   "cell_type": "markdown",
   "metadata": {},
   "source": [
    "````{exercise}\n",
    ":label: my3-exercise4\n",
    "\n",
    "Compare:\n",
    "\n",
    "```{code-block} python\n",
    "array1Darange = np.arange(0, 10, 2)\n",
    "print(array1Darange)\n",
    "```\n",
    "\n",
    "with\n",
    "\n",
    "```{code-block} python\n",
    "array1Dlinspace = np.linspace(0, 10, 5)\n",
    "print(array1Dlinspace)\n",
    "```\n",
    "````"
   ]
  },
  {
   "cell_type": "markdown",
   "metadata": {},
   "source": [
    "````{solution} my3-exercise4\n",
    ":label: my3-solution4\n",
    ":class: dropdown\n",
    "\n",
    "Both generate 1D arrays, however:\n",
    "- the array created using arange has 5 evenly spaced elements, with steps of 2: 0, 2, 4, 6, and 8. The end value, 10, is not included.\n",
    "- the array created using linspace has 5 evenly distributed elements, with steps of 2.5: 0, 2.5, 5, 7.5, and 10. The end value, 10, is included.\n",
    "````"
   ]
  },
  {
   "cell_type": "markdown",
   "metadata": {},
   "source": [
    "```{exercise}\n",
    ":label: my3-exercise5\n",
    "\n",
    "We want to perform an experiment using 20 evenly spaced temperature points between 4 and 50 °C (included). Use NumPy arrays to generate a list with data points.\n",
    "```"
   ]
  },
  {
   "cell_type": "markdown",
   "metadata": {},
   "source": [
    "````{solution} my3-exercise5\n",
    ":label: my3-solution5\n",
    ":class: dropdown\n",
    "\n",
    "Here's one possible solution.\n",
    "\n",
    "```{code-block} python\n",
    "temperaturedatapoints = np.linspace(4, 50, 20)   #use `np.linspace(start, stop, num)`, with start = 4, stop = 50, and num = 20 to create an array with 20 evenly spaced temperature points between 4 and 50 (included)\n",
    "print(temperaturedatapoints)   #print the array that we created\n",
    "```\n",
    "````"
   ]
  },
  {
   "cell_type": "markdown",
   "metadata": {},
   "source": [
    "## __<font color=blue>Indexing and slicing for arrays</font>__\n",
    "---\n",
    "\n",
    "Individual elements and sets of elements are extracted from an array by indexing and slicing. NumPy adopts and extends the indexing and slicing methods used in standard Python for sequence-based data types (_e.g._ a string, list, or tuple).\n",
    "\n",
    "To select an element from a 2D array, specify both a __row index__ and a __column index__, _i.e._ `array_name[index_row, index_column]`.\n",
    "\n",
    "To slice elements from a 2D array, specify both a row start and end index and a column start and end index, _i.e._ `array_name[start_index_row:end_index_row, start_index_column:end_index_column]`.\n",
    "\n",
    "To select an entire row or column, simply specify the index of the row or column and providing `:` for the other index, _e.g._ `array_name[0,:]` to access row 0 or `array_name[:,0]` to access column 0.\n",
    "\n",
    "```{image} ./Images-NumPyArithmeticOperations/IndexingSlicing.png\n",
    ":alt: Indexing and slicing of arrays\n",
    ":width: 600px\n",
    ":align: center\n",
    "```"
   ]
  },
  {
   "cell_type": "markdown",
   "metadata": {},
   "source": [
    "```{exercise}\n",
    ":label: my3-exercise6\n",
    "\n",
    "Use the NumPy array we generated earlier for the following data set:\n",
    "\n",
    "| [Hormone] (nM)  | Fraction of binding sites occupied - protein 1 | Fraction of binding sites occupied - protein 2 |\n",
    "| ----------- | ----------- | ----------- |\n",
    "| 0.2         | 0.048       | 0.291       |\n",
    "| 0.5         | 0.110       | 0.487       |\n",
    "| 1.0         | 0.224       | 0.669       |\n",
    "| 2.0         | 0.467       | 0.732       |\n",
    "| 5.0         | 0.632       | 0.891       |\n",
    "| 10.0        | 0.715       | 0.948       |\n",
    "| 20.0        | 0.832       | 0.971       |\n",
    "| 50.0        | 0.929       | 0.991       |\n",
    "\n",
    "1. Select and show the fraction of binding sites occupied for protein 2 when [Hormone] (nM) = 5.0 nM.\n",
    "2. Select and show the fraction of binding sites occupied for both proteins when [Hormone] (nM) = 5.0 nM.\n",
    "3. Select and show the fraction of binding sites occupied for protein 2 for all [Hormone] (nM).\n",
    "```"
   ]
  },
  {
   "cell_type": "markdown",
   "metadata": {},
   "source": [
    "````{solution} my3-exercise6\n",
    ":label: my3-solution6\n",
    ":class: dropdown\n",
    "\n",
    "Here's one possible solution.\n",
    "\n",
    "```{code-block} python\n",
    "print(bindingsitesdata[4,2])   #select and print the third element on the fifth row. Remember that indices start from 0!\n",
    "print(bindingsitesdata[4,1:3])   #select and print the second and third elements of the fifth row. Remember that indices start from 0 and that when we specify the end item, it goes up to but does not include that item!\n",
    "print(bindingsitesdata[:,2])   #select and print the third column. Remember that indices start from 0!\n",
    "```\n",
    "````"
   ]
  },
  {
   "cell_type": "markdown",
   "metadata": {},
   "source": [
    "## __<font color=blue>The axis parameter in sum, mean, standard deviation ...</font>__\n",
    "---\n",
    "\n",
    "Useful functions in NumPy include the `np.sum()`, `np.mean`, and `np.std()`. They are used to create the __sum__, __mean__, and __standard deviation__ of all elements, the elements of each column, or the elements of each row of a given array. Their arguments are `(array_name, axis)`. The default `axis=None` will _e.g._ sum all the elements of the array. For a 2D array, with `axis=0`, we sum along the 0th dimension and get the sum of elements of each column; with `axis=1`, we sum along the 1st dimension and get the sum of the elements of each row.\n",
    "\n",
    "```{image} ./Images-NumPyArithmeticOperations/ArraysAxisOperations.png\n",
    ":alt: Python lists versus NumPy arrays\n",
    ":width: 600px\n",
    ":align: center\n",
    "```"
   ]
  },
  {
   "cell_type": "markdown",
   "metadata": {},
   "source": [
    "```{exercise}\n",
    ":label: my3-exercise7\n",
    "\n",
    "We determined the serum calcium levels (mg/dl) of blood from two patients with chronic renal insufficiency on maintenance hemodialysis. We repeated the experiment 10 times to obtain a more accurate representation. The results can be observed in the table below:\n",
    "\n",
    "| Experiment  | Serum calcium level (mg/dl) - patient 1 | Serum calcium level (mg/dl) - patient 2|\n",
    "| ----------- | ----------- | ----------- |\n",
    "| 1           | 8.53        | 10.12       |\n",
    "| 2           | 9.21        | 9.87        |\n",
    "| 3           | 7.69        | 9.49        |\n",
    "| 4           | 8.13        | 10.39       |\n",
    "| 5           | 7.84        | 10.01       |\n",
    "| 6           | 9.05        | 9.85        |\n",
    "| 7           | 8.33        | 9.34        |\n",
    "\n",
    "Store this information in a 2D NumPy array. Calculate the mean and standard deviation for each patient.\n",
    "```"
   ]
  },
  {
   "cell_type": "markdown",
   "metadata": {},
   "source": [
    "````{solution} my3-exercise7\n",
    ":label: my3-solution7\n",
    ":class: dropdown\n",
    "\n",
    "Here's one possible solution.\n",
    "\n",
    "```{code-block} python\n",
    "serumcalciumleveldata = np.array([[1, 8.53, 10.12],[2, 9.21, 9.87],[3, 7.69, 9.49],[4, 8.13, 10.39],[5, 7.84, 10.011],[6, 9.05, 9.85],[7, 8.33, 9.34]])    #create a 7 x 3 array. The first item is \"Experiment\", the second item is \"Serum calcium level (mg/dl) - patient 1\", and the third item is \"Serum calcium level (mg/dl) - patient 2\".\n",
    "\n",
    "serumcalciumlevelmean = np.mean(serumcalciumleveldata[:,1:3], axis=0)   #calculate the means of the elements of each column with patient data for the serumcalciumleveldata array we created\n",
    "serumcalciumlevelstdv = np.std(serumcalciumleveldata[:,1:3], axis=0)   #calculate the standard deviations of the elements of each column with patient data for the serumcalciumleveldata array we created\n",
    "\n",
    "print(serumcalciumlevelmean)   #print the means\n",
    "print(serumcalciumlevelstdv)   #print the standard deviations\n",
    "```\n",
    "````"
   ]
  },
  {
   "cell_type": "markdown",
   "metadata": {},
   "source": [
    "## __<font color=blue>Arithmetic operations for arrays and lists</font>__\n",
    "---\n",
    "\n",
    "Both arrays and lists are used to store data, but there are important differences:\n",
    "\n",
    "```{image} ./Images-NumPyArithmeticOperations/ListsVersusArrays.png\n",
    ":alt: Python lists versus NumPy arrays\n",
    ":width: 600px\n",
    ":align: center\n",
    "```\n",
    "\n",
    "Array arithmetic operations work much like standard scalar math and operates on an element by element basis."
   ]
  },
  {
   "cell_type": "markdown",
   "metadata": {},
   "source": [
    "````{exercise}\n",
    ":label: my3-exercise8\n",
    "\n",
    "Compare:\n",
    "\n",
    "```{code-block} python\n",
    "arraya = np.array([1,2,3,4])   #create array a (1D) with 4 elements\n",
    "arrayb = np.array([3,4,5,6])   #create array b (1D) with 4 elements\n",
    "print(2+arraya)   #print 2 plus array a (1D)\n",
    "print(2*arraya)   #print 2 times array a (1D)\n",
    "print(arraya+arrayb)   #print array a (1D) plus array b (1D)\n",
    "print(arraya*arrayb)   #print array a (1D) times array b (1D)\n",
    "```\n",
    "\n",
    "with\n",
    "\n",
    "```{code-block} python\n",
    "lista = [1,2,3,4]   #create list a with 4 elements\n",
    "listb = [3,4,5,6]   #create list b with 4 elements\n",
    "print(2+lista)   #print 2 plus list a\n",
    "print(2*lista)   #print 2 times list a\n",
    "print(lista+listb)   #print list a plus list b\n",
    "print(lista*listb)   #print list a times list b\n",
    "```\n",
    "\n",
    "and\n",
    "\n",
    "```{code-block} python\n",
    "arrayc = np.array([[1,2],[3,4]])   #create array c (2D) with 4 elements\n",
    "arrayd = np.array([[5,6],[7,8]])   #create array d (2D) with 4 elements\n",
    "print(2+arrayc)   #print 2 plus array c (2D)\n",
    "print(2*arrayc)   #print 2 times array c (2D)\n",
    "print(arrayc+arrayd)   #print array c (2D) plus array d (2D)\n",
    "print(arrayc*arrayd)   #print array c (2D) times array d (2D)\n",
    "```\n",
    "\n",
    "Tip: Remove code lines that generate an error!\n",
    "````"
   ]
  },
  {
   "cell_type": "markdown",
   "metadata": {},
   "source": [
    "````{solution} my3-exercise8\n",
    ":label: my3-solution8\n",
    ":class: dropdown\n",
    "\n",
    "We can sum ('+') arrays with each other or a scalar. It operates on an element by element basis.\n",
    "\n",
    "We cannot sum lists with a scalar. We get an error message: __<font color=red>TypeError</font>__: unsupported operand type(s) for +: 'int' and 'list'!\n",
    "\n",
    "We cannot sum lists with each other: the '+' operator concatenates two lists. It appends one list at the end of the other list and results in a new list as output.\n",
    "\n",
    "We can multiply ('*') arrays with each other or a scalar. It operates on an element by element basis.\n",
    "\n",
    "We can multiply lists with a whole number. It repeats the values in the list a certain number of times. \n",
    "\n",
    "We cannot multiply lists with each other. We get an error message: __<font color=red>TypeError</font>__: can't multiply sequence by non-int of type 'list'!\n",
    "````"
   ]
  },
  {
   "cell_type": "markdown",
   "metadata": {},
   "source": [
    "### __<font color=red>Broadcasting</font>__\n",
    "---\n",
    "\n",
    "Because array math occurs element by element, arrays normally have to be the same shape for math operations between them to succeed.\n",
    "\n",
    "The exception occurs when one of the arrays is the same shape as the other except that the size of one or more of the dimensions is reduced to 1 (or completely absent). The array will be conceptually extended, repeating values as necessary. This extension process is called __broadcasting__ and demonstrated in the figure below:\n",
    "\n",
    "```{image} ./Images-NumPyArithmeticOperations/Broadcasting.png\n",
    ":alt: Python lists versus NumPy arrays\n",
    ":width: 600px\n",
    ":align: center\n",
    "```"
   ]
  },
  {
   "cell_type": "markdown",
   "metadata": {},
   "source": [
    "```{exercise}\n",
    ":label: my3-exercise9\n",
    "\n",
    "Create NumPy arrays and calculate their sums to verify the information shown in the figure above.\n",
    "```"
   ]
  },
  {
   "cell_type": "markdown",
   "metadata": {},
   "source": [
    "````{solution} my3-exercise9\n",
    ":label: my3-solution9\n",
    ":class: dropdown\n",
    "\n",
    "Here's one possible solution.\n",
    "\n",
    "```{code-block} python\n",
    "arrayk = np.array([[1,2,3,4],[5,6,7,8]])   #create array k (2D) with 8 elements\n",
    "print(arrayk)   #print the 2D array that we created\n",
    "print(arrayk.shape)   #print the shape of the 2D array that we created. Array k has 2 rows and 4 columns.\n",
    "\n",
    "arrayl2D = np.array([[1,2,3,4]])   #create array l2D (2D) with 4 elements\n",
    "print(arrayl2D)   #print the 2D array that we created\n",
    "print(arrayl2D.shape)   #print the shape of the 2D array that we created. Array l2D has 1 row and 4 columns.\n",
    "\n",
    "arrayl1D = np.array([1,2,3,4])   #create array l1D (1D) with 4 elements\n",
    "print(arrayl1D)   #print the 1D array that we created\n",
    "print(arrayl1D.shape)   #print the shape of the 1D array that we created. Array l1D has 4 elements.\n",
    "\n",
    "arraym = np.array([[1],[5]])   #create array m (2D) with 2 elements\n",
    "print(arraym)   #print the 2D array that we created\n",
    "print(arraym.shape)   #print the shape of the 2D array that we created. Array m has 2 rows and 1 column.\n",
    "\n",
    "print(arrayk+arrayl2D)   #print array k (2D) plus array l2D (2D). Array l2D is conceptually extended along axis 0 to create an array with two rows, i.e. ([[1,2,3,4],[1,2,3,4]]) and then added to array k.\n",
    "print(arrayk+arrayl1D)   #print array k (2D) plus array l1D (1D). Array l1D is conceptually extended along axis 0 to create an array with two rows, i.e. ([[1,2,3,4],[1,2,3,4]]) and then added to array k.\n",
    "print(arrayk+arraym)   #print array k (2D) plus array m (2D). Array m is conceptually extended along axis 1 to create an array with four columns, i.e. ([[1,1,1,1],[5,5,5,5]]) and then added to array k.\n",
    "print(arrayl2D+arraym)   #print array l2D (2D) plus array m (2D). Array l2D is conceptually extended along axis 0 to create an array with two rows, i.e. ([[1,2,3,4],[1,2,3,4]]). Array m is conceptually extended along axis 1 to create an array with two rows, i.e. ([[1,1,1,1],[5,5,5,5]]).\n",
    "print(arrayl1D+arraym)   #print array l1D (1D) plus array m (2D). Array l1D is conceptually extended along axis 0 to create an array with two rows, i.e. ([[1,2,3,4],[1,2,3,4]]). Array m is conceptually extended along axis 1 to create an array with two rows, i.e. ([[1,1,1,1],[5,5,5,5]]).\n",
    "```\n",
    "````"
   ]
  },
  {
   "cell_type": "markdown",
   "metadata": {},
   "source": [
    "## __<font color=blue>Looping for arrays</font>__\n",
    "---\n",
    "\n",
    "For loops can be used to iterate over arrays.\n",
    "\n",
    "But, iterating over an array does not yield the scalar elements in sequence. Instead a loop accesses in sequence the subarrays from which the array is constructed.\n",
    "\n",
    "To get the individual scalar elements, two loops are required, one over the array of subarrays and the other over the subarrays themselves:\n",
    "\n",
    "```\n",
    "for subarray in array:\n",
    "    for element in subarray:\n",
    "        statement(s)\n",
    "```\n",
    "\n",
    "Alternatively, to access individual scalar elements of a multi-dimensional array in a single loop, use `np.ravel(array_name)`, which is equivalent to reshaping the array into one dimension:\n",
    "\n",
    "```\n",
    "for variable in np.ravel(array_name):\n",
    "    statement(s)\n",
    "```"
   ]
  },
  {
   "cell_type": "markdown",
   "metadata": {},
   "source": [
    "````{exercise}\n",
    ":label: my3-exercise10\n",
    "\n",
    "Compare:\n",
    "\n",
    "```{code-block} python\n",
    "arrayz = ([[0,1,2], [3,4,5], [6,7,8], [9,10,11]])\n",
    "\n",
    "for x in arrayz:\n",
    "    print(x)\n",
    "```\n",
    "\n",
    "with\n",
    "\n",
    "```{code-block} python\n",
    "for subarrayz in arrayz:\n",
    "    for x in subarrayz:\n",
    "        print(x)\n",
    "```\n",
    "\n",
    "and\n",
    "\n",
    "```{code-block} python\n",
    "for x in np.ravel(arrayz):\n",
    "    print(x)\n",
    "```\n",
    "````"
   ]
  },
  {
   "cell_type": "markdown",
   "metadata": {},
   "source": [
    "````{solution} my3-exercise10\n",
    ":label: my3-solution11\n",
    ":class: dropdown\n",
    "\n",
    "The first loop accesses in sequence the subarrays from which array z is constructed. The other two loops access all elements from array z.\n",
    "````"
   ]
  }
 ],
 "metadata": {
  "kernelspec": {
   "display_name": "Python 3 (ipykernel)",
   "language": "python",
   "name": "python3"
  },
  "language_info": {
   "codemirror_mode": {
    "name": "ipython",
    "version": 3
   },
   "file_extension": ".py",
   "mimetype": "text/x-python",
   "name": "python",
   "nbconvert_exporter": "python",
   "pygments_lexer": "ipython3",
   "version": "3.11.3"
  },
  "widgets": {
   "application/vnd.jupyter.widget-state+json": {
    "state": {},
    "version_major": 2,
    "version_minor": 0
   }
  }
 },
 "nbformat": 4,
 "nbformat_minor": 4
}
