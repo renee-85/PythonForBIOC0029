{
 "cells": [
  {
   "cell_type": "markdown",
   "metadata": {},
   "source": [
    "# For Loops, Logic Statements, and Functions"
   ]
  },
  {
   "cell_type": "markdown",
   "metadata": {},
   "source": [
    "## __<font color=blue>`For` loops to perform the same action on the items in a sequence</font>__\n",
    "---\n",
    "\n",
    "To execute a (set of) statement(s) once for each item in a sequence (_e.g._ a string, list, or tuple), we use a __`for` loop__.\n",
    "\n",
    "The syntax for a `for` loop is:\n",
    "\n",
    "```\n",
    "for variable in sequence_name:\n",
    "    statement(s)\n",
    "```\n",
    "\n",
    "The variable accesses each item of the sequence on each iteration. After the sequence name, we find a colon (`:`). The statement(s) is (are) __indented__ using whitespace.\n",
    "\n",
    "The loop continues until we reach the last item in the sequence.\n",
    "\n",
    "Use `sequence_name.append(new_item)` to save the outputs of the statement(s) in a new sequence: this function adds a new item to the end of an existing sequence. Make sure to first create the new sequence outside of the loop!\n",
    "\n",
    "Let's see this in action by _<font color=red>printing each item from a list</font>_ and _<font color=red>calculating and saving in a new list</font>_."
   ]
  },
  {
   "cell_type": "markdown",
   "metadata": {},
   "source": [
    "```{exercise}\n",
    ":label: my2-exercise1\n",
    "\n",
    "Print each nucleotide from this list with nucleotides.\n",
    "```"
   ]
  },
  {
   "cell_type": "code",
   "execution_count": 1,
   "metadata": {},
   "outputs": [],
   "source": [
    "Nucleotides = [\"A\", \"T\", \"C\", \"G\"]"
   ]
  },
  {
   "cell_type": "markdown",
   "metadata": {},
   "source": [
    "````{solution} my2-exercise1\n",
    ":label: my2-solution1\n",
    ":class: dropdown\n",
    "\n",
    "Here's one possible solution.\n",
    "\n",
    "```{code-block} python\n",
    "for nt in Nucleotides:   #select each item from the list\n",
    "    print(nt)   #print each item\n",
    "```\n",
    "````"
   ]
  },
  {
   "cell_type": "markdown",
   "metadata": {},
   "source": [
    "```{exercise}\n",
    ":label: my2-exercise2\n",
    "\n",
    "Calculate the $pK_b$ values of aspartate using this list of $pK_a$ values of aspartate and save them in a new list called pKb_asp.\n",
    "```"
   ]
  },
  {
   "cell_type": "code",
   "execution_count": 2,
   "metadata": {},
   "outputs": [],
   "source": [
    "pKa_asp = [2.10, 3.86, 9.82]"
   ]
  },
  {
   "cell_type": "markdown",
   "metadata": {},
   "source": [
    "````{solution} my2-exercise2\n",
    ":label: my2-solution2\n",
    ":class: dropdown\n",
    "\n",
    "Here's one possible solution.\n",
    "\n",
    "```{code-block} python\n",
    "pKb_asp = []   #create a new, empty list \n",
    "\n",
    "for pKa in pKa_asp:   #select each item from the existing list\n",
    "    pKb = 14 - pKa   #calculate for each item from the existing list the pKb\n",
    "    pKb_asp.append(pKb)   #append the pKb calculated to the newly created list\n",
    "\n",
    "print(pKb_asp)   #print the list that we calculated\n",
    "```\n",
    "````"
   ]
  },
  {
   "cell_type": "markdown",
   "metadata": {},
   "source": [
    "## __<font color=blue>Logic statements to make choices</font>__\n",
    "---"
   ]
  },
  {
   "cell_type": "markdown",
   "metadata": {},
   "source": [
    "Use `if`, `elif`, and / or `else` statements to evaluate a variable and do something if the variable has a particular value.\n",
    "\n",
    "Operations include:\n",
    "- equal to `==`\n",
    "- not equal to `!=`\n",
    "- greater than `>`\n",
    "- less than `<`\n",
    "- greater than or equal to `>=`\n",
    "- less than or equal to `<=`\n",
    "\n",
    "Use `and`, `or`, and `not` to check more than one condition.\n",
    "\n",
    "Let's see this in action using _<font color=red>conditional statements</font>_."
   ]
  },
  {
   "cell_type": "markdown",
   "metadata": {},
   "source": [
    "```{exercise}\n",
    ":label: my2-exercise3\n",
    "\n",
    "Determine the charge of a protein based on its pI (_e.g._ 4.8) and the pH of the solution (_e.g._ 7.4).\n",
    "```"
   ]
  },
  {
   "cell_type": "markdown",
   "metadata": {},
   "source": [
    "````{solution} my2-exercise3\n",
    ":label: my2-solution3\n",
    ":class: dropdown\n",
    "\n",
    "Here's one possible solution.\n",
    "\n",
    "```{code-block} python\n",
    "pH = 7.4\n",
    "pI = 4.8\n",
    "if pH > pI:   #if greater then\n",
    "  print(\"pH is above pI, the protein is negatively charged\")   #print the outcome\n",
    "elif pH == pI:   #if equal to\n",
    "  print(\"pH and pI are equal, the protein has no net charge\")   #print the outcome\n",
    "else:   #if smaller then\n",
    "  print(\"pH is below pI, the protein is positively charged\")   #print the outcome\n",
    "```\n",
    "````"
   ]
  },
  {
   "cell_type": "markdown",
   "metadata": {},
   "source": [
    "## __<font color=blue>Functions</font>__\n",
    "---"
   ]
  },
  {
   "cell_type": "markdown",
   "metadata": {},
   "source": [
    "A function is a block of code which only runs when it is called. The function needs parameters to run. These are specified after the function name. The syntax for a function is:\n",
    "\n",
    "```\n",
    "def function_name(parameter(s)):\n",
    "  \"\"\"\n",
    "  documentation\n",
    "  \"\"\"\n",
    "  block_of_code\n",
    "  return value_to_return\n",
    "```\n",
    "\n",
    "- We first define the function name and paremeters using `def`.\n",
    "- The optional documentation section contains information about what the function does, including the paremeters and what is returned.\n",
    "- The code of the function.\n",
    "- Use the `return` statement to let a function return its result. It is possible return more than one variable from a function. These will be returned as a tuple of variables, which may require unpacking as appropriate.\n",
    "\n",
    "After creating a function in Python we can call it by using the name of the function followed by parenthesis containing parameters of that particular function.\n",
    "\n",
    "Let's see this in action by _<font color=red>designing a Beer-Lambert law function</font>_."
   ]
  },
  {
   "cell_type": "markdown",
   "metadata": {},
   "source": [
    "```{exercise}\n",
    ":label: my2-exercise4\n",
    "\n",
    "Create and test a function that calculates the concentration of a solution using the Beer-Lambert law. Parameters include the molar extinction coefficient, absorbance, and cuvette pathlength.\n",
    "```"
   ]
  },
  {
   "cell_type": "markdown",
   "metadata": {},
   "source": [
    "````{solution} my2-exercise4\n",
    ":label: my2-solution4\n",
    ":class: dropdown\n",
    "\n",
    "Here's one possible solution.\n",
    "\n",
    "```{code-block} python\n",
    "def beer_lambert(epsilon, absorbance, path_length):   #create the function\n",
    "    \"\"\"\n",
    "    Evaluate the concentration of a solution, using the Beer-Lambert law.\n",
    "\n",
    "    Args:\n",
    "        epsilon (float) in L/(mol cm)\n",
    "        absorbance (float) in AU\n",
    "        path_length (float) in cm\n",
    "\n",
    "    Returns:\n",
    "        concentration of the solution (float) in (mol/L)\n",
    "    \"\"\"\n",
    "    concentration = absorbance / (epsilon * path_length)\n",
    "    return concentration\n",
    "    \n",
    "beer_lambert(21000, 0.89,1)   #test the function with random but reasonable parameters\n",
    "```\n",
    "````"
   ]
  }
 ],
 "metadata": {
  "kernelspec": {
   "display_name": "Python 3 (ipykernel)",
   "language": "python",
   "name": "python3"
  },
  "language_info": {
   "codemirror_mode": {
    "name": "ipython",
    "version": 3
   },
   "file_extension": ".py",
   "mimetype": "text/x-python",
   "name": "python",
   "nbconvert_exporter": "python",
   "pygments_lexer": "ipython3",
   "version": "3.11.7"
  },
  "widgets": {
   "application/vnd.jupyter.widget-state+json": {
    "state": {},
    "version_major": 2,
    "version_minor": 0
   }
  }
 },
 "nbformat": 4,
 "nbformat_minor": 4
}
