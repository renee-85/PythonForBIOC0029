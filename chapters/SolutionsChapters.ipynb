{
 "cells": [
  {
   "cell_type": "markdown",
   "id": "232cd4de",
   "metadata": {},
   "source": [
    "# Variables, Data Types, Indices, and Slices"
   ]
  },
  {
   "cell_type": "markdown",
   "id": "8efc8c0b",
   "metadata": {},
   "source": [
    "## __<font color=blue>Assigning variables and using `print()` to check how the code is working</font>__\n",
    "---"
   ]
  },
  {
   "cell_type": "markdown",
   "id": "5b52e0de",
   "metadata": {},
   "source": [
    "How many grams of solid NaOH (40.0 g/mol) are required to prepare 500 ml of a 0.04 M solution?"
   ]
  },
  {
   "cell_type": "code",
   "execution_count": 4,
   "id": "ef37fcde",
   "metadata": {},
   "outputs": [
    {
     "name": "stdout",
     "output_type": "stream",
     "text": [
      "0.8\n"
     ]
    }
   ],
   "source": [
    "liters = 0.5   #l\n",
    "M = 0.04   #mol/l\n",
    "MW = 40.0   #g/mol\n",
    "\n",
    "wt = (liters * M) * MW   #(l * mol/l) * g/mol = g\n",
    "\n",
    "print(wt)   #print the value that we calculated"
   ]
  },
  {
   "cell_type": "markdown",
   "id": "7e424219",
   "metadata": {},
   "source": [
    "An enzyme has a $V_{max}$ of 1.2 $\\mu$$M s^{-1}$ and a $K_m$ of 10 $\\mu$$M$. What is the initial velocity for an 8 $\\mu$$M$ substrate concentration?"
   ]
  },
  {
   "cell_type": "code",
   "execution_count": 6,
   "id": "32647076",
   "metadata": {},
   "outputs": [
    {
     "name": "stdout",
     "output_type": "stream",
     "text": [
      "0.5333333333333333\n"
     ]
    }
   ],
   "source": [
    "Km = 10   #microM\n",
    "Vmax = 1.2   #microM/s\n",
    "S = 8   #microM\n",
    "\n",
    "V0 = (Vmax * S) / (Km + S)   #(microM/s * microM) / (microM + microM) = microM/s; Michaelis-Menten equation\n",
    "\n",
    "print(V0)   #print the value that we calculated"
   ]
  },
  {
   "cell_type": "markdown",
   "id": "66702291",
   "metadata": {},
   "source": [
    "Now convert the initial velocity in $\\mu$$M s^{-1}$ from the previous exercise to $\\mu$$M min^{-1}$."
   ]
  },
  {
   "cell_type": "code",
   "execution_count": 8,
   "id": "b4537f80",
   "metadata": {},
   "outputs": [
    {
     "name": "stdout",
     "output_type": "stream",
     "text": [
      "32.0\n"
     ]
    }
   ],
   "source": [
    "V0permin = V0 * 60   #microM/s * 60s/min = microM/min\n",
    "\n",
    "print(V0permin)   #print the value that we calculated"
   ]
  },
  {
   "cell_type": "markdown",
   "id": "670de224",
   "metadata": {},
   "source": [
    "## __<font color=blue>Data types, using `len()` to return the number of items in a sequence, and using `.count()` to count how many times an item appears in a sequence</font>__\n",
    "---"
   ]
  },
  {
   "cell_type": "markdown",
   "id": "8d195eaa",
   "metadata": {},
   "source": [
    "Determine the data type, length, and number of tryptophan residues for this LRRK2 protein sequence containing one letter code amino acids."
   ]
  },
  {
   "cell_type": "code",
   "execution_count": 11,
   "id": "222954a6",
   "metadata": {},
   "outputs": [],
   "source": [
    "protseqLRRK2 =\"MASGSCQGCEEDEETLKKLIVRLNNVQEGKQIETLVQILEDLLVFTYSERASKLFQGKNIHVPLLIVLDSYMRVASVQQVGWSLLCKLIEVCPGTMQSLMGPQDVGNDWEVLGVHQLILKMLTVHNASVNLSVIGLKTLDLLLTSGKITLLILDEESDIFMLIFDAMHSFPANDEVQKLGCKALHVLFERVSEEQLTEFVENKDYMILLSALTNFKDEEEIVLHVLHCLHSLAIPCNNVEVLMSGNVRCYNIVVEAMKAFPMSERIQEVSCCLLHRLTLGNFFNILVLNEVHEFVVKAVQQYPENAALQISALSCLALLTETIFLNQDLEEKNENQENDDEGEEDKLFWLEACYKALTWHRKNKHVQEAACWALNNLLMYQNSLHEKIGDEDGHFPAHREVMLSMLMHSSSKEVFQASANALSTLLEQNVNFRKILLSKGIHLNVLELMQKHIHSPEVAESGCKMLNHLFEGSNTSLDIMAAVVPKILTVMKRHETSLPVQLEALRAILHFIVPGMPEESREDTEFHHKLNMVKKQCFKNDIHKLVLAALNRFIGNPGIQKCGLKVISSIVHFPDALEMLSLEGAMDSVLHTLQMYPDDQEIQCLGLSLIGYLITKKNVFIGTGHLLAKILVSSLYRFKDVAEIQTKGFQTILAILKLSASFSKLLVHHSFDLVIFHQMSSNIMEQKDQQFLNLCCKCFAKVAMDDYLKNVMLERACDQNNSIMVECLLLLGADANQAKEGSSLICQVCEKESSPKLVELLLNSGSREQDVRKALTISIGKGDSQIISLLLRRLALDVANNSICLGGFCIGKVEPSWLGPLFPDKTSNLRKQTNIASTLARMVIRYQMKSAVEEGTASGSDGNFSEDVLSKFDEWTFIPDSSMDSVFAQSDDLDSEGSEGSFLVKKKSNSISVGEFYRDAVLQRCSPNLQRHSNSLGPIFDHEDLLKRKRKILSSDDSLRSSKLQSHMRHSDSISSLASEREYITSLDLSANELRDIDALSQKCCISVHLEHLEKLELHQNALTSFPQQLCETLKSLTHLDLHSNKFTSFPSYLLKMSCIANLDVSRNDIGPSVVLDPTVKCPTLKQFNLSYNQLSFVPENLTDVVEKLEQLILEGNKISGICSPLRLKELKILNLSKNHISSLSENFLEACPKVESFSARMNFLAAMPFLPPSMTILKLSQNKFSCIPEAILNLPHLRSLDMSSNDIQYLPGPAHWKSLNLRELLFSHNQISILDLSEKAYLWSRVEKLHLSHNKLKEIPPEIGCLENLTSLDVSYNLELRSFPNEMGKLSKIWDLPLDELHLNFDFKHIGCKAKDIIRFLQQRLKKAVPYNRMKLMIVGNTGSGKTTLLQQLMKTKKSDLGMQSATVGIDVKDWPIQIRDKRKRDLVLNVWDFAGREEFYSTHPHFMTQRALYLAVYDLSKGQAEVDAMKPWLFNIKARASSSPVILVGTHLDVSDEKQRKACMSKITKELLNKRGFPAIRDYHFVNATEESDALAKLRKTIINESLNFKIRDQLVVGQLIPDCYVELEKIILSERKNVPIEFPVIDRKRLLQLVRENQLQLDENELPHAVHFLNESGVLLHFQDPALQLSDLYFVEPKWLCKIMAQILTVKVEGCPKHPKGIISRRDVEKFLSKKRKFPKNYMSQYFKLLEKFQIALPIGEEYLLVPSSLSDHRPVIELPHCENSEIIIRLYEMPYFPMGFWSRLINRLLEISPYMLSGRERALRPNRMYWRQGIYLNWSPEAYCLVGSEVLDNHPESFLKITVPSCRKGCILLGQVVDHIDSLMEEWFPGLLEIDICGEGETLLKKWALYSFNDGEEHQKILLDDLMKKAEEGDLLVNPDQPRLTIPISQIAPDLILADLPRNIMLNNDELEFEQAPEFLLGDGSFGSVYRAAYEGEEVAVKIFNKHTSLRLLRQELVVLCHLHHPSLISLLAAGIRPRMLVMELASKGSLDRLLQQDKASLTRTLQHRIALHVADGLRYLHSAMIIYRDLKPHNVLLFTLYPNAAIIAKIADYGIAQYCCRMGIKTSEGTPGFRAPEVARGNVIYNQQADVYSFGLLLYDILTTGGRIVEGLKFPNEFDELEIQGKLPDPVKEYGCAPWPMVEKLIKQCLKENPQERPTSAQVFDILNSAELVCLTRRILLPKNVIVECMVATHHNSRNASIWLGCGHTDRGQLSFLDLNTEGYTSEEVADSRILCLALVHLPVEKESWIVSGTQSGTLLVINTEDGKKRHTLEKMTDSVTCLYCNSFSKQSKQKNFLLVGTADGKLAIFEDKTVKLKGAAPLKILNIGNVSTPLMCLSESTNSTERNVMWGGCGTKIFSFSNDFTIQKLIETRTSQLFSYAAFSDSNIITVVVDTALYIAKQNSPVVEVWDKKTEKLCGLIDCVHFLREVMVKENKESKHKMSYSGRVKTLCLQKNTALWIGTGGGHILLLDLSTRRLIRVIYNFCNSVRVMMTAQLGSLKNVMLVLGYNRKNTEGTQKQKEIQSCLTVWDINLPHEVQNLEKHIEVRKELAEKMRRTSVE\""
   ]
  },
  {
   "cell_type": "code",
   "execution_count": 12,
   "id": "c9c3ae95",
   "metadata": {},
   "outputs": [
    {
     "name": "stdout",
     "output_type": "stream",
     "text": [
      "<class 'str'>\n",
      "2527\n",
      "26\n"
     ]
    }
   ],
   "source": [
    "print(type(protseqLRRK2))   #determine and print the data type\n",
    "\n",
    "len_protseqLRRK2 = len(protseqLRRK2)   #determine the length of the string\n",
    "print(len_protseqLRRK2)   #print the value that we calculated\n",
    "\n",
    "Wcount_protseqLRRK2 = protseqLRRK2.count(\"W\")   #count the number of times W appears in the string\n",
    "print(Wcount_protseqLRRK2)   #print the value that we calculated"
   ]
  },
  {
   "cell_type": "markdown",
   "id": "77bd2713",
   "metadata": {},
   "source": [
    "Define the EcoRI DNA recognition sequence (GAATTC) as a string."
   ]
  },
  {
   "cell_type": "code",
   "execution_count": 14,
   "id": "da4fe4fa",
   "metadata": {},
   "outputs": [],
   "source": [
    "DNAseqEcoRI = \"GAATTC\"   #create a string using double quotation marks"
   ]
  },
  {
   "cell_type": "markdown",
   "id": "d61373e6",
   "metadata": {},
   "source": [
    "Determine the data type and length for this list with substrate concentrations."
   ]
  },
  {
   "cell_type": "code",
   "execution_count": 16,
   "id": "0360a275",
   "metadata": {},
   "outputs": [],
   "source": [
    "subconc = [0, 1, 2, 4, 8, 15, 30, 60, 125, 250, 500]"
   ]
  },
  {
   "cell_type": "code",
   "execution_count": 17,
   "id": "1091c02c",
   "metadata": {},
   "outputs": [
    {
     "name": "stdout",
     "output_type": "stream",
     "text": [
      "<class 'list'>\n",
      "11\n"
     ]
    }
   ],
   "source": [
    "print(type(subconc))   #determine and print the data type\n",
    "\n",
    "len_subconc = len(subconc)   #determine the length of the list\n",
    "print(len_subconc)   #print the value that we calculated"
   ]
  },
  {
   "cell_type": "markdown",
   "id": "1dd7cb99",
   "metadata": {},
   "source": [
    "Determine the data type, length, and number of alanine residues for this list with three letter codes of amino acids."
   ]
  },
  {
   "cell_type": "code",
   "execution_count": 19,
   "id": "f62817ef",
   "metadata": {},
   "outputs": [],
   "source": [
    "AA3Letter = [\"ALA\", \"ARG\", \"ASN\", \"ASP\", \"CYS\", \"GLN\", \"GLU\", \"GLY\", \"HIS\", \"ILE\", \"LEU\", \"LYS\", \"MET\", \"PHE\", \"PRO\", \"SER\", \"THR\", \"TRP\", \"TYR\", \"VAL\"]"
   ]
  },
  {
   "cell_type": "code",
   "execution_count": 20,
   "id": "68eef84d",
   "metadata": {},
   "outputs": [
    {
     "name": "stdout",
     "output_type": "stream",
     "text": [
      "<class 'list'>\n",
      "20\n",
      "1\n"
     ]
    }
   ],
   "source": [
    "print(type(AA3Letter))   #determine and print the data type\n",
    "\n",
    "len_AA3Letter = len(AA3Letter)   #determine the length of the list\n",
    "print(len_AA3Letter)   #print the value that we calculated\n",
    "\n",
    "ALAcount_AA3Letter = AA3Letter.count(\"ALA\")   #count the number of times ALA appears in the string\n",
    "print(ALAcount_AA3Letter)   #print the value that we calculated"
   ]
  },
  {
   "cell_type": "markdown",
   "id": "f484fb24",
   "metadata": {},
   "source": [
    "Determine the number of “key : value” pairs in the following dictionary of restriction enzymes, with key = name and value = cleavage site. Retrieve the cleavage site for TaqI."
   ]
  },
  {
   "cell_type": "code",
   "execution_count": 22,
   "id": "6bc114bd",
   "metadata": {},
   "outputs": [],
   "source": [
    "REs = {\n",
    "    'EcoRI' : 'GAATTC',\n",
    "    'BamHI' : 'GGATCC',\n",
    "    'EarI' : 'CTCTTC',\n",
    "    'ScaI' : 'AGTACT',\n",
    "    'NotI' : 'GCGGCCGC',\n",
    "    'TaqI' : 'TCGA',\n",
    "    'FokI' : 'GGATG',\n",
    "    'HindIII' : 'AAGCTT'\n",
    "}   #Create a dictionary with restriction enzyme names (keys) and cleavage sites (values). Both are strings."
   ]
  },
  {
   "cell_type": "code",
   "execution_count": 23,
   "id": "2bf9d276",
   "metadata": {},
   "outputs": [
    {
     "name": "stdout",
     "output_type": "stream",
     "text": [
      "8\n",
      "TCGA\n"
     ]
    }
   ],
   "source": [
    "len_REs = len(REs)   #determine the length of the dictionary\n",
    "print(len_REs)   #print the value that we calculated\n",
    "\n",
    "REs_TaqI = REs.get('TaqI')   #look up the cleavage site stored for TaqI\n",
    "print(REs_TaqI)   #print the value that we calculated"
   ]
  },
  {
   "cell_type": "markdown",
   "id": "bcde7971",
   "metadata": {},
   "source": [
    "## __<font color=blue>Index and slice</font>__\n",
    "---"
   ]
  },
  {
   "cell_type": "markdown",
   "id": "0aa294aa",
   "metadata": {},
   "source": [
    "Select the signal peptide (residues 1 to 22: MVSTMLSGLVLWLTFGWTPALA) and serine residues that are phosphorylated (S136 and S200) of this 7B2 protein sequence containing one letter code amino acids."
   ]
  },
  {
   "cell_type": "code",
   "execution_count": 26,
   "id": "f6c554f9",
   "metadata": {},
   "outputs": [],
   "source": [
    "protseq7B2 =\"MVSTMLSGLVLWLTFGWTPALAYSPRTPDRVSETDIQRLLHGVMEQLGIARPRVEYPAHQAMNLVGPQSIEGGAHEGLQHLGPFGNIPNIVAELTGDNTPKDFSEDQGYPDPPNPCPIGKTDDGCLENTPDTAEFSREFQLHQHLFDPEHDYPGLGKWNKKLLYEKMKGGQRRKRRSVNPYLQGQRLDNVVAKKSVPHFSDEDKDPE\""
   ]
  },
  {
   "cell_type": "code",
   "execution_count": 27,
   "id": "36fe1d25",
   "metadata": {},
   "outputs": [
    {
     "name": "stdout",
     "output_type": "stream",
     "text": [
      "MVSTMLSGLVLWLTFGWTPALA\n",
      "S\n",
      "S\n"
     ]
    }
   ],
   "source": [
    "SPseq7B2 = protseq7B2[0:22]   #Select residues 1 (0 as the first item has index 0) to 22 (22 as it goes up to but does not include item 22)\n",
    "print(SPseq7B2)   #print the value that we calculated\n",
    "\n",
    "PhosS136 = protseq7B2[135]   #Select residue 136 (135 as the first item has index 0)\n",
    "print(PhosS136)   #print the value that we calculated\n",
    "\n",
    "PhosS200 = protseq7B2[199]   #Select residue 200 (199 as the first item has index 0)\n",
    "print(PhosS200)   #print the value that we calculated"
   ]
  },
  {
   "cell_type": "markdown",
   "id": "a9bbad67",
   "metadata": {},
   "source": [
    "# For Loops, Logic Statements, and Functions"
   ]
  },
  {
   "cell_type": "markdown",
   "id": "3431aea4",
   "metadata": {},
   "source": [
    "## __<font color=blue>`For` loops to perform the same action on the items in a sequence</font>__\n",
    "---"
   ]
  },
  {
   "cell_type": "markdown",
   "id": "208a0c25",
   "metadata": {},
   "source": [
    "Print each nucleotide from this list with nucleotides."
   ]
  },
  {
   "cell_type": "code",
   "execution_count": 31,
   "id": "cf96247e",
   "metadata": {},
   "outputs": [],
   "source": [
    "Nucleotides = [\"A\", \"T\", \"C\", \"G\"]"
   ]
  },
  {
   "cell_type": "code",
   "execution_count": 32,
   "id": "1eda058f",
   "metadata": {},
   "outputs": [
    {
     "name": "stdout",
     "output_type": "stream",
     "text": [
      "A\n",
      "T\n",
      "C\n",
      "G\n"
     ]
    }
   ],
   "source": [
    "for nt in Nucleotides:   #select each item from the list\n",
    "    print(nt)   #print each item"
   ]
  },
  {
   "cell_type": "markdown",
   "id": "179d8846",
   "metadata": {},
   "source": [
    "Calculate the $pK_b$ values of aspartate using this list of $pK_a$ values of aspartate and save them in a new list called pKb_asp."
   ]
  },
  {
   "cell_type": "code",
   "execution_count": 34,
   "id": "965bf164",
   "metadata": {},
   "outputs": [],
   "source": [
    "pKa_asp = [2.10, 3.86, 9.82]"
   ]
  },
  {
   "cell_type": "code",
   "execution_count": 35,
   "id": "c4009a89",
   "metadata": {},
   "outputs": [
    {
     "name": "stdout",
     "output_type": "stream",
     "text": [
      "[11.9, 10.14, 4.18]\n"
     ]
    }
   ],
   "source": [
    "pKb_asp = []   #create a new, empty list\n",
    "for pKa in pKa_asp:   #select each item from the existing list\n",
    "    pKb = 14 - pKa   #calculate for each item from the existing list the pKb\n",
    "    pKb_asp.append(pKb)   #append the pKb calculated to the newly created list\n",
    "\n",
    "print(pKb_asp)   #print the list that we calculated"
   ]
  },
  {
   "cell_type": "markdown",
   "id": "c01730d4",
   "metadata": {},
   "source": [
    "## __<font color=blue>Logic statements to make choices</font>__\n",
    "---"
   ]
  },
  {
   "cell_type": "markdown",
   "id": "5661f626",
   "metadata": {},
   "source": [
    "Determine the charge of a protein based on its pI (_e.g._ 4.8) and the pH of the solution (_e.g._ 7.4)."
   ]
  },
  {
   "cell_type": "code",
   "execution_count": 38,
   "id": "60c1be67",
   "metadata": {},
   "outputs": [
    {
     "name": "stdout",
     "output_type": "stream",
     "text": [
      "pH is above pI, the protein is negatively charged\n"
     ]
    }
   ],
   "source": [
    "pH = 7.4\n",
    "pI = 4.8\n",
    "if pH > pI:   #if greater then\n",
    "  print(\"pH is above pI, the protein is negatively charged\")   #print the outcome\n",
    "elif pH == pI:   #if equal to\n",
    "  print(\"pH and pI are equal, the protein has no net charge\")   #print the outcome\n",
    "else:   #if smaller then\n",
    "  print(\"pH is below pI, the protein is positively charged\")   #print the outcome"
   ]
  },
  {
   "cell_type": "markdown",
   "id": "08dfaee8",
   "metadata": {},
   "source": [
    "## __<font color=blue>Functions</font>__\n",
    "---"
   ]
  },
  {
   "cell_type": "markdown",
   "id": "a70b75f6",
   "metadata": {},
   "source": [
    "Create and test a function that calculates the concentration of a solution using the Beer-Lambert law. Parameters include the molar extinction coefficient, absorbance, and cuvette pathlength."
   ]
  },
  {
   "cell_type": "code",
   "execution_count": 41,
   "id": "aad196a7",
   "metadata": {},
   "outputs": [
    {
     "data": {
      "text/plain": [
       "4.238095238095238e-05"
      ]
     },
     "execution_count": 41,
     "metadata": {},
     "output_type": "execute_result"
    }
   ],
   "source": [
    "def beer_lambert(epsilon, absorbance, path_length):   #create the function\n",
    "    \"\"\"\n",
    "    Evaluate the concentration of a solution, using the Beer-Lambert law.\n",
    "\n",
    "    Args:\n",
    "        epsilon (float) in L/(mol cm)\n",
    "        absorbance (float) in AU\n",
    "        path_length (float) in cm\n",
    "\n",
    "    Returns:\n",
    "        concentration of the solution (float) in (mol/L)\n",
    "    \"\"\"\n",
    "    concentration = absorbance / (epsilon * path_length)\n",
    "    return concentration\n",
    "    \n",
    "beer_lambert(21000, 0.89,1)   #test the function with random but reasonable parameters"
   ]
  },
  {
   "cell_type": "markdown",
   "id": "354de269",
   "metadata": {},
   "source": [
    "# NumPy For Arithmetic Operations"
   ]
  },
  {
   "cell_type": "markdown",
   "id": "60267abb",
   "metadata": {},
   "source": [
    "Import NumPy. Use convenient naming."
   ]
  },
  {
   "cell_type": "code",
   "execution_count": 44,
   "id": "dc6a180e",
   "metadata": {},
   "outputs": [],
   "source": [
    "import numpy as np"
   ]
  },
  {
   "cell_type": "markdown",
   "id": "5c1cd016",
   "metadata": {},
   "source": [
    "## __<font color=blue>NumPy arrays have a size, dimension, and shape</font>__\n",
    "---"
   ]
  },
  {
   "cell_type": "markdown",
   "id": "dc0d3544",
   "metadata": {},
   "source": [
    "Compare:"
   ]
  },
  {
   "cell_type": "code",
   "execution_count": 47,
   "id": "969ecb93",
   "metadata": {},
   "outputs": [
    {
     "name": "stdout",
     "output_type": "stream",
     "text": [
      "[ 1  2  3  4  5  6  7  8  9 10 11 12 13 14 15 16 17 18 19 20 21 22 23 24]\n",
      "24\n",
      "1\n",
      "(24,)\n"
     ]
    }
   ],
   "source": [
    "array1D = np.array([1,2,3,4,5,6,7,8,9,10,11,12,13,14,15,16,17,18,19,20,21,22,23,24])\n",
    "print(array1D)   #print the 1D array that we created\n",
    "print(array1D.size)   #print the size of the 1D array that we created\n",
    "print(array1D.ndim)   #print the dimension of the 1D array that we created\n",
    "print(array1D.shape)   #print the shape of the 1D array that we created"
   ]
  },
  {
   "cell_type": "markdown",
   "id": "e851a4c4",
   "metadata": {},
   "source": [
    "with"
   ]
  },
  {
   "cell_type": "code",
   "execution_count": 49,
   "id": "88719c4b",
   "metadata": {},
   "outputs": [
    {
     "name": "stdout",
     "output_type": "stream",
     "text": [
      "[[ 1  2  3]\n",
      " [ 4  5  6]\n",
      " [ 7  8  9]\n",
      " [10 11 12]\n",
      " [13 14 15]\n",
      " [16 17 18]\n",
      " [19 20 21]\n",
      " [22 23 24]]\n",
      "24\n",
      "2\n",
      "(8, 3)\n"
     ]
    }
   ],
   "source": [
    "array2D = np.array([[1,2,3],[4,5,6],[7,8,9],[10,11,12],[13,14,15],[16,17,18],[19,20,21],[22,23,24]])\n",
    "print(array2D)   #print the 2D array that we created\n",
    "print(array2D.size)   #print the size of the 2D array that we created\n",
    "print(array2D.ndim)   #print the dimension of the 2D array that we created\n",
    "print(array2D.shape)   #print the shape of the 2D array that we created"
   ]
  },
  {
   "cell_type": "markdown",
   "id": "ce055a85",
   "metadata": {},
   "source": [
    "and"
   ]
  },
  {
   "cell_type": "code",
   "execution_count": 51,
   "id": "30de2a1a",
   "metadata": {},
   "outputs": [
    {
     "name": "stdout",
     "output_type": "stream",
     "text": [
      "[[[ 1  2  3]\n",
      "  [ 4  5  6]\n",
      "  [ 7  8  9]\n",
      "  [10 11 12]]\n",
      "\n",
      " [[13 14 15]\n",
      "  [16 17 18]\n",
      "  [19 20 21]\n",
      "  [22 23 24]]]\n",
      "24\n",
      "3\n",
      "(2, 4, 3)\n"
     ]
    }
   ],
   "source": [
    "array3D = np.array([[[1,2,3],[4,5,6],[7,8,9],[10,11,12]],[[13,14,15],[16,17,18],[19,20,21],[22,23,24]]])\n",
    "print(array3D)   #print the 3D array that we created\n",
    "print(array3D.size)   #print the size of the 3D array that we created\n",
    "print(array3D.ndim)   #print the dimension of the 3D array that we created\n",
    "print(array3D.shape)   #print the shape of the 3D array that we created"
   ]
  },
  {
   "cell_type": "markdown",
   "id": "00fe2417",
   "metadata": {},
   "source": [
    "Array1D is a 1D array with 24 elements and shape (24,).\n",
    "Array2D is a 2D array with 24 elements, 8 rows (axis 0), 3 columns (axis 1), and shape (8,3).\n",
    "Array3D is a 3D array with 24 elements, 2 layers (axis 0), 4 rows (axis 1), 3 columns (axis 2), and shape (2,4,3)."
   ]
  },
  {
   "cell_type": "markdown",
   "id": "2d16338c",
   "metadata": {},
   "source": [
    "We determined the fraction of binding sites occupied for two membrane proteins for the same hormone. The results are in the table below:\n",
    "\n",
    "| [Hormone] (nM)  | Fraction of binding sites occupied - protein 1 | Fraction of binding sites occupied - protein 2 |\n",
    "| ----------- | ----------- | ----------- |\n",
    "| 0.2         | 0.048       | 0.291       |\n",
    "| 0.5         | 0.110       | 0.487       |\n",
    "| 1.0         | 0.224       | 0.669       |\n",
    "| 2.0         | 0.467       | 0.732       |\n",
    "| 5.0         | 0.632       | 0.891       |\n",
    "| 10.0        | 0.715       | 0.948       |\n",
    "| 20.0        | 0.832       | 0.971       |\n",
    "| 50.0        | 0.929       | 0.991       |\n",
    "\n",
    "Store this information in a NumPy array. Print the size, dimension, and shape of the array."
   ]
  },
  {
   "cell_type": "code",
   "execution_count": 54,
   "id": "0e8ead45",
   "metadata": {},
   "outputs": [
    {
     "name": "stdout",
     "output_type": "stream",
     "text": [
      "[[2.00e-01 4.80e-02 2.91e-01]\n",
      " [5.00e-01 1.10e-01 4.87e-01]\n",
      " [1.00e+00 2.24e-01 6.69e-01]\n",
      " [2.00e+00 4.67e-01 7.32e-01]\n",
      " [5.00e+00 6.32e-01 8.91e-01]\n",
      " [1.00e+01 7.15e-01 9.48e-01]\n",
      " [2.00e+01 8.32e-01 9.71e-01]\n",
      " [5.00e+01 9.29e-01 9.91e-01]]\n",
      "24\n",
      "2\n",
      "(8, 3)\n"
     ]
    }
   ],
   "source": [
    "bindingsitesdata = np.array([[0.2,0.048,0.291], [0.5,0.110,0.487], [1.0,0.224,0.669], [2.0,0.467,0.732], [5.0,0.632,0.891], [10.0,0.715,0.948], [20.0,0.832,0.971], [50.0,0.929,0.991]])   #create an 8 x 3 array. The first item is \"Hormone] (nM)\", the second item is \"Fraction of binding sites occupied - protein 1\", and the third item is \"Fraction of binding sites occupied - protein 2\".\n",
    "print(bindingsitesdata)   #print the array that we created\n",
    "\n",
    "print(bindingsitesdata.size)   #print the size of the bindingsitesdata array that we created\n",
    "print(bindingsitesdata.ndim)   #print the dimension of the bindingsitesdata array that we created\n",
    "print(bindingsitesdata.shape)   #print the shape of the bindingsitesdata array that we created"
   ]
  },
  {
   "cell_type": "markdown",
   "id": "8895fa05",
   "metadata": {},
   "source": [
    "Compare:"
   ]
  },
  {
   "cell_type": "code",
   "execution_count": 56,
   "id": "7f8b1a21",
   "metadata": {},
   "outputs": [
    {
     "name": "stdout",
     "output_type": "stream",
     "text": [
      "[0 2 4 6 8]\n"
     ]
    }
   ],
   "source": [
    "array1Darange = np.arange(0, 10, 2)\n",
    "print(array1Darange)"
   ]
  },
  {
   "cell_type": "markdown",
   "id": "6dd76fac",
   "metadata": {},
   "source": [
    "with"
   ]
  },
  {
   "cell_type": "code",
   "execution_count": 58,
   "id": "c3b95129",
   "metadata": {},
   "outputs": [
    {
     "name": "stdout",
     "output_type": "stream",
     "text": [
      "[ 0.   2.5  5.   7.5 10. ]\n"
     ]
    }
   ],
   "source": [
    "array1Dlinspace = np.linspace(0, 10, 5)\n",
    "print(array1Dlinspace)"
   ]
  },
  {
   "cell_type": "markdown",
   "id": "3659db20",
   "metadata": {},
   "source": [
    "Both generate 1D arrays, however:\n",
    "- the array created using arange has 5 evenly spaced elements, with steps of 2: 0, 2, 4, 6, and 8. The end value, 10, is not included.\n",
    "- the array created using linspace has 5 evenly distributed elements, with steps of 2.5: 0, 2.5, 5, 7.5, and 10. The end value, 10, is included."
   ]
  },
  {
   "cell_type": "markdown",
   "id": "16bedff7",
   "metadata": {},
   "source": [
    "We want to perform an experiment using 20 evenly spaced temperature points between 4 and 50 °C (included). Use NumPy arrays to generate a list with data points."
   ]
  },
  {
   "cell_type": "code",
   "execution_count": 61,
   "id": "30e49897",
   "metadata": {},
   "outputs": [
    {
     "name": "stdout",
     "output_type": "stream",
     "text": [
      "[ 4.          6.42105263  8.84210526 11.26315789 13.68421053 16.10526316\n",
      " 18.52631579 20.94736842 23.36842105 25.78947368 28.21052632 30.63157895\n",
      " 33.05263158 35.47368421 37.89473684 40.31578947 42.73684211 45.15789474\n",
      " 47.57894737 50.        ]\n"
     ]
    }
   ],
   "source": [
    "temperaturedatapoints = np.linspace(4, 50, 20)   #use `np.linspace(start, stop, num)`, with start = 4, stop = 50, and num = 20 to create an array with 20 evenly spaced temperature points between 4 and 50 (included)\n",
    "print(temperaturedatapoints)   #print the array that we created"
   ]
  },
  {
   "cell_type": "markdown",
   "id": "1dceefb8",
   "metadata": {},
   "source": [
    "## __<font color=blue>Indexing and slicing for arrays</font>__\n",
    "---"
   ]
  },
  {
   "cell_type": "markdown",
   "id": "5bd99a31",
   "metadata": {},
   "source": [
    "Use the NumPy array we generated earlier for the following data set:\n",
    "\n",
    "| [Hormone] (nM)  | Fraction of binding sites occupied - protein 1 | Fraction of binding sites occupied - protein 2 |\n",
    "| ----------- | ----------- | ----------- |\n",
    "| 0.2         | 0.048       | 0.291       |\n",
    "| 0.5         | 0.110       | 0.487       |\n",
    "| 1.0         | 0.224       | 0.669       |\n",
    "| 2.0         | 0.467       | 0.732       |\n",
    "| 5.0         | 0.632       | 0.891       |\n",
    "| 10.0        | 0.715       | 0.948       |\n",
    "| 20.0        | 0.832       | 0.971       |\n",
    "| 50.0        | 0.929       | 0.991       |\n",
    "\n",
    "1. Select and show the fraction of binding sites occupied for protein 2 when [Hormone] (nM) = 5.0 nM.\n",
    "2. Select and show the fraction of binding sites occupied for both proteins when [Hormone] (nM) = 5.0 nM.\n",
    "3. Select and show the fraction of binding sites occupied for protein 2 for all [Hormone] (nM)."
   ]
  },
  {
   "cell_type": "code",
   "execution_count": 64,
   "id": "dcfc66e3",
   "metadata": {},
   "outputs": [
    {
     "name": "stdout",
     "output_type": "stream",
     "text": [
      "0.891\n",
      "[0.632 0.891]\n",
      "[0.291 0.487 0.669 0.732 0.891 0.948 0.971 0.991]\n"
     ]
    }
   ],
   "source": [
    "print(bindingsitesdata[4,2])   #select and print the third element on the fifth row. Remember that indices start from 0!\n",
    "print(bindingsitesdata[4,1:3])   #select and print the second and third elements of the fifth row. Remember that indices start from 0 and that when we specify the end item, it goes up to but does not include that item!\n",
    "print(bindingsitesdata[:,2])   #select and print the third column. Remember that indices start from 0!"
   ]
  },
  {
   "cell_type": "markdown",
   "id": "4525b6e6",
   "metadata": {},
   "source": [
    "## __<font color=blue>The axis parameter in sum, mean, standard deviation ...</font>__\n",
    "---"
   ]
  },
  {
   "cell_type": "markdown",
   "id": "de824a18",
   "metadata": {},
   "source": [
    "We determined the serum calcium levels (mg/dl) of blood from two patients with chronic renal insufficiency on maintenance hemodialysis. We repeated the experiment 10 times to obtain a more accurate representation. The results can be observed in the table below:\n",
    "\n",
    "| Experiment  | Serum calcium level (mg/dl) - patient 1 | Serum calcium level (mg/dl) - patient 2|\n",
    "| ----------- | ----------- | ----------- |\n",
    "| 1           | 8.53        | 10.12       |\n",
    "| 2           | 9.21        | 9.87        |\n",
    "| 3           | 7.69        | 9.49        |\n",
    "| 4           | 8.13        | 10.39       |\n",
    "| 5           | 7.84        | 10.01       |\n",
    "| 6           | 9.05        | 9.85        |\n",
    "| 7           | 8.33        | 9.34        |\n",
    "\n",
    "Store this information in a 2D NumPy array. Calculate the mean and standard deviation for each patient."
   ]
  },
  {
   "cell_type": "code",
   "execution_count": 67,
   "id": "4b618f5b",
   "metadata": {},
   "outputs": [
    {
     "name": "stdout",
     "output_type": "stream",
     "text": [
      "[8.39714286 9.86728571]\n",
      "[0.5333108  0.33347294]\n"
     ]
    }
   ],
   "source": [
    "serumcalciumleveldata = np.array([[1, 8.53, 10.12],[2, 9.21, 9.87],[3, 7.69, 9.49],[4, 8.13, 10.39],[5, 7.84, 10.011],[6, 9.05, 9.85],[7, 8.33, 9.34]])    #create a 7 x 3 array. The first item is \"Experiment\", the second item is \"Serum calcium level (mg/dl) - patient 1\", and the third item is \"Serum calcium level (mg/dl) - patient 2\".\n",
    "\n",
    "serumcalciumlevelmean = np.mean(serumcalciumleveldata[:,1:3], axis=0)   #calculate the means of the elements of each column with patient data for the serumcalciumleveldata array we created\n",
    "serumcalciumlevelstdv = np.std(serumcalciumleveldata[:,1:3], axis=0)   #calculate the standard deviations of the elements of each column with patient data for the serumcalciumleveldata array we created\n",
    "\n",
    "print(serumcalciumlevelmean)   #print the means\n",
    "print(serumcalciumlevelstdv)   #print the standard deviations"
   ]
  },
  {
   "cell_type": "markdown",
   "id": "eb9fc464",
   "metadata": {},
   "source": [
    "## __<font color=blue>Lists and arrays for arithmetic operations</font>__\n",
    "---\n"
   ]
  },
  {
   "cell_type": "markdown",
   "id": "2b7ea850",
   "metadata": {},
   "source": [
    "Compare (_Tip: Remove code lines that generate an error!_):"
   ]
  },
  {
   "cell_type": "code",
   "execution_count": 70,
   "id": "e1df571f",
   "metadata": {},
   "outputs": [
    {
     "name": "stdout",
     "output_type": "stream",
     "text": [
      "[3 4 5 6]\n",
      "[2 4 6 8]\n",
      "[ 4  6  8 10]\n",
      "[ 3  8 15 24]\n"
     ]
    }
   ],
   "source": [
    "arraya = np.array([1,2,3,4])   #create array a (1D) with 4 elements\n",
    "arrayb = np.array([3,4,5,6])   #create array b (1D) with 4 elements\n",
    "print(2+arraya)   #print 2 plus array a (1D)\n",
    "print(2*arraya)   #print 2 times array a (1D)\n",
    "print(arraya+arrayb)   #print array a (1D) plus array b (1D)\n",
    "print(arraya*arrayb)   #print array a (1D) times array b (1D)"
   ]
  },
  {
   "cell_type": "markdown",
   "id": "6f459c60",
   "metadata": {},
   "source": [
    "with"
   ]
  },
  {
   "cell_type": "code",
   "execution_count": 72,
   "id": "4ea1918e",
   "metadata": {},
   "outputs": [
    {
     "ename": "TypeError",
     "evalue": "unsupported operand type(s) for +: 'int' and 'list'",
     "output_type": "error",
     "traceback": [
      "\u001b[1;31m---------------------------------------------------------------------------\u001b[0m",
      "\u001b[1;31mTypeError\u001b[0m                                 Traceback (most recent call last)",
      "Cell \u001b[1;32mIn[72], line 3\u001b[0m\n\u001b[0;32m      1\u001b[0m lista \u001b[38;5;241m=\u001b[39m [\u001b[38;5;241m1\u001b[39m,\u001b[38;5;241m2\u001b[39m,\u001b[38;5;241m3\u001b[39m,\u001b[38;5;241m4\u001b[39m]   \u001b[38;5;66;03m#create list a with 4 elements\u001b[39;00m\n\u001b[0;32m      2\u001b[0m listb \u001b[38;5;241m=\u001b[39m [\u001b[38;5;241m3\u001b[39m,\u001b[38;5;241m4\u001b[39m,\u001b[38;5;241m5\u001b[39m,\u001b[38;5;241m6\u001b[39m]   \u001b[38;5;66;03m#create list b with 4 elements\u001b[39;00m\n\u001b[1;32m----> 3\u001b[0m \u001b[38;5;28mprint\u001b[39m(\u001b[38;5;241m2\u001b[39m\u001b[38;5;241m+\u001b[39mlista)   \u001b[38;5;66;03m#print 2 plus list a\u001b[39;00m\n\u001b[0;32m      4\u001b[0m \u001b[38;5;28mprint\u001b[39m(\u001b[38;5;241m2\u001b[39m\u001b[38;5;241m*\u001b[39mlista)   \u001b[38;5;66;03m#print 2 times list a\u001b[39;00m\n\u001b[0;32m      5\u001b[0m \u001b[38;5;28mprint\u001b[39m(lista\u001b[38;5;241m+\u001b[39mlistb)   \u001b[38;5;66;03m#print list a plus list b\u001b[39;00m\n",
      "\u001b[1;31mTypeError\u001b[0m: unsupported operand type(s) for +: 'int' and 'list'"
     ]
    }
   ],
   "source": [
    "lista = [1,2,3,4]   #create list a with 4 elements\n",
    "listb = [3,4,5,6]   #create list b with 4 elements\n",
    "print(2+lista)   #print 2 plus list a\n",
    "print(2*lista)   #print 2 times list a\n",
    "print(lista+listb)   #print list a plus list b\n",
    "print(lista*listb)   #print list a times list b"
   ]
  },
  {
   "cell_type": "code",
   "execution_count": 73,
   "id": "5286b6ce",
   "metadata": {},
   "outputs": [
    {
     "name": "stdout",
     "output_type": "stream",
     "text": [
      "[1, 2, 3, 4, 1, 2, 3, 4]\n",
      "[1, 2, 3, 4, 3, 4, 5, 6]\n"
     ]
    },
    {
     "ename": "TypeError",
     "evalue": "can't multiply sequence by non-int of type 'list'",
     "output_type": "error",
     "traceback": [
      "\u001b[1;31m---------------------------------------------------------------------------\u001b[0m",
      "\u001b[1;31mTypeError\u001b[0m                                 Traceback (most recent call last)",
      "Cell \u001b[1;32mIn[73], line 5\u001b[0m\n\u001b[0;32m      3\u001b[0m \u001b[38;5;28mprint\u001b[39m(\u001b[38;5;241m2\u001b[39m\u001b[38;5;241m*\u001b[39mlista)   \u001b[38;5;66;03m#print 2 times list a\u001b[39;00m\n\u001b[0;32m      4\u001b[0m \u001b[38;5;28mprint\u001b[39m(lista\u001b[38;5;241m+\u001b[39mlistb)   \u001b[38;5;66;03m#print list a plus list b\u001b[39;00m\n\u001b[1;32m----> 5\u001b[0m \u001b[38;5;28mprint\u001b[39m(lista\u001b[38;5;241m*\u001b[39mlistb)\n",
      "\u001b[1;31mTypeError\u001b[0m: can't multiply sequence by non-int of type 'list'"
     ]
    }
   ],
   "source": [
    "lista = [1,2,3,4]   #create list a with 4 elements\n",
    "listb = [3,4,5,6]   #create list b with 4 elements\n",
    "print(2*lista)   #print 2 times list a\n",
    "print(lista+listb)   #print list a plus list b\n",
    "print(lista*listb)   #print list a times list b"
   ]
  },
  {
   "cell_type": "code",
   "execution_count": 75,
   "id": "fc40d32e",
   "metadata": {},
   "outputs": [
    {
     "name": "stdout",
     "output_type": "stream",
     "text": [
      "[1, 2, 3, 4, 1, 2, 3, 4]\n",
      "[1, 2, 3, 4, 3, 4, 5, 6]\n"
     ]
    }
   ],
   "source": [
    "lista = [1,2,3,4]   #create list a with 4 elements\n",
    "listb = [3,4,5,6]   #create list b with 4 elements\n",
    "print(2*lista)   #print 2 times list a\n",
    "print(lista+listb)   #print list a plus list b"
   ]
  },
  {
   "cell_type": "markdown",
   "id": "d1d173d1",
   "metadata": {},
   "source": [
    "and"
   ]
  },
  {
   "cell_type": "code",
   "execution_count": 77,
   "id": "5d986c21",
   "metadata": {},
   "outputs": [
    {
     "name": "stdout",
     "output_type": "stream",
     "text": [
      "[[3 4]\n",
      " [5 6]]\n",
      "[[2 4]\n",
      " [6 8]]\n",
      "[[ 6  8]\n",
      " [10 12]]\n",
      "[[ 5 12]\n",
      " [21 32]]\n"
     ]
    }
   ],
   "source": [
    "arrayc = np.array([[1,2],[3,4]])   #create array c (2D) with 4 elements\n",
    "arrayd = np.array([[5,6],[7,8]])   #create array d (2D) with 4 elements\n",
    "print(2+arrayc)   #print 2 plus array c (2D)\n",
    "print(2*arrayc)   #print 2 times array c (2D)\n",
    "print(arrayc+arrayd)   #print array c (2D) plus array d (2D)\n",
    "print(arrayc*arrayd)   #print array c (2D) times array d (2D)"
   ]
  },
  {
   "cell_type": "markdown",
   "id": "4c7b250f",
   "metadata": {},
   "source": [
    "We can sum ('+') arrays with each other or a scalar. It operates on an element by element basis.\n",
    "\n",
    "We cannot sum lists with a scalar. We get an error message: __<font color=red>TypeError</font>__: unsupported operand type(s) for +: 'int' and 'list'!\n",
    "\n",
    "We cannot sum lists with each other: the '+' operator concatenates two lists. It appends one list at the end of the other list and results in a new list as output.\n",
    "\n",
    "We can multiply ('*') arrays with each other or a scalar. It operates on an element by element basis.\n",
    "\n",
    "We can multiply lists with a whole number. It repeats the values in the list a certain number of times. \n",
    "\n",
    "We cannot multiply lists with each other. We get an error message: __<font color=red>TypeError</font>__: can't multiply sequence by non-int of type 'list'!"
   ]
  },
  {
   "cell_type": "markdown",
   "id": "50bab018",
   "metadata": {},
   "source": [
    "Create NumPy arrays and calculate their sums to verify the information shown in the figure above."
   ]
  },
  {
   "cell_type": "code",
   "execution_count": 79,
   "id": "db763e9f",
   "metadata": {},
   "outputs": [
    {
     "name": "stdout",
     "output_type": "stream",
     "text": [
      "[[1 2 3 4]\n",
      " [5 6 7 8]]\n",
      "(2, 4)\n",
      "[[1 2 3 4]]\n",
      "(1, 4)\n",
      "[1 2 3 4]\n",
      "(4,)\n",
      "[[1]\n",
      " [5]]\n",
      "(2, 1)\n",
      "[[ 2  4  6  8]\n",
      " [ 6  8 10 12]]\n",
      "[[ 2  4  6  8]\n",
      " [ 6  8 10 12]]\n",
      "[[ 2  3  4  5]\n",
      " [10 11 12 13]]\n",
      "[[2 3 4 5]\n",
      " [6 7 8 9]]\n",
      "[[2 3 4 5]\n",
      " [6 7 8 9]]\n"
     ]
    }
   ],
   "source": [
    "arrayk = np.array([[1,2,3,4],[5,6,7,8]])   #create array k (2D) with 8 elements\n",
    "print(arrayk)   #print the 2D array that we created\n",
    "print(arrayk.shape)   #print the shape of the 2D array that we created. Array k has 2 rows and 4 columns.\n",
    "\n",
    "arrayl2D = np.array([[1,2,3,4]])   #create array l2D (2D) with 4 elements\n",
    "print(arrayl2D)   #print the 2D array that we created\n",
    "print(arrayl2D.shape)   #print the shape of the 2D array that we created. Array l2D has 1 row and 4 columns.\n",
    "\n",
    "arrayl1D = np.array([1,2,3,4])   #create array l1D (1D) with 4 elements\n",
    "print(arrayl1D)   #print the 1D array that we created\n",
    "print(arrayl1D.shape)   #print the shape of the 1D array that we created. Array l1D has 4 elements.\n",
    "\n",
    "arraym = np.array([[1],[5]])   #create array m (2D) with 2 elements\n",
    "print(arraym)   #print the 2D array that we created\n",
    "print(arraym.shape)   #print the shape of the 2D array that we created. Array m has 2 rows and 1 column.\n",
    "\n",
    "print(arrayk+arrayl2D)   #print array k (2D) plus array l2D (2D). Array l2D is conceptually extended along axis 0 to create an array with two rows, i.e. ([[1,2,3,4],[1,2,3,4]]) and then added to array k.\n",
    "print(arrayk+arrayl1D)   #print array k (2D) plus array l1D (1D). Array l1D is conceptually extended along axis 0 to create an array with two rows, i.e. ([[1,2,3,4],[1,2,3,4]]) and then added to array k.\n",
    "print(arrayk+arraym)   #print array k (2D) plus array m (2D). Array m is conceptually extended along axis 1 to create an array with four columns, i.e. ([[1,1,1,1],[5,5,5,5]]) and then added to array k.\n",
    "print(arrayl2D+arraym)   #print array l2D (2D) plus array m (2D). Array l2D is conceptually extended along axis 0 to create an array with two rows, i.e. ([[1,2,3,4],[1,2,3,4]]). Array m is conceptually extended along axis 1 to create an array with two rows, i.e. ([[1,1,1,1],[5,5,5,5]]).\n",
    "print(arrayl1D+arraym)   #print array l1D (1D) plus array m (2D). Array l1D is conceptually extended along axis 0 to create an array with two rows, i.e. ([[1,2,3,4],[1,2,3,4]]). Array m is conceptually extended along axis 1 to create an array with two rows, i.e. ([[1,1,1,1],[5,5,5,5]])."
   ]
  },
  {
   "cell_type": "markdown",
   "id": "0da5500a",
   "metadata": {},
   "source": [
    "## __<font color=blue>Looping for arrays</font>__\n",
    "---"
   ]
  },
  {
   "cell_type": "markdown",
   "id": "6060cc48",
   "metadata": {},
   "source": [
    "Compare:"
   ]
  },
  {
   "cell_type": "code",
   "execution_count": 81,
   "id": "1bae38fa",
   "metadata": {},
   "outputs": [
    {
     "name": "stdout",
     "output_type": "stream",
     "text": [
      "[0, 1, 2]\n",
      "[3, 4, 5]\n",
      "[6, 7, 8]\n",
      "[9, 10, 11]\n"
     ]
    }
   ],
   "source": [
    "arrayz = ([[0,1,2], [3,4,5], [6,7,8], [9,10,11]])\n",
    "\n",
    "for x in arrayz:\n",
    "    print(x)"
   ]
  },
  {
   "cell_type": "markdown",
   "id": "42a56703",
   "metadata": {},
   "source": [
    "with"
   ]
  },
  {
   "cell_type": "code",
   "execution_count": 83,
   "id": "0d047179",
   "metadata": {},
   "outputs": [
    {
     "name": "stdout",
     "output_type": "stream",
     "text": [
      "0\n",
      "1\n",
      "2\n",
      "3\n",
      "4\n",
      "5\n",
      "6\n",
      "7\n",
      "8\n",
      "9\n",
      "10\n",
      "11\n"
     ]
    }
   ],
   "source": [
    "for subarrayz in arrayz:\n",
    "    for x in subarrayz:\n",
    "        print(x)"
   ]
  },
  {
   "cell_type": "markdown",
   "id": "cf3ae698",
   "metadata": {},
   "source": [
    "and"
   ]
  },
  {
   "cell_type": "code",
   "execution_count": 85,
   "id": "e564bb89",
   "metadata": {},
   "outputs": [
    {
     "name": "stdout",
     "output_type": "stream",
     "text": [
      "0\n",
      "1\n",
      "2\n",
      "3\n",
      "4\n",
      "5\n",
      "6\n",
      "7\n",
      "8\n",
      "9\n",
      "10\n",
      "11\n"
     ]
    }
   ],
   "source": [
    "for x in np.ravel(arrayz):\n",
    "    print(x)"
   ]
  },
  {
   "cell_type": "markdown",
   "id": "f108379d",
   "metadata": {},
   "source": [
    "The first loop accesses in sequence the subarrays from which array z is constructed. The other two loops access all elements from array z."
   ]
  },
  {
   "cell_type": "markdown",
   "id": "10b19dd8",
   "metadata": {},
   "source": [
    "# Pandas For Working With Tabular Data"
   ]
  },
  {
   "cell_type": "markdown",
   "id": "2ee20169",
   "metadata": {},
   "source": [
    "Import pandas. Use convenient naming."
   ]
  },
  {
   "cell_type": "code",
   "execution_count": 87,
   "id": "b56f5bcb",
   "metadata": {},
   "outputs": [],
   "source": [
    "import pandas as pd"
   ]
  },
  {
   "cell_type": "markdown",
   "id": "672ece34",
   "metadata": {},
   "source": [
    "## __<font color=blue>Creating a DataFrame with nested lists or arrays</font>__\n",
    "---"
   ]
  },
  {
   "cell_type": "markdown",
   "id": "7a3d9eb1",
   "metadata": {},
   "source": [
    "Create a pandas DataFrame for the data below, representing Michaelis-Menten parameters of wild type and mutant enzyme. Print the number of elements, rows and columns of the DataFrame. See what information the `.info()` function provides.\n",
    "\n",
    "| Enzyme      | $k_{cat}$ (1/s) | $K_{m}$ (mM) |\n",
    "| ----------- | ----------- | ----------- |\n",
    "| Wild type   | 21          | 0.54        |\n",
    "| D178N       | 0.11        | 0.21        |\n",
    "| D224G       | 0.05        |             |\n",
    "| E305G       | 19          | 3.2         |"
   ]
  },
  {
   "cell_type": "code",
   "execution_count": 89,
   "id": "a01a0639",
   "metadata": {},
   "outputs": [
    {
     "name": "stdout",
     "output_type": "stream",
     "text": [
      "      Enzyme  kcat (1/s)  Km (mM)\n",
      "0  Wild type       21.00     0.54\n",
      "1      D178N        0.11     0.21\n",
      "2       D224        0.05      NaN\n",
      "3      E305G       19.00     3.20\n",
      "12\n",
      "(4, 3)\n",
      "<class 'pandas.core.frame.DataFrame'>\n",
      "RangeIndex: 4 entries, 0 to 3\n",
      "Data columns (total 3 columns):\n",
      " #   Column      Non-Null Count  Dtype  \n",
      "---  ------      --------------  -----  \n",
      " 0   Enzyme      4 non-null      object \n",
      " 1   kcat (1/s)  4 non-null      float64\n",
      " 2   Km (mM)     3 non-null      float64\n",
      "dtypes: float64(2), object(1)\n",
      "memory usage: 228.0+ bytes\n"
     ]
    }
   ],
   "source": [
    "MMdata = [[\"Wild type\",21,0.54],\n",
    "          [\"D178N\",0.11,0.21],\n",
    "          [\"D224\",0.05,],\n",
    "          [\"E305G\",19,3.2]]   #create a 4 x 3 nested list with different data types. The first item (a string) is \"Enzyme\", the second item (a floating point number) is \"kcat\", and the third item (a floating point number) is \"Km\".\n",
    "\n",
    "df_MMdata = pd.DataFrame(MMdata, columns=['Enzyme', 'kcat (1/s)', 'Km (mM)'])   #create a pandas DataFrame from the MMdata nested list. Use \"Enzyme\", \"kcat (1/s)\", and \"Km (mM)\" as column labels.\n",
    "print(df_MMdata)   #print the DataFrame created\n",
    "\n",
    "print(df_MMdata.size)   #print the number of elements of the bindingsitesdata DataFrame that we created\n",
    "print(df_MMdata.shape)   #print the number of rows and columns of the bindingsitesdata DataFrame that we created\n",
    "df_MMdata.info()   #print more information about the bindingsitesdata DataFrame that we created"
   ]
  },
  {
   "cell_type": "markdown",
   "id": "7a27d4dc",
   "metadata": {},
   "source": [
    "`.info()` prints information about a DataFrame, including the index dtype and columns, non-null values, and memory usage."
   ]
  },
  {
   "cell_type": "markdown",
   "id": "70f1def6",
   "metadata": {},
   "source": [
    "## __<font color=blue>Creating a DataFrame from an Excel file</font>__\n",
    "---"
   ]
  },
  {
   "cell_type": "markdown",
   "id": "2eb02d1f",
   "metadata": {},
   "source": [
    "Read in the data file \"ThermalUnfoldingAssay.xlsx\". This Excel file contains 1 sheet, 4 columns, 32 rows with experimental data,  2 rows with column headers, and 1 row with data processing information."
   ]
  },
  {
   "cell_type": "code",
   "execution_count": 91,
   "id": "4921e7a0",
   "metadata": {},
   "outputs": [
    {
     "name": "stdout",
     "output_type": "stream",
     "text": [
      "    T (°C)         WT   Mutant A   Mutant B\n",
      "0     20.0 -28.709108 -26.342836 -27.088465\n",
      "1     22.5 -28.847431 -27.193252 -26.581579\n",
      "2     25.0 -28.448899 -26.560347 -28.020270\n",
      "3     27.5 -29.282896 -26.920047 -26.091420\n",
      "4     30.0 -28.442245 -27.335664 -26.931440\n",
      "5     32.5 -27.741143 -26.788980 -26.878898\n",
      "6     35.0 -28.928942 -26.908589 -26.799814\n",
      "7     37.5 -27.714761 -26.938221 -27.612747\n",
      "8     40.0 -27.697427 -26.663926 -26.190903\n",
      "9     42.5 -27.823273 -26.931332 -22.913678\n",
      "10    45.0 -27.867140 -26.650204 -18.992521\n",
      "11    47.5 -27.049062 -26.523613 -11.643902\n",
      "12    50.0 -25.035704 -27.316294  -6.754724\n",
      "13    52.5 -19.749202 -25.804711  -4.628358\n",
      "14    55.0 -14.983321 -26.093757  -4.242083\n",
      "15    57.5  -9.771392 -25.785081  -3.751817\n",
      "16    60.0  -7.349730 -24.464697  -3.491320\n",
      "17    62.5  -4.543751 -21.653154  -3.219545\n",
      "18    65.0  -4.428052 -17.528963  -4.268858\n",
      "19    67.5  -4.235590 -11.581591  -4.483244\n",
      "20    70.0  -5.672031  -7.287110  -4.530467\n",
      "21    72.5  -3.989506  -3.644007  -2.874699\n",
      "22    75.0  -5.137707  -1.987016  -3.656391\n",
      "23    77.5  -4.969255  -3.456264  -3.946385\n",
      "24    80.0  -4.402738  -1.668800  -3.577161\n",
      "25    82.5  -3.998814  -1.821325  -3.543667\n",
      "26    85.0  -4.145586  -1.464256  -3.582379\n",
      "27    87.5  -5.047029  -2.736726  -3.151799\n",
      "28    90.0  -3.822517  -2.860620  -3.694073\n",
      "29    92.5  -4.626847  -1.773010  -2.738769\n",
      "30    95.0  -4.341939  -2.370928  -3.490898\n",
      "31    97.5  -5.135741  -2.143389  -3.781400\n"
     ]
    }
   ],
   "source": [
    "dfThermalUnfoldingAssay = pd.read_excel ('../data/ThermalUnfoldingAssay.xlsx',   #create a pandas DataFrame from the filename with file path and extension shown\n",
    "                    sheet_name=0,   #use the first sheet (no need to specifically include this as we use the default setting)\n",
    "                    skiprows=1,   #skip the first row\n",
    "                    usecols=None,   #import all columns (no need to specifically include this as we use the default setting)\n",
    "                    header=0,   #use the column names from the now first row as column labels (no need to specifically include this as we use the default setting)\n",
    "                    skipfooter=1)   #skip the last row\n",
    "\n",
    "print(dfThermalUnfoldingAssay)   #print the DataFrame created"
   ]
  },
  {
   "cell_type": "markdown",
   "id": "dbb2b24f",
   "metadata": {},
   "source": [
    "## __<font color=blue>Creating a DataFrame from a text file</font>__\n",
    "---"
   ]
  },
  {
   "cell_type": "markdown",
   "id": "6f2949cf",
   "metadata": {},
   "source": [
    "Read in the data file \"ProteinAssayStandardCurve.txt\". This text file with tab-separated data contains 2 columns, 8 rows with experimental data,  and 1 row with column headers."
   ]
  },
  {
   "cell_type": "code",
   "execution_count": 95,
   "id": "9ebff1f4",
   "metadata": {},
   "outputs": [
    {
     "name": "stdout",
     "output_type": "stream",
     "text": [
      "   BSA (mg/ml)  A595nm (AU)\n",
      "0        0.000        0.245\n",
      "1        0.125        0.326\n",
      "2        0.250        0.349\n",
      "3        0.500        0.518\n",
      "4        0.750        0.640\n",
      "5        1.000        0.766\n",
      "6        1.500        0.957\n",
      "7        2.000        1.071\n"
     ]
    }
   ],
   "source": [
    "dfProteinAssay = pd.read_csv ('../data/ProteinAssay_StandardCurve.txt',   #create a pandas DataFrame from the filename with file path and extension shown\n",
    "                    sep='\\t',   #the file contains tab-separated data\n",
    "                    skiprows=0,   #skip no rows (no need to specifically include this as we use the default setting)\n",
    "                    usecols=None,   #import all columns (no need to specifically include this as we use the default setting)\n",
    "                    header=0,   #use the column names from the now first row as column labels (no need to specifically include this as we use the default setting)\n",
    "                    skipfooter=0)   #skip the last row (no need to specifically include this as we use the default setting)\n",
    "\n",
    "print (dfProteinAssay)   #print the DataFrame created"
   ]
  },
  {
   "cell_type": "markdown",
   "id": "230078cb",
   "metadata": {},
   "source": [
    "## __<font color=blue>Indexing and slicing for DataFrames using `.iloc`</font>__\n",
    "---"
   ]
  },
  {
   "cell_type": "markdown",
   "id": "367b1bd9",
   "metadata": {},
   "source": [
    "Create a pandas DataFrame for the data below.\n",
    "\n",
    "| [Hormone] (nM)  | Fraction of binding sites occupied - protein 1 | Fraction of binding sites occupied - protein 2 |\n",
    "| ----------- | ----------- | ----------- |\n",
    "| 0.2         | 0.048       | 0.291       |\n",
    "| 0.5         | 0.110       | 0.487       |\n",
    "| 1.0         | 0.224       | 0.669       |\n",
    "| 2.0         | 0.467       | 0.732       |\n",
    "| 5.0         | 0.632       | 0.891       |\n",
    "| 10.0        | 0.715       | 0.948       |\n",
    "| 20.0        | 0.832       | 0.971       |\n",
    "| 50.0        | 0.929       | 0.991       |\n",
    "\n",
    "1. Select and show the fraction of binding sites occupied for protein 2 when [Hormone] (nM) = 5.0 nM.\n",
    "2. Select and show the fraction of binding sites occupied for both proteins when [Hormone] (nM) = 5.0 nM.\n",
    "3. Select and show the fraction of binding sites occupied for protein 2 for all [Hormone] (nM). Use two different ways."
   ]
  },
  {
   "cell_type": "code",
   "execution_count": 97,
   "id": "6c13f0b6",
   "metadata": {},
   "outputs": [
    {
     "name": "stdout",
     "output_type": "stream",
     "text": [
      "0.891\n",
      "Protein 1    0.632\n",
      "Protein 2    0.891\n",
      "Name: 4, dtype: float64\n",
      "0    0.291\n",
      "1    0.487\n",
      "2    0.669\n",
      "3    0.732\n",
      "4    0.891\n",
      "5    0.948\n",
      "6    0.971\n",
      "7    0.991\n",
      "Name: Protein 2, dtype: float64\n",
      "0    0.291\n",
      "1    0.487\n",
      "2    0.669\n",
      "3    0.732\n",
      "4    0.891\n",
      "5    0.948\n",
      "6    0.971\n",
      "7    0.991\n",
      "Name: Protein 2, dtype: float64\n"
     ]
    }
   ],
   "source": [
    "arr_bindingsitesdata = np.array([[0.2,0.048,0.291],\n",
    "                                 [0.5,0.110,0.487],\n",
    "                                 [1.0,0.224,0.669],\n",
    "                                 [2.0,0.467,0.732],\n",
    "                                 [5.0,0.632,0.891],\n",
    "                                 [10.0,0.715,0.948],\n",
    "                                 [20.0,0.832,0.971],\n",
    "                                 [50.0,0.929,0.991]])   #create an 8 x 3 array. The first item is \"Hormone] (nM)\", the second item is \"Fraction of binding sites occupied - protein 1\", and the third item is \"Fraction of binding sites occupied - protein 2\".\n",
    "\n",
    "df_bindingsitesdata = pd.DataFrame(arr_bindingsitesdata, columns=['[Hormone] (nM)', 'Protein 1', 'Protein 2'])   #create a pandas DataFrame from the arr_bindingsitesdata array. Use \"Hormone] (nM)\", \"Protein 1\", and \"Protein 2\" as column labels.\n",
    "\n",
    "print(df_bindingsitesdata.iloc[4,2])   #select and print the third element on the fifth row. Remember that indices start from 0!\n",
    "\n",
    "print(df_bindingsitesdata.iloc[4,1:3])   #select and print the second and third elements of the fifth row. Remember that indices start from 0 and that when we specify the end item, it goes up to but does not include that item!\n",
    "\n",
    "print(df_bindingsitesdata.iloc[:,2])   #select and print the third column. Remember that indices start from 0!\n",
    "print(df_bindingsitesdata['Protein 2'])   #select and print the third column. Use the column name."
   ]
  },
  {
   "cell_type": "markdown",
   "id": "3c7d50ef",
   "metadata": {},
   "source": [
    "## __<font color=blue>Manipulating DataFrames: inserting columns</font>__\n",
    "---"
   ]
  },
  {
   "cell_type": "markdown",
   "id": "d98216d8",
   "metadata": {},
   "source": [
    "Read in the data file \"ProteinAssay_StandardCurve_Triplicates.xlsx\". This Excel file contains 2 sheets, 3 columns, 8 rows with experimental data, and 1 row with column headers.\n",
    "\n",
    "Insert a column with $[BSA]$ in mg/ml."
   ]
  },
  {
   "cell_type": "code",
   "execution_count": 101,
   "id": "cf978a9c",
   "metadata": {},
   "outputs": [
    {
     "name": "stdout",
     "output_type": "stream",
     "text": [
      "   A562nm (AU) - 1  A562nm (AU) - 2  A562nm (AU) - 3\n",
      "0           -0.041           -0.055           -0.073\n",
      "1            0.081            0.075            0.087\n",
      "2            0.212            0.244            0.263\n",
      "3            0.495            0.513            0.529\n",
      "4            0.651            0.781            0.763\n",
      "5            1.010            1.075            1.056\n",
      "6            1.437            1.546            1.712\n",
      "7            1.944            2.062            2.044\n",
      "   [BSA] (mg/ml)  A562nm (AU) - 1  A562nm (AU) - 2  A562nm (AU) - 3\n",
      "0          0.000           -0.041           -0.055           -0.073\n",
      "1          0.125            0.081            0.075            0.087\n",
      "2          0.250            0.212            0.244            0.263\n",
      "3          0.500            0.495            0.513            0.529\n",
      "4          0.750            0.651            0.781            0.763\n",
      "5          1.000            1.010            1.075            1.056\n",
      "6          1.500            1.437            1.546            1.712\n",
      "7          2.000            1.944            2.062            2.044\n"
     ]
    }
   ],
   "source": [
    "dfProteinAssayTri = pd.read_excel ('../data/ProteinAssay_StandardCurve_Triplicates.xlsx',   #create a pandas DataFrame from the filename with file path and extension shown\n",
    "                    sheet_name=1,   #use the second sheet\n",
    "                    skiprows=0,   #skip no rows (no need to specifically include this as we use the default setting)\n",
    "                    usecols=None,   #import all columns (no need to specifically include this as we use the default setting)\n",
    "                    header=0,   #use the column names from the now first row as column labels (no need to specifically include this as we use the default setting)\n",
    "                    skipfooter=0)   #skip no footers (no need to specifically include this as we use the default setting)\n",
    "\n",
    "print(dfProteinAssayTri)   #print the DataFrame created\n",
    "\n",
    "BSAconc = [0, 0.125, 0.250, 0.500, 0.750, 1.00, 1.50, 2.00]   #create a list with integers containing the BSA concentrations in mg/ml\n",
    "\n",
    "dfProteinAssayTri.insert(0, '[BSA] (mg/ml)', BSAconc)   #insert the column at index 0 (i.e. make it the first column) in dfProteinAssayTri, name the column [BSA], and fill it with the data provided by BSAconc\n",
    "\n",
    "print(dfProteinAssayTri)   #print the DataFrame created"
   ]
  },
  {
   "cell_type": "markdown",
   "id": "7561196c",
   "metadata": {},
   "source": [
    "## __<font color=blue>The axis parameter in mean, standard deviation ...</font>__\n",
    "---"
   ]
  },
  {
   "cell_type": "markdown",
   "id": "7e70693f",
   "metadata": {},
   "source": [
    "Use the DataFrame created in the previous exercise and the `pd.dataframe_name.mean()` and `pd.dataframe_name.std()` functions to calculate the mean and standard deviation for the three replicate A562nm measurements for each $[BSA]$ concentration. Store the information in two new columns: 'A562nm (AU) - mean' and 'A562nm (AU) - std'."
   ]
  },
  {
   "cell_type": "code",
   "execution_count": 105,
   "id": "77ad8cef",
   "metadata": {},
   "outputs": [
    {
     "name": "stdout",
     "output_type": "stream",
     "text": [
      "   [BSA] (mg/ml)  A562nm (AU) - 1  A562nm (AU) - 2  A562nm (AU) - 3  \\\n",
      "0          0.000           -0.041           -0.055           -0.073   \n",
      "1          0.125            0.081            0.075            0.087   \n",
      "2          0.250            0.212            0.244            0.263   \n",
      "3          0.500            0.495            0.513            0.529   \n",
      "4          0.750            0.651            0.781            0.763   \n",
      "5          1.000            1.010            1.075            1.056   \n",
      "6          1.500            1.437            1.546            1.712   \n",
      "7          2.000            1.944            2.062            2.044   \n",
      "\n",
      "   A562nm (AU) - mean  A562nm (AU) - std  \n",
      "0           -0.056333           0.016042  \n",
      "1            0.081000           0.006000  \n",
      "2            0.239667           0.025775  \n",
      "3            0.512333           0.017010  \n",
      "4            0.731667           0.070437  \n",
      "5            1.047000           0.033422  \n",
      "6            1.565000           0.138481  \n",
      "7            2.016667           0.063571  \n"
     ]
    }
   ],
   "source": [
    "dfProteinAssayTri['A562nm (AU) - mean'] = dfProteinAssayTri.iloc[:,1:4].mean(axis=1)   #Calculate the mean for each row and store the value in a new column called 'A562nm (AU) - mean'. Use axis 1. Use columns 1 = A562nm (AU) - 1 to 3 = A562nm (AU) - 3, represented by [1:4].\n",
    "dfProteinAssayTri['A562nm (AU) - std'] = dfProteinAssayTri.iloc[:,1:4].std(axis=1)   #Calculate the standard deviation for each row and store the value in a new column called 'A562nm (AU) - std'. Use axis 1. Use columns 1 = A562nm (AU) - 1 to 3 = A562nm (AU) - 3, represented by [1:4].\n",
    "\n",
    "print(dfProteinAssayTri)   #print the DataFrame created"
   ]
  },
  {
   "cell_type": "markdown",
   "id": "021e0a0a",
   "metadata": {},
   "source": [
    "## __<font color=blue>Arithmetic operations for DataFrames</font>__\n",
    "---"
   ]
  },
  {
   "cell_type": "markdown",
   "id": "183e8c63",
   "metadata": {},
   "source": [
    "For the following data,\n",
    "\n",
    "| Sample     | A280nm - 1  | A280nm - 2  | A280nm - 3  |\n",
    "| ---------- | ----------- | ----------- | ----------- |\n",
    "| Sample 1   | 0.734       | 0.699       | 0.755       |\n",
    "| Sample 2   | 0.457       | 0.489       | 0.511       |\n",
    "| Sample 3   | 0.321       | 0.278       | 0.349       |\n",
    "\n",
    "1. create a Pandas DataFrame,\n",
    "2. calculate the mean for the three replicate A280nm measurements for each sample and store the information in a new column,\n",
    "3. apply the Beer-Lambert law to all samples, use a path length of 1 cm and an extinction coefficient of 43824 $M^{-1} cm^{-1}$. Store the information in a new column."
   ]
  },
  {
   "cell_type": "code",
   "execution_count": 109,
   "id": "d17292cf",
   "metadata": {},
   "outputs": [
    {
     "name": "stdout",
     "output_type": "stream",
     "text": [
      "     Sample  A280nm - 1  A280nm - 2  A280nm - 3\n",
      "0  sample 1       0.734       0.699       0.755\n",
      "1  sample 2       0.457       0.489       0.511\n",
      "2  sample 3       0.321       0.278       0.349\n",
      "     Sample  A280nm - 1  A280nm - 2  A280nm - 3  A280nm - mean\n",
      "0  sample 1       0.734       0.699       0.755       0.729333\n",
      "1  sample 2       0.457       0.489       0.511       0.485667\n",
      "2  sample 3       0.321       0.278       0.349       0.316000\n",
      "     Sample  A280nm - 1  A280nm - 2  A280nm - 3  A280nm - mean  Conc (M)\n",
      "0  sample 1       0.734       0.699       0.755       0.729333  0.000017\n",
      "1  sample 2       0.457       0.489       0.511       0.485667  0.000011\n",
      "2  sample 3       0.321       0.278       0.349       0.316000  0.000007\n"
     ]
    }
   ],
   "source": [
    "#Create the pandas DataFrame\n",
    "dataA280nm = [['sample 1', 0.734, 0.699, 0.755],\n",
    "              ['sample 2', 0.457, 0.489, 0.511],\n",
    "              ['sample 3', 0.321, 0.278, 0.349]]   #create a 3 x 4 nested list with different data types. The first item (a string) is \"Sample\", the second to fourth items (floating point numbers) are for \"A280nm - 1\" to \"A280nm - 3\".\n",
    "\n",
    "dfA280nm = pd.DataFrame(dataA280nm, columns=['Sample', 'A280nm - 1', 'A280nm - 2', 'A280nm - 3'])   #create a pandas DataFrame from the dataA280nm nested list. Use \"Sample\" and \"A280nm - 1\" to \"A280nm - 3\" as column labels.\n",
    "  \n",
    "print(dfA280nm)   #print the DataFrame created\n",
    "\n",
    "\n",
    "#Cacluate the means\n",
    "dfA280nm['A280nm - mean'] = dfA280nm.iloc[:,1:4].mean(axis=1)   #calculate the mean for the three replicate A280nm measurements (i.e. columns 1 = \"A280nm - 1\" to 3 = \"A280nm - 3\", represented by [1:4]) for each sample and store the information in a new column called 'A280nm - mean'.\n",
    "\n",
    "print(dfA280nm)   #print the DataFrame created\n",
    "\n",
    "\n",
    "#Calculate the concentrations\n",
    "def beer_lambert(absorbance, epsilon, path_length):   #define the Beer-Lambert function\n",
    "    \"\"\"\n",
    "    Evaluate the concentration of a solution, using the Beer-Lambert law.\n",
    "\n",
    "    Args:\n",
    "        absorbance (float) in AU\n",
    "        epsilon (float) in L/(mol cm)\n",
    "        path_length (float) in cm\n",
    "\n",
    "    Returns:\n",
    "        concentration of the solution (float) in (mol/L)\n",
    "    \"\"\"\n",
    "    concentration = absorbance / (epsilon * path_length)\n",
    "    return concentration\n",
    "\n",
    "dfA280nm['Conc (M)'] = dfA280nm['A280nm - mean'].apply(beer_lambert, args=(43824, 1))   #apply the Beer-Lambert function with arguments 43824, and 1 (after the absorbance value) to the mean of all samples, i.e. 'A280nm - mean' and store the information in a new column called 'Conc (M)'\n",
    "\n",
    "print(dfA280nm)   #print the DataFrame created"
   ]
  },
  {
   "cell_type": "markdown",
   "id": "cb6e72d7",
   "metadata": {},
   "source": [
    "# Matplotlib For Plotting And Data Visualization"
   ]
  },
  {
   "cell_type": "markdown",
   "id": "ccc78e81",
   "metadata": {},
   "source": [
    "Import matplotlib. Use convenient naming."
   ]
  },
  {
   "cell_type": "code",
   "execution_count": 113,
   "id": "d7685bda",
   "metadata": {},
   "outputs": [],
   "source": [
    "import matplotlib.pyplot as plt"
   ]
  },
  {
   "cell_type": "markdown",
   "id": "d4b39c42",
   "metadata": {},
   "source": [
    "We constructed a Lineweaver-Burk plot for the kinetic data obtained for an enzyme in the absence and presence of inhibitor using the following code.\n",
    "\n",
    "```\n",
    "Subconc = np.array([1, 2, 4, 8, 12])   #the substrate concentrations, in mM\n",
    "V0withoutI = np.array([2.1, 3.7, 6.6, 11.6, 15.1])   #the initial velocity in the absence of inhibitor for each substrate concentration, in mM/s\n",
    "V0withI =  np.array([1.1, 2.2, 4.1, 7.4, 10.2])   #the initial velocity in the presence of inhibitor for each substrate concentration, in mM/s\n",
    "\n",
    "plt.figure(figsize=(7,5))   #start a figure object\n",
    "\n",
    "plt.plot(1/Subconc, 1/V0withoutI,   #plot a set of (x (=1/the concentrations), y (= 1/the measured velocities in the absence of inhibitor)) data\n",
    "         marker='o', color='b', markersize=8,   #use a round, blue marker with size 8\n",
    "         linestyle='solid', linewidth='1',   #use a solid line with width 1\n",
    "         label='Without inhibitor')   #add a label for the legend\n",
    "\n",
    "plt.plot(1/Subconc, 1/V0withI,   #plot a set of (x (=1/the concentrations), y (= 1/the measured velocities in the presence of inhibitor)) data\n",
    "         marker='o', color='b', markersize=8,   #use a round, blue marker with size 8\n",
    "         linestyle='solid', linewidth='1',   #use a solid line with width 1\n",
    "         label='With inhibitor')   #add a label for the legend\n",
    "\n",
    "plt.title('Lineweaver-Burk plot', fontsize=18)   #title of graph\n",
    "plt.xlabel('$1/[S_{0}]$ ($mM^{-1}$)', fontsize=14)   #X-axis label\n",
    "plt.ylabel('$1/V_{0}$ ($s mM^{-1}$)', fontsize=14)   #Y-axis label\n",
    "plt.legend()   #add a legend\n",
    "\n",
    "plt.show()   #show the figure object\n",
    "```\n",
    "\n",
    "There are some issues with our graph. Please,\n",
    "- adapt the code so the two curves have a different color, marker style, and line style.\n",
    "- adjust the axis range so our graph starts at 0 on the X- and Y-axes."
   ]
  },
  {
   "cell_type": "code",
   "execution_count": 116,
   "id": "e752cb42",
   "metadata": {},
   "outputs": [
    {
     "data": {
      "image/png": "[encoded data removed]",
      "text/plain": [
       "<Figure size 700x500 with 1 Axes>"
      ]
     },
     "metadata": {},
     "output_type": "display_data"
    }
   ],
   "source": [
    "Subconc = np.array([1, 2, 4, 8, 12])   #the substrate concentrations, in mM\n",
    "V0withoutI = np.array([2.1, 3.7, 6.6, 11.6, 15.1])   #the initial velocity in the absence of inhibitor for each substrate concentration, in mM/s\n",
    "V0withI =  np.array([1.1, 2.2, 4.1, 7.4, 10.2])   #the initial velocity in the presence of inhibitor for each substrate concentration, in mM/s\n",
    "\n",
    "plt.figure(figsize=(7,5))   #start a figure object\n",
    "\n",
    "plt.plot(1/Subconc, 1/V0withoutI,   #plot a set of (x (=1/the concentrations), y (= 1/the measured velocities in the absence of inhibitor)) data\n",
    "         marker='o', color='b', markersize=8,   #use a round, blue marker with size 8\n",
    "         linestyle='solid', linewidth='1',   #use a solid line with width 1\n",
    "         label='Without inhibitor')   #add a label for the legend\n",
    "\n",
    "plt.plot(1/Subconc, 1/V0withI,   #plot a set of (x (=1/the concentrations), y (= 1/the measured velocities in the presence of inhibitor)) data\n",
    "         marker='s', color='r', markersize=8,   #use a red, square marker with size 8\n",
    "         linestyle='dashed', linewidth='1.5',   #use a dashed line with width 1.5\n",
    "         label='With inhibitor')   #add a label for the legend\n",
    "\n",
    "plt.title('Lineweaver-Burk plot', fontsize=18)   #title of graph\n",
    "plt.xlabel('$1/[S_{0}]$ ($mM^{-1}$)', fontsize=14)   #X-axis label\n",
    "plt.ylabel('$1/V_{0}$ ($s mM^{-1}$)', fontsize=14)   #Y-axis label\n",
    "plt.axis([0, 1.2, 0, 1])   #adjust the axis limits to xmin=0, xmax=1.2, ymin=0, and ymax=1\n",
    "plt.legend()   #add a legend\n",
    "\n",
    "plt.show()   #show the figure object"
   ]
  },
  {
   "cell_type": "markdown",
   "id": "7adab5da",
   "metadata": {},
   "source": [
    "The following equation represents the fraction of ligand, L, bound to its target protein, P, when $[P] <<< [L]$. $K_{d}$ is the dissociation constant.\n",
    "\n",
    "\\begin{equation}\n",
    "bound = \\frac{[L]}{K_{d} + [L]}\n",
    "\\end{equation}\n",
    "\n",
    "1. Define a function that calculates the fraction of L bound to P using the equation provided.\n",
    "\n",
    "2. Create an array using a fixed number of points, _e.g._ 1000, between 0 and 100 $mM$. This will serve as the X-values.\n",
    "\n",
    "2. Plot the function for two different scenarios, $K_{d}$ = 1 $mM$ and $K_{d}$ = 10 $mM$. Use a different colour for each curve. Make sure to include a title, X-and Y-axes labels, and a legend."
   ]
  },
  {
   "cell_type": "code",
   "execution_count": 119,
   "id": "0d7c90d4",
   "metadata": {},
   "outputs": [
    {
     "data": {
      "image/png": "[encoded data removed]",
      "text/plain": [
       "<Figure size 700x500 with 1 Axes>"
      ]
     },
     "metadata": {},
     "output_type": "display_data"
    }
   ],
   "source": [
    "#Define a function that calculates the the fraction of L bound to P using the equation provided\n",
    "def fractionbound(ligconc, disconst):\n",
    "    \"\"\"\n",
    "    Evaluate the fraction of ligand, L, bound to its target protein, P, using [L]/(Kd + [L]).\n",
    "\n",
    "    Args:\n",
    "        ligconc = [L], the concentration of ligand (float) in mM\n",
    "        disconst = Kd, the dissociation constant (float) in mM\n",
    "        \n",
    "    Returns:\n",
    "        the fraction of L bound to P (float) in %\n",
    "    \"\"\"\n",
    "    fracbound = ligconc / (disconst + ligconc)\n",
    "    return fracbound\n",
    "\n",
    "\n",
    "#Create an array to serve as the X-values\n",
    "arrayL = np.linspace(0, 100, 1000)   #create an array using 1000 points between 0 and 100\n",
    "\n",
    "\n",
    "#Plot the function for two different scenarios\n",
    "plt.figure(figsize=(7,5))   #start a figure object\n",
    "\n",
    "plt.plot(arrayL, fractionbound(arrayL, 1),   #plot a set of (x (=the ligand concentrations),y (= the calculated fractions of L bound using Kd = 1 mM)) data\n",
    "         marker='o', color='gray', markersize=4,   #use a round, gray marker with size 4\n",
    "         linestyle='solid', linewidth='0.5',   #use a solid line with width 0.5\n",
    "         label='$K_{d}$ = 1 mM')   #use a label for the legend\n",
    "\n",
    "plt.plot(arrayL, fractionbound(arrayL, 10),   #plot a set of (x (=the ligand concentrations),y (= the calculated fractions of L bound using Kd = 10 mM)) data\n",
    "         marker='o', color='red', markersize=4,   #use a round, red marker with size 4\n",
    "         linestyle='solid', linewidth='0.5',   #use a solid line with width 0.5\n",
    "         label='$K_{d}$ = 10 mM')   #use a label for the legend\n",
    "\n",
    "plt.title('Binding curve', fontsize=18)   #title of graph\n",
    "plt.xlabel('$[L]$ in $mM$', fontsize=14)   #X-axis label\n",
    "plt.ylabel('Fraction bound', fontsize=14)   #Y-axis label\n",
    "plt.legend()   #add a legend\n",
    "\n",
    "plt.show()   #show the figure object"
   ]
  },
  {
   "cell_type": "markdown",
   "id": "e55317be",
   "metadata": {},
   "source": [
    "# SciPy For Data Fitting"
   ]
  },
  {
   "cell_type": "markdown",
   "id": "53ca4645",
   "metadata": {},
   "source": [
    "## __<font color=blue>Steps</font>__\n",
    "---"
   ]
  },
  {
   "cell_type": "markdown",
   "id": "34efdf7d",
   "metadata": {},
   "source": [
    "Import the `optimize` module with the `curve_fit` function from the SciPy library. Use convenient naming."
   ]
  },
  {
   "cell_type": "code",
   "execution_count": 124,
   "id": "3bb59d82",
   "metadata": {},
   "outputs": [],
   "source": [
    "from scipy.optimize import curve_fit"
   ]
  },
  {
   "cell_type": "markdown",
   "id": "a1419ad9",
   "metadata": {},
   "source": [
    "The following (x,y) data represent a BCA colorimetric assay standard curve. BSA concentrations are given in mg/ml and absorbances at 562 nm in AU.\n",
    "\n",
    "```{code-block} python\n",
    "BSAconc = np.array([0, 0.125, 0.250, 0.500, 0.750, 1.00, 1.50, 2.00])\n",
    "A562nm = np.array([-0.056333, 0.081000, 0.239667, 0.512333, 0.731667, 1.047000, 1.565000, 2.016667])\n",
    "```\n",
    "\n",
    "We first define the function to fit the data using\n",
    "```{code-block} python\n",
    "def funcline(x, a, b):   #create the function to return a line\n",
    "    y = a * x + b\n",
    "    return y\n",
    "```\n",
    "\n",
    "We now fit the data using\n",
    "```{code-block} python\n",
    "paramsSC, params_covarianceSC = curve_fit(funcline,   #the function we try to fit to the data\n",
    "                                        BSAconc,   #the x values, the concentrations\n",
    "                                        df0['BSA-mean'],   #the y values, the measured absorbances\n",
    "                                        (1, 0.1))   #the starting parameters for a (=the slope) and b (=the intercept)\n",
    "```\n",
    "\n",
    "It is up to you to\n",
    "- extract the fit parameters and calculate the standard error of the fit parameters,\n",
    "- inspect the x,y data and fit on a graph, and\n",
    "- calculate and inspect the residuals on a graph. "
   ]
  },
  {
   "cell_type": "code",
   "execution_count": 126,
   "id": "275ff803",
   "metadata": {},
   "outputs": [],
   "source": [
    "BSAconc = np.array([0, 0.125, 0.250, 0.500, 0.750, 1.00, 1.50, 2.00])\n",
    "A562nm = np.array([-0.056333, 0.081000, 0.239667, 0.512333, 0.731667, 1.047000, 1.565000, 2.016667])"
   ]
  },
  {
   "cell_type": "code",
   "execution_count": 129,
   "id": "429d9533",
   "metadata": {},
   "outputs": [],
   "source": [
    "def funcline(x, a, b):   #create the function to return a line\n",
    "    return a * x + b"
   ]
  },
  {
   "cell_type": "code",
   "execution_count": 131,
   "id": "e1644eba",
   "metadata": {},
   "outputs": [],
   "source": [
    "paramsSC, params_covarianceSC = curve_fit(funcline,   #the function we try to fit to the data\n",
    "                                        BSAconc,   #the x values, the concentrations\n",
    "                                        A562nm,   #the y values, the measured absorbances\n",
    "                                        (1, 0.1))   #the starting parameters for a (=the slope) and b (=the intercept)"
   ]
  },
  {
   "cell_type": "code",
   "execution_count": 133,
   "id": "3829b3b7",
   "metadata": {},
   "outputs": [
    {
     "name": "stdout",
     "output_type": "stream",
     "text": [
      "Slope, a =  1.044326745912753 ± 0.016470123960099097\n",
      "Intercept, b =  -0.03243753724750727 ± 0.016614249891585865\n"
     ]
    }
   ],
   "source": [
    "print(\"Slope, a = \", paramsSC[0], \"±\", np.sqrt(np.diag(params_covarianceSC))[0])   #print the slope and standard error on the slope\n",
    "print(\"Intercept, b = \", paramsSC[1], \"±\", np.sqrt(np.diag(params_covarianceSC))[1])   #print the intercept and standard error on the intercept"
   ]
  },
  {
   "cell_type": "code",
   "execution_count": 135,
   "id": "50c1db40",
   "metadata": {},
   "outputs": [
    {
     "data": {
      "image/png": "[encoded data removed]",
      "text/plain": [
       "<Figure size 700x500 with 1 Axes>"
      ]
     },
     "metadata": {},
     "output_type": "display_data"
    },
    {
     "data": {
      "image/png": "[encoded data removed]",
      "text/plain": [
       "<Figure size 700x500 with 1 Axes>"
      ]
     },
     "metadata": {},
     "output_type": "display_data"
    }
   ],
   "source": [
    "#inspect the x,y data and fit on a graph\n",
    "plt.figure(figsize=(7,5))   #start a figure object\n",
    "\n",
    "plt.plot(BSAconc, A562nm,   #plot a set of x (=the concentrations),y (= the measured absorbances) data points\n",
    "         marker='o', color='red', markersize=8, linestyle='None',   #use a round, red marker with size 8 but use no line\n",
    "         label='Data')   #use a label for the legend\n",
    "\n",
    "plt.plot(BSAconc, funcline(BSAconc, *paramsSC),   #plot a set of x (=the concentrations),y (= the calculated absorbances using the fit parameters (the star unpacks the *paramsSC array) data points\n",
    "         marker='None', linestyle='solid', color='gray',  #use no marker but use a solid, gray line\n",
    "         label='Fit')   #use a label for the legend\n",
    "\n",
    "plt.title('Standard Curve', fontsize=18)   #title of graph\n",
    "plt.xlabel('$[BSA]$ ($mg ml^{-1}$)', fontsize=14)   #X-axis label\n",
    "plt.ylabel('A562nm (AU)', fontsize=14)   #Y-axis label\n",
    "plt.legend()   #include a legend\n",
    "\n",
    "plt.show()   #show the figure object\n",
    "\n",
    "\n",
    "#calculate the residuals\n",
    "residSC = A562nm - funcline(BSAconc, *paramsSC)   #calculate the residuals\n",
    "\n",
    "\n",
    "#inspect the residuals on a graph\n",
    "plt.figure(figsize=(7,5))   #start a figure object\n",
    "\n",
    "plt.plot(BSAconc, residSC,   #plot a set of x (=the concentrations),y (= the residuals) data points\n",
    "         marker='o', color='black', markersize=8,   #use a round, black marker with size 8\n",
    "         linestyle='solid')   #use a solid line\n",
    "\n",
    "plt.title('Residuals', fontsize=18)   #title of graph\n",
    "plt.xlabel('$[BSA]$ ($mg ml^{-1}$)', fontsize=14)   #X-axis label\n",
    "plt.ylabel('A562nm (AU)', fontsize=14)   #Y-axis label\n",
    "plt.axhline(y=0, color='gray', linestyle='dashed')   #add a gray, dashed horizontal line across y=0\n",
    "\n",
    "plt.show()   #show the figure object"
   ]
  },
  {
   "cell_type": "markdown",
   "id": "16612708",
   "metadata": {},
   "source": [
    "For the data and data analysis from the previous exercise, produce a combined figure showing the residuals plot underneath the main plot. Make sure they are aligned and have the same X-axis so you can see which residual corresponds to which data point.\n",
    "\n",
    "Tip: Many functions can be used. Have a look at [matplotlib.pyplot.subplots](https://matplotlib.org/stable/api/_as_gen/matplotlib.pyplot.subplots.html), [matplotlib.figure.figure.add_subplot](https://matplotlib.org/stable/api/figure_api.html#matplotlib.figure.Figure.add_subplot), or [matplotlib.figure.figure.add_axes](https://matplotlib.org/stable/api/figure_api.html#matplotlib.figure.Figure.add_axes)."
   ]
  },
  {
   "cell_type": "code",
   "execution_count": 138,
   "id": "8d85642c",
   "metadata": {},
   "outputs": [
    {
     "data": {
      "image/png": "[encoded data removed]",
      "text/plain": [
       "<Figure size 640x480 with 2 Axes>"
      ]
     },
     "metadata": {},
     "output_type": "display_data"
    }
   ],
   "source": [
    "fig = plt.figure()   #to create a figure object\n",
    "\n",
    "xlimits = [-0.2, 2.2]   #to make sure we use the same of the X-axis boundaries for both plots\n",
    "\n",
    "ax1 = fig.add_axes([0.1, 0.51, 1, 0.8])   #to specify the coordinates, width and height of the top plot\n",
    "\n",
    "ax2 = fig.add_axes([0.1, 0.1, 1, 0.4])   #to specify the coordinates, width and height of the bottom plot\n",
    "\n",
    "ax1.plot(BSAconc, A562nm,   #plot a set of x (=the concentrations),y (= the measured absorbances) data points\n",
    "         marker='o', color='black', markersize=8, linestyle='None',   #use a round, black marker with size 8 but use no line\n",
    "         label='Data')   #use a label for the legend\n",
    "\n",
    "ax1.plot(BSAconc, funcline(BSAconc, *paramsSC),   #plot a set of x (=the concentrations),y (= the calculated absorbances using the fit parameters (the star unpacks the *paramsSC array) data points\n",
    "         marker='None', linestyle='solid', color='gray',  #use no marker but use a solid, gray line\n",
    "         label='Fit')   #use a label for the legend\n",
    "\n",
    "ax1.axhline(0, color='gray', linestyle=\"--\")   #adds a horizontal line at y=0\n",
    "ax1.axis(xlimits + [-0.2, 2.2])   #sets the X-axis and Y-axis boundaries for the top plot\n",
    "ax1.tick_params(axis='x', bottom=False, labelbottom=False)   #removes the ticks and tick labels on the X-axis for the top plot\n",
    "ax1.set_ylabel('A562nm (AU)')   #adds Y-axis title for the top plot\n",
    "ax1.legend(loc='upper left')   #include legend\n",
    "\n",
    "ax2.plot(BSAconc, residSC,   #plot a set of x (=the concentrations),y (= the residuals) data points\n",
    "         marker='o', color='gray', linestyle='solid', markersize=8)   #use gray datapoints size 8 and a line\n",
    "\n",
    "ax2.axhline(0, color='gray', linestyle=\"--\")   #adds a horizontal line at y=0\n",
    "ax2.axis(xlimits + [-0.08,0.08])   #sets the X-axis and Y-axis boundaries for the bottom plot\n",
    "ax2.set_xlabel('$[BSA]$ ($mg$ $ml^{-1}$)')   #adds X-axis title for the bottom plot, which is the same for the top plot\n",
    "ax2.set_ylabel('Residuals')   #adds Y-axis title for the bottom plot\n",
    "\n",
    "plt.show()   #show the figure object"
   ]
  }
 ],
 "metadata": {
  "kernelspec": {
   "display_name": "Python [conda env:base] *",
   "language": "python",
   "name": "conda-base-py"
  },
  "language_info": {
   "codemirror_mode": {
    "name": "ipython",
    "version": 3
   },
   "file_extension": ".py",
   "mimetype": "text/x-python",
   "name": "python",
   "nbconvert_exporter": "python",
   "pygments_lexer": "ipython3",
   "version": "3.12.3"
  }
 },
 "nbformat": 4,
 "nbformat_minor": 5
}
