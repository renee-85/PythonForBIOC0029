{
 "cells": [
  {
   "cell_type": "markdown",
   "id": "232cd4de",
   "metadata": {},
   "source": [
    "# Example: Dose response curve"
   ]
  },
  {
   "cell_type": "markdown",
   "id": "cbbd3c43",
   "metadata": {},
   "source": [
    "The spreadsheet \"DoseResponseCurveAssay.xlsx\" contains two independent replicates of a dose-response curve, a curve that shows the relationship between the dose of a drug administered ($[Drug]$ (ng ml$^{-1}$)) and its pharmacological effect (Response). These are two independent experiments and - as you can see - the drug administered doses differ between experiments. As a result, we cannot calculate average response values.\n",
    "\n",
    "When the relation between drug dose (X-axis) and drug response (Y-axis) is plotted on a base 10 logarithmic scale, this produces a sigmoidal dose–response curve. This representation is more useful than a linear plot because it expands the dose scale in the region where drug response is changing rapidly and compresses the scale at higher doses where large changes have little effect on response.\n",
    "\n",
    "We will fit the sigmoidal curve using a classical Hill equation (_i.e._ 4 parameters):\n",
    "\n",
    "\\begin{equation}\n",
    "Response = R_{min} + \\frac{R_{max} - R_{min}}{1 + (\\frac{10^{Log_{10}(EC_{50})}}{10^{x}})^{nHill}} ,\n",
    "\\end{equation}\n",
    "\n",
    "Where $Response$ is the measured signal, $x$ is the log of drug dose or concentration, $EC_{50}$ is the relative 50% effective concentration, $n_{Hill}$ is the Hill exponent and describes the steepness of the curve, $R_{max}$ is the maximum effect and $R_{min}$ is the effect in the absence of drug.\n",
    "\n",
    "See [here](https://www.graphpad.com/support/faq/how-do-i-perform-a-dose-response-experiment/) for more information.\n",
    "\n",
    "It is up to you to\n",
    "- import the data containing $[Drug]$ (ng ml$^{-1}$) and Response from the Excel file into Python,\n",
    "- calculate log$[Drug]$ (tip: use the [numpy.log](https://numpy.org/doc/stable/reference/generated/numpy.log.html) command), \n",
    "- plot the data: log$[Drug]$ versus Response,\n",
    "- define the Hill function to fit the data,\n",
    "- fit all data using the Hill function (tip: use the [pandas.concat](https://pandas.pydata.org/pandas-docs/stable/reference/api/pandas.concat.html) function to combine columns) using the `scipy.optimize.curve_fit(f, xdata, ydata, p0, sigma, absolute_sigma)` function,\n",
    "- report the fit parameters and standard errors on the fit parameters: $R_{min}$, $R_{max}$, $EC_{50}$, and $n_{Hill}$,\n",
    "- plot the data, log$[Drug]$ versus Response, but now add the curve with the fitted parameters, and\n",
    "- calculate and inspect the residuals."
   ]
  },
  {
   "cell_type": "code",
   "execution_count": null,
   "id": "e9342698",
   "metadata": {},
   "outputs": [],
   "source": [
    "#Import the data containing [Drug] and Response from the Excel file into Python\n",
    "dfDR = pd.read_excel ('../data/DoseResponseCurveAssay.xlsx', header=0, index_col=None)\n",
    "\n",
    "\n",
    "#Calculate log[Drug]\n",
    "dfDR['log[Drug 1]'] = np.log10(dfDR['[Drug 1] (ng/ml)'])\n",
    "dfDR['log[Drug 2]'] = np.log10(dfDR['[Drug 2] (ng/ml)'])\n",
    "\n",
    "\n",
    "#Plot the data\n",
    "plt.figure(figsize=(7,5))\n",
    "plt.plot(dfDR['log[Drug 1]'], dfDR['Response 1'], 'o', color='gray', markersize=8)\n",
    "plt.plot(dfDR['log[Drug 2]'], dfDR['Response 2'], 'o', color='black', markersize=8)\n",
    "plt.title('Dose-response Curve', fontsize=18)\n",
    "plt.xlabel('log $[Drug]$ (ng ml$^{-1}$)', fontsize=14)\n",
    "plt.ylabel('Response', fontsize=14)\n",
    "plt.show()\n",
    "\n",
    "\n",
    "#Define the Hill function\n",
    "def funcDR(x, Rmin, Rmax, EC50, nHill):\n",
    "     return Rmin + (Rmax-Rmin) / (1 + (((10**(np.log10(EC50)))/(10**x))**nHill))\n",
    "\n",
    "\n",
    "#Fit all data using the Hill function but first combine all data\n",
    "xDR= pd.concat([dfDR['log[Drug 1]'], dfDR['log[Drug 2]']])\n",
    "yDR= pd.concat([dfDR['Response 1'], dfDR['Response 2']])\n",
    "\n",
    "paramsDR, params_covarianceDR = curve_fit(funcDR, xDR, yDR, [0.01, 0.12, 0.2, 1])\n",
    "\n",
    "\n",
    "#Report the fit parameters and standard errors on the fit parameters\n",
    "print(\"$R_{min}$, the effect in the absence of drug = \", paramsDR[0], \"±\", np.sqrt(np.diag(params_covarianceDR))[0])\n",
    "print(\"$R_{max}$, the maximum effect = \", paramsDR[1], \"±\", np.sqrt(np.diag(params_covarianceDR))[1])\n",
    "print(\"$EC_{50}$ in (ng ml$^{-1}$), the relative 50% effective concentration = \", paramsDR[2], \"±\", np.sqrt(np.diag(params_covarianceDR))[2])\n",
    "print(\"$n_{Hill}$, the Hill exponent = \", paramsDR[3], \"±\", np.sqrt(np.diag(params_covarianceDR))[3])\n",
    "\n",
    "\n",
    "#Plot the data and add the fitted curve\n",
    "plt.figure(figsize=(7,5))\n",
    "plt.plot(xDR, yDR, 'o', color='black', markersize=8)\n",
    "plt.plot(np.linspace(-10,10,1000), funcDR(np.linspace(-10,10,1000), *paramsDR), color=\"red\",label='Fit')\n",
    "plt.title('Dose-response Curve', fontsize=18)\n",
    "plt.xlabel('log $[Drug]$ (ng ml$^{-1}$)', fontsize=14)\n",
    "plt.ylabel('Response', fontsize=14)\n",
    "plt.axis([-4, 4, 0, 0.12])\n",
    "plt.show()\n",
    "\n",
    "\n",
    "#Calculate and investigate the residuals\n",
    "residDR = yDR - funcDR(xDR, *paramsDR)\n",
    "plt.figure(figsize=(7,2))\n",
    "plt.plot(xDR, residDR, 'o', color='gray')\n",
    "plt.title('Dose-response Curve', fontsize=18)\n",
    "plt.xlabel('log $[Drug]$ (ng ml$^{-1}$)', fontsize=14)\n",
    "plt.ylabel('Response', fontsize=14)\n",
    "plt.axhline(y=0, color='gray', linestyle='dashed')\n",
    "plt.axis([-4, 4, -0.025, 0.025])\n",
    "plt.show()"
   ]
  },
  {
   "cell_type": "code",
   "execution_count": null,
   "id": "8d85642c",
   "metadata": {},
   "outputs": [],
   "source": []
  }
 ],
 "metadata": {
  "kernelspec": {
   "display_name": "Python 3 (ipykernel)",
   "language": "python",
   "name": "python3"
  },
  "language_info": {
   "codemirror_mode": {
    "name": "ipython",
    "version": 3
   },
   "file_extension": ".py",
   "mimetype": "text/x-python",
   "name": "python",
   "nbconvert_exporter": "python",
   "pygments_lexer": "ipython3",
   "version": "3.11.3"
  }
 },
 "nbformat": 4,
 "nbformat_minor": 5
}
