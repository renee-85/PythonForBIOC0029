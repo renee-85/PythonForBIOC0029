{
 "cells": [
  {
   "cell_type": "markdown",
   "metadata": {},
   "source": [
    "# NumPy For Arithmetic Operations"
   ]
  },
  {
   "cell_type": "markdown",
   "metadata": {},
   "source": [
    "[NumPy](http://www.numpy.org/) is the linear algebra library used for scientific computing."
   ]
  },
  {
   "cell_type": "markdown",
   "metadata": {},
   "source": [
    "```{exercise}\n",
    ":label: my3-exercise1\n",
    "\n",
    "Import NumPy. Use convenient naming.\n",
    "```"
   ]
  },
  {
   "cell_type": "markdown",
   "metadata": {},
   "source": [
    "````{solution} my3-exercise1\n",
    ":label: my3-solution1\n",
    ":class: dropdown\n",
    "\n",
    "```{code-block} python\n",
    "import numpy as np\n",
    "```\n",
    "````"
   ]
  },
  {
   "cell_type": "markdown",
   "metadata": {},
   "source": [
    "## __<font color=blue>NumPy arrays have a size, dimension, and shape</font>__\n",
    "---\n",
    "\n",
    "One of the most useful tools in the NumPy package is the __array__. It stores a series of numerical data of the same data type and can perform mathematical operations."
   ]
  },
  {
   "cell_type": "markdown",
   "metadata": {},
   "source": [
    "Numpy arrays have a variety of properties:\n",
    "- __size__: the total number of elements\n",
    "- __dimension__:1D, 2D, 3D ...\n",
    "- __shape__:the number of units along each dimension.\n",
    "   - For a 1D array with shape (a,), a represents the total number of __elements__ (axis 0). \n",
    "   - For a 2D array with shape (a,b), a represents the number of __rows__ (axis 0), and b represents the number of __columns__ (axis 1).\n",
    "   - For a 3D array with shape (a,b,c), a represents the number of __layers__ (axis 0), b represents the number of rows in each layer (axis 1), and c represents the number of columns in each layer (axis 2).\n",
    "\n",
    "```{image} ./Images-NumPy/Arrays.png\n",
    ":alt: 1D, 2D, and 3D NumPy arrays\n",
    ":width: 600px\n",
    ":align: center\n",
    "```"
   ]
  },
  {
   "cell_type": "markdown",
   "metadata": {},
   "source": [
    "### __<font color=red>Creating arrays</font>__\n",
    "---\n",
    "\n",
    "To create an array, use the `np.array()` function.\n",
    "\n",
    "You can get the size of a NumPy array as an integer value with `size`.\n",
    "\n",
    "You can get the number of dimensions of a NumPy array as an integer value with `ndim`.\n",
    "\n",
    "You can get the shape of a NumPy array as an integer value with `shape`.\n",
    "\n",
    "Compare:"
   ]
  },
  {
   "cell_type": "code",
   "execution_count": null,
   "metadata": {},
   "outputs": [],
   "source": [
    "array1D = np.array([1,2,3,4,5,6,7,8,9,10,11,12,13,14,15,16,17,18,19,20,21,22,23,24])   #create a 1D array with 24 elements and shape (24,)\n",
    "print(array1D)   #print the 1D array that we created\n",
    "print(array1D.size)   #print the size of the 1D array that we created\n",
    "print(array1D.ndim)   #print the dimension of the 1D array that we created\n",
    "print(array1D.shape)   #print the shape of the 1D array that we created"
   ]
  },
  {
   "cell_type": "code",
   "execution_count": null,
   "metadata": {},
   "outputs": [],
   "source": [
    "array2D = np.array([[1,2,3],[4,5,6],[7,8,9],[10,11,12],[13,14,15],[16,17,18],[19,20,21],[22,23,24]])   #create a 2D array with 24 elements, 8 rows (axis 0), 3 columns (axis 1), and shape (8,3)\n",
    "print(array2D)   #print the 2D array that we created\n",
    "print(array2D.size)   #print the size of the 2D array that we created\n",
    "print(array2D.ndim)   #print the dimension of the 2D array that we created\n",
    "print(array2D.shape)   #print the shape of the 2D array that we created"
   ]
  },
  {
   "cell_type": "code",
   "execution_count": null,
   "metadata": {},
   "outputs": [],
   "source": [
    "array3D = np.array([[[1,2,3],[4,5,6],[7,8,9],[10,11,12]],[[13,14,15],[16,17,18],[19,20,21],[22,23,24]]])   #create a 3D array with 24 elements, 2 layers (axis 0), 4 rows (axis 1), 3 columns (axis 2), and shape (2,4,3)\n",
    "print(array3D)   #print the 3D array that we created\n",
    "print(array3D.size)   #print the size of the 3D array that we created\n",
    "print(array3D.ndim)   #print the dimension of the 3D array that we created\n",
    "print(array3D.shape)   #print the shape of the 3D array that we created"
   ]
  },
  {
   "cell_type": "markdown",
   "metadata": {},
   "source": [
    "### __<font color=red>The axis parameter in functions: sum, mean, and standard deviation</font>__\n",
    "---\n",
    "\n",
    "Useful functions in NumPy include the `np.sum()`, `np.mean`, and `np.std()` functions. They are used to create the __sum__, __mean__, and __standard deviation__ of all elements, the elements of each row, and/or the elements of each column of a given array. Their arguments are `(array_name, axis)`. The default axis is None, which will sum all the elements of the array."
   ]
  },
  {
   "cell_type": "markdown",
   "metadata": {},
   "source": [
    "### __<font color=red>Lists and arrays for arithmetic operations</font>__\n",
    "---\n",
    "Both arrays and lists are used to store data, but there are important differences:\n",
    "\n",
    "```{image} ./Images-NumPy/ListsVersusArrays.png\n",
    ":alt: Python lists versus NumPy arrays\n",
    ":width: 600px\n",
    ":align: center\n",
    "```\n",
    "\n",
    "Compare:"
   ]
  },
  {
   "cell_type": "code",
   "execution_count": null,
   "metadata": {},
   "outputs": [],
   "source": [
    "lista = [1,2,3,4]   #create list a with 4 elements\n",
    "listb = [3,4,5,6]   #create list b with 4 elements\n",
    "print(2*lista)   #print 2 times list a\n",
    "print(lista+listb)   #print list a plus list b"
   ]
  },
  {
   "cell_type": "code",
   "execution_count": null,
   "metadata": {},
   "outputs": [],
   "source": [
    "arraya = np.array([1,2,3,4])   #create array a with 4 elements\n",
    "arrayb = np.array([3,4,5,6])   #create array b with 4 elements\n",
    "print(2*arraya)   #print 2 times array a\n",
    "print(arraya+arrayb)   #print array a plus array b"
   ]
  },
  {
   "cell_type": "markdown",
   "metadata": {},
   "source": [
    "## __<font color=blue>Creating special NumPy arrays</font>__\n",
    "---"
   ]
  },
  {
   "cell_type": "markdown",
   "metadata": {},
   "source": [
    "### __<font color=red>Array of ones</font>__\n",
    "---\n",
    "\n",
    "To create an array consisting of ones, use the `np.ones()` function. You just need to pass it the shape of the output array."
   ]
  },
  {
   "cell_type": "markdown",
   "metadata": {},
   "source": [
    "### __<font color=red>Array of zeros</font>__\n",
    "---\n",
    "\n",
    "To create an array consisting of zeros, use the `np.zeros()` function. You just need to pass it the shape of the output array."
   ]
  },
  {
   "cell_type": "markdown",
   "metadata": {},
   "source": [
    "### __<font color=red>Array of random values</font>__\n",
    "---\n",
    "\n",
    "To create an array consisting of ones, use the `np.ones()` function. You just need to pass it the shape of the output array."
   ]
  },
  {
   "cell_type": "markdown",
   "metadata": {},
   "source": [
    "### __<font color=red>Array of sequential or evenly spaced values</font>__\n",
    "---\n",
    "\n",
    "To create an array with evenly spaced numbers within a given interval, use the `np.arange([start, ]stop, [step, ])` function. You just need to pass the start value (optional, the default is 0), the end value, and the step size you want (optional, the default is 1)."
   ]
  },
  {
   "cell_type": "markdown",
   "metadata": {},
   "source": [
    "To create an array using a fixed number of points over an interval, use the `np.linspace(start, stop, num)` function. You just need to pass the start value, the end value (optional), and the number of points you want (optional, the default is 50)."
   ]
  },
  {
   "cell_type": "code",
   "execution_count": null,
   "metadata": {},
   "outputs": [],
   "source": []
  }
 ],
 "metadata": {
  "kernelspec": {
   "display_name": "Python 3 (ipykernel)",
   "language": "python",
   "name": "python3"
  },
  "language_info": {
   "codemirror_mode": {
    "name": "ipython",
    "version": 3
   },
   "file_extension": ".py",
   "mimetype": "text/x-python",
   "name": "python",
   "nbconvert_exporter": "python",
   "pygments_lexer": "ipython3",
   "version": "3.11.3"
  },
  "widgets": {
   "application/vnd.jupyter.widget-state+json": {
    "state": {},
    "version_major": 2,
    "version_minor": 0
   }
  }
 },
 "nbformat": 4,
 "nbformat_minor": 4
}
