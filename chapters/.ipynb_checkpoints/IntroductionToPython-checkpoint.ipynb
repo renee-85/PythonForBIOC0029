{
 "cells": [
  {
   "cell_type": "markdown",
   "metadata": {},
   "source": [
    "# Variables, Data Types, Indices, and Slices\n",
    "\n",
    "- Start a Jupyter Notebook file to try out the following basic syntax code.\n",
    "\n",
    "- Use markdown cells and comment lines to explain the purpose of your Jupyter Notebook and code. The following markdown cheat sheet can help:\n",
    "\n",
    "```{image} ./Images-Introduction/MarkdownCheatSheet.png\n",
    ":alt: A Markdown Cheat Sheet\n",
    ":width: 600px\n",
    ":align: center\n",
    "```\n",
    "\n",
    "- Execute code cells by placing your cursor in the code cell and hitting Shift and Enter. The result will print out in the Raw NBConverter output cell. "
   ]
  },
  {
   "cell_type": "markdown",
   "metadata": {},
   "source": [
    "## __<font color=blue>Assigning variables and using `print()` to check how the code is working</font>__\n",
    "---\n",
    "\n",
    "To save a value, we assign them to a __variable__ for later use.\n",
    "\n",
    "The syntax for assigning variables is:\n",
    "\n",
    "```\n",
    "variable_name = variable_value\n",
    "```\n",
    "\n",
    "_Tips:_\n",
    "- Choose informative names for variables.\n",
    "- Use comment lines to express the units of the variable or to describe the meaning of the variable.\n",
    "\n",
    "Let's see this in action with _<font color=red>calculations using variables</font>_."
   ]
  },
  {
   "cell_type": "markdown",
   "metadata": {},
   "source": [
    "```{exercise}\n",
    ":label: my-exercise\n",
    "\n",
    "How many grams of solid NaOH (40.0 g/mol) are required to prepare 500 ml of a 0.04 M solution?\n",
    "```"
   ]
  },
  {
   "cell_type": "markdown",
   "metadata": {},
   "source": [
    "````{solution} my-exercise\n",
    ":label: my-solution\n",
    ":class: dropdown\n",
    "\n",
    "Here's one possible solution.\n",
    "\n",
    "```{code-block} python\n",
    "liters = 0.5   #l\n",
    "M = 0.04   #mol/l\n",
    "MW = 40.0   #g/mol\n",
    "\n",
    "wt = (liters * M) * MW   #(l * mol/l) * g/mol = g\n",
    "\n",
    "print(wt)   #print the value that we calculated\n",
    "```\n",
    "````"
   ]
  },
  {
   "cell_type": "markdown",
   "metadata": {},
   "source": [
    "```{exercise}\n",
    ":label: my-exercise\n",
    "\n",
    "An enzyme has a $V_{max}$ of 1.2 $\\mu$$M s^{-1}$ and a $K_m$ of 10 $\\mu$$M$. What is the initial velocity (in $\\mu$$M s^{-1}$) for an 8 $\\mu$$M$ substrate concentration?\n",
    "```"
   ]
  },
  {
   "cell_type": "markdown",
   "metadata": {},
   "source": [
    "````{solution} my-exercise\n",
    ":label: my-solution\n",
    ":class: dropdown\n",
    "\n",
    "Here's one possible solution.\n",
    "\n",
    "```{code-block} python\n",
    "Km = 10   #microM\n",
    "Vmax = 1.2   #microM/s\n",
    "S = 8   #microM\n",
    "\n",
    "V0 = (Vmax * S) / (Km + S)   #(microM/s * microM) / (microM + microM) = microM/s; Michaelis-Menten equation\n",
    "\n",
    "print(V0)   #print the value that we calculated\n",
    "```\n",
    "````"
   ]
  },
  {
   "cell_type": "markdown",
   "metadata": {},
   "source": [
    "```{exercise}\n",
    ":label: my-exercise\n",
    "\n",
    "Convert the initial velocity in $\\mu$$M s^{-1}$ from the previous exercise to $\\mu$$M min^{-1}$.\n",
    "```"
   ]
  },
  {
   "cell_type": "markdown",
   "metadata": {},
   "source": [
    "````{solution} my-exercise\n",
    ":label: my-solution\n",
    ":class: dropdown\n",
    "\n",
    "Here's one possible solution.\n",
    "\n",
    "```{code-block} python\n",
    "V0permin = V0 * 60   #microM/s * 60s/min = microM/min\n",
    "\n",
    "print(V0permin)   #print the value that we calculated\n",
    "```\n",
    "````"
   ]
  },
  {
   "cell_type": "markdown",
   "metadata": {},
   "source": [
    "## __<font color=blue>Data types, using `len()` to return the number of items in a sequence, and using `.count()` to count how many times an item appears in a sequence</font>__\n",
    "---"
   ]
  },
  {
   "cell_type": "markdown",
   "metadata": {},
   "source": [
    "In Python, the __data type__ is set when we assign a value to a variable. Different data types can do different things.\n",
    "\n",
    "The most common data types are\n",
    "- __strings__ (`str`) for text (surrounded by either single quotation marks or double quotation marks),\n",
    "- __integers__ (`int`) for whole numbers, positive or negative, without decimals, of unlimited length,\n",
    "- __floating point numbers__ (`float`) for numbers, positive or negative, containing one or more decimals,\n",
    "- __lists__ (`list`) for multiple ordered and changeable items of different data types within one variable (created using square brackets (`[]`)),\n",
    "- __tuples__ (`tuple`) for multiple ordered and unchangeable items of different data types within one variable (created using round brackets (`()`)).\n",
    "\n",
    "Use the `type()` function to identify the data type of any variable.\n",
    "\n",
    "Use the `len()` function to determine the __length__ of a sequence (_e.g._ a string, list, or tuple).\n",
    "\n",
    "Use the `.count()` function to __count__ the number of items with a specified value within a sequence. The syntax for the count function is:\n",
    "\n",
    "```\n",
    "sequence_name.count(value)\n",
    "```\n",
    "\n",
    "Let's see this in action with _<font color=red>DNA, RNA, and protein sequences as strings</font>_ and _<font color=red>lists with substrate concentrations and amino acids</font>_."
   ]
  },
  {
   "cell_type": "markdown",
   "metadata": {},
   "source": [
    "```{exercise}\n",
    ":label: my-exercise\n",
    "\n",
    "Determine the data type, length, and number of tryptophan residues for this LRRK2 protein sequence containing one letter code amino acids.\n",
    "```"
   ]
  },
  {
   "cell_type": "code",
   "execution_count": null,
   "metadata": {},
   "outputs": [],
   "source": [
    "protseqLRRK2 =\"MASGSCQGCEEDEETLKKLIVRLNNVQEGKQIETLVQILEDLLVFTYSERASKLFQGKNIHVPLLIVLDSYMRVASVQQVGWSLLCKLIEVCPGTMQSLMGPQDVGNDWEVLGVHQLILKMLTVHNASVNLSVIGLKTLDLLLTSGKITLLILDEESDIFMLIFDAMHSFPANDEVQKLGCKALHVLFERVSEEQLTEFVENKDYMILLSALTNFKDEEEIVLHVLHCLHSLAIPCNNVEVLMSGNVRCYNIVVEAMKAFPMSERIQEVSCCLLHRLTLGNFFNILVLNEVHEFVVKAVQQYPENAALQISALSCLALLTETIFLNQDLEEKNENQENDDEGEEDKLFWLEACYKALTWHRKNKHVQEAACWALNNLLMYQNSLHEKIGDEDGHFPAHREVMLSMLMHSSSKEVFQASANALSTLLEQNVNFRKILLSKGIHLNVLELMQKHIHSPEVAESGCKMLNHLFEGSNTSLDIMAAVVPKILTVMKRHETSLPVQLEALRAILHFIVPGMPEESREDTEFHHKLNMVKKQCFKNDIHKLVLAALNRFIGNPGIQKCGLKVISSIVHFPDALEMLSLEGAMDSVLHTLQMYPDDQEIQCLGLSLIGYLITKKNVFIGTGHLLAKILVSSLYRFKDVAEIQTKGFQTILAILKLSASFSKLLVHHSFDLVIFHQMSSNIMEQKDQQFLNLCCKCFAKVAMDDYLKNVMLERACDQNNSIMVECLLLLGADANQAKEGSSLICQVCEKESSPKLVELLLNSGSREQDVRKALTISIGKGDSQIISLLLRRLALDVANNSICLGGFCIGKVEPSWLGPLFPDKTSNLRKQTNIASTLARMVIRYQMKSAVEEGTASGSDGNFSEDVLSKFDEWTFIPDSSMDSVFAQSDDLDSEGSEGSFLVKKKSNSISVGEFYRDAVLQRCSPNLQRHSNSLGPIFDHEDLLKRKRKILSSDDSLRSSKLQSHMRHSDSISSLASEREYITSLDLSANELRDIDALSQKCCISVHLEHLEKLELHQNALTSFPQQLCETLKSLTHLDLHSNKFTSFPSYLLKMSCIANLDVSRNDIGPSVVLDPTVKCPTLKQFNLSYNQLSFVPENLTDVVEKLEQLILEGNKISGICSPLRLKELKILNLSKNHISSLSENFLEACPKVESFSARMNFLAAMPFLPPSMTILKLSQNKFSCIPEAILNLPHLRSLDMSSNDIQYLPGPAHWKSLNLRELLFSHNQISILDLSEKAYLWSRVEKLHLSHNKLKEIPPEIGCLENLTSLDVSYNLELRSFPNEMGKLSKIWDLPLDELHLNFDFKHIGCKAKDIIRFLQQRLKKAVPYNRMKLMIVGNTGSGKTTLLQQLMKTKKSDLGMQSATVGIDVKDWPIQIRDKRKRDLVLNVWDFAGREEFYSTHPHFMTQRALYLAVYDLSKGQAEVDAMKPWLFNIKARASSSPVILVGTHLDVSDEKQRKACMSKITKELLNKRGFPAIRDYHFVNATEESDALAKLRKTIINESLNFKIRDQLVVGQLIPDCYVELEKIILSERKNVPIEFPVIDRKRLLQLVRENQLQLDENELPHAVHFLNESGVLLHFQDPALQLSDLYFVEPKWLCKIMAQILTVKVEGCPKHPKGIISRRDVEKFLSKKRKFPKNYMSQYFKLLEKFQIALPIGEEYLLVPSSLSDHRPVIELPHCENSEIIIRLYEMPYFPMGFWSRLINRLLEISPYMLSGRERALRPNRMYWRQGIYLNWSPEAYCLVGSEVLDNHPESFLKITVPSCRKGCILLGQVVDHIDSLMEEWFPGLLEIDICGEGETLLKKWALYSFNDGEEHQKILLDDLMKKAEEGDLLVNPDQPRLTIPISQIAPDLILADLPRNIMLNNDELEFEQAPEFLLGDGSFGSVYRAAYEGEEVAVKIFNKHTSLRLLRQELVVLCHLHHPSLISLLAAGIRPRMLVMELASKGSLDRLLQQDKASLTRTLQHRIALHVADGLRYLHSAMIIYRDLKPHNVLLFTLYPNAAIIAKIADYGIAQYCCRMGIKTSEGTPGFRAPEVARGNVIYNQQADVYSFGLLLYDILTTGGRIVEGLKFPNEFDELEIQGKLPDPVKEYGCAPWPMVEKLIKQCLKENPQERPTSAQVFDILNSAELVCLTRRILLPKNVIVECMVATHHNSRNASIWLGCGHTDRGQLSFLDLNTEGYTSEEVADSRILCLALVHLPVEKESWIVSGTQSGTLLVINTEDGKKRHTLEKMTDSVTCLYCNSFSKQSKQKNFLLVGTADGKLAIFEDKTVKLKGAAPLKILNIGNVSTPLMCLSESTNSTERNVMWGGCGTKIFSFSNDFTIQKLIETRTSQLFSYAAFSDSNIITVVVDTALYIAKQNSPVVEVWDKKTEKLCGLIDCVHFLREVMVKENKESKHKMSYSGRVKTLCLQKNTALWIGTGGGHILLLDLSTRRLIRVIYNFCNSVRVMMTAQLGSLKNVMLVLGYNRKNTEGTQKQKEIQSCLTVWDINLPHEVQNLEKHIEVRKELAEKMRRTSVE\""
   ]
  },
  {
   "cell_type": "markdown",
   "metadata": {},
   "source": [
    "````{solution} my-exercise\n",
    ":label: my-solution\n",
    ":class: dropdown\n",
    "\n",
    "Here's one possible solution.\n",
    "\n",
    "```{code-block} python\n",
    "print(type(protseqLRRK2))   #determine and print the data type\n",
    "\n",
    "len_protseqLRRK2 = len(protseqLRRK2)   #determine the length of the string\n",
    "print(len_protseqLRRK2)   #print the value that we calculated\n",
    "\n",
    "Wcount_protseqLRRK2 = protseqLRRK2.count(\"W\")   #count the number of times W appears in the string\n",
    "print(Wcount_protseqLRRK2)   #print the value that we calculated\n",
    "```\n",
    "````"
   ]
  },
  {
   "cell_type": "markdown",
   "metadata": {},
   "source": [
    "```{exercise}\n",
    ":label: my-exercise\n",
    "\n",
    "Define the EcoRI DNA recognition sequence (GAATTC) as a string.\n",
    "```"
   ]
  },
  {
   "cell_type": "markdown",
   "metadata": {},
   "source": [
    "````{solution} my-exercise\n",
    ":label: my-solution\n",
    ":class: dropdown\n",
    "\n",
    "Here's one possible solution.\n",
    "\n",
    "```{code-block} python\n",
    "DNAseqEcoRI = \"GAATTC\"   #create a string using double quotation marks\n",
    "```\n",
    "````"
   ]
  },
  {
   "cell_type": "markdown",
   "metadata": {},
   "source": [
    "```{exercise}\n",
    ":label: my-exercise\n",
    "\n",
    "Determine the data type and length for this list with substrate concentrations.\n",
    "```"
   ]
  },
  {
   "cell_type": "code",
   "execution_count": null,
   "metadata": {},
   "outputs": [],
   "source": [
    "subconc = [0, 1, 2, 4, 8, 15, 30, 60, 125, 250, 500]"
   ]
  },
  {
   "cell_type": "markdown",
   "metadata": {},
   "source": [
    "````{solution} my-exercise\n",
    ":label: my-solution\n",
    ":class: dropdown\n",
    "\n",
    "Here's one possible solution.\n",
    "\n",
    "```{code-block} python\n",
    "print(type(subconc))   #determine and print the data type\n",
    "\n",
    "len_subconc = len(subconc)   #determine the length of the list\n",
    "print(len_subconc)   #print the value that we calculated\n",
    "```\n",
    "````"
   ]
  },
  {
   "cell_type": "markdown",
   "metadata": {},
   "source": [
    "```{exercise}\n",
    ":label: my-exercise\n",
    "\n",
    "Determine the data type and length for this list with substrate concentrations.\n",
    "```"
   ]
  },
  {
   "cell_type": "code",
   "execution_count": null,
   "metadata": {},
   "outputs": [],
   "source": [
    "AA3Letter = [\"ALA\", \"ARG\", \"ASN\", \"ASP\", \"CYS\", \"GLN\", \"GLU\", \"GLY\", \"HIS\", \"ILE\", \"LEU\", \"LYS\", \"MET\", \"PHE\", \"PRO\", \"SER\", \"THR\", \"TRP\", \"TYR\", \"VAL\"]"
   ]
  },
  {
   "cell_type": "markdown",
   "metadata": {},
   "source": [
    "````{solution} my-exercise\n",
    ":label: my-solution\n",
    ":class: dropdown\n",
    "\n",
    "Here's one possible solution.\n",
    "\n",
    "```{code-block} python\n",
    "print(type(AA3Letter))   #determine and print the data type\n",
    "\n",
    "len_AA3Letter = len(AA3Letter)   #determine the length of the list\n",
    "print(len_AA3Letter)   #print the value that we calculated\n",
    "\n",
    "ALAcount_AA3Letter = AA3Letter.count(\"ALA\")   #count the number of times ALA appears in the string\n",
    "print(ALAcount_AA3Letter)   #print the value that we calculated\n",
    "```\n",
    "````"
   ]
  },
  {
   "cell_type": "markdown",
   "metadata": {},
   "source": [
    "## __<font color=blue>Index and slice</font>__\n",
    "---"
   ]
  },
  {
   "cell_type": "markdown",
   "metadata": {},
   "source": [
    "Sequence-based data types (_e.g._ a string, list, or tuple) are __index__ed: the first item has index `[0]`, the second item has index `[1]` ...\n",
    "\n",
    "If we have a long sequence and want to select an item towards the end, we can count backwards, starting at the index number `[-1]`.\n",
    "\n",
    "The syntax for selecting a subset of an existing sequence, a __slice__, is:\n",
    "\n",
    "```\n",
    "sequence_name[start:end]\n",
    "```\n",
    "\n",
    "When we specify the end item for the slice, it goes up to but does not include that item of the list!\n",
    "\n",
    "If you have no start number (_i.e._ `[:end]`), the slice starts from the beginning of the sequence.\n",
    "\n",
    "If you have no end number (_i.e._ `[start:]`), the slice goes to the end of the sequence.\n",
    "\n",
    "Let's see this in action with _<font color=red>DNA, RNA, and protein sequences as strings</font>_."
   ]
  },
  {
   "cell_type": "markdown",
   "metadata": {},
   "source": [
    "```{exercise}\n",
    ":label: my-exercise\n",
    "\n",
    "Select the signal peptide (residues 1 to 22: MVSTMLSGLVLWLTFGWTPALA) and serine residues that are phosphorylated (S136 and S200) of this 7B2 protein sequence containing one letter code amino acids.\n",
    "```"
   ]
  },
  {
   "cell_type": "code",
   "execution_count": null,
   "metadata": {},
   "outputs": [],
   "source": [
    "protseq7B2 =\"MVSTMLSGLVLWLTFGWTPALAYSPRTPDRVSETDIQRLLHGVMEQLGIARPRVEYPAHQAMNLVGPQSIEGGAHEGLQHLGPFGNIPNIVAELTGDNTPKDFSEDQGYPDPPNPCPIGKTDDGCLENTPDTAEFSREFQLHQHLFDPEHDYPGLGKWNKKLLYEKMKGGQRRKRRSVNPYLQGQRLDNVVAKKSVPHFSDEDKDPE\""
   ]
  },
  {
   "cell_type": "markdown",
   "metadata": {},
   "source": [
    "````{solution} my-exercise\n",
    ":label: my-solution\n",
    ":class: dropdown\n",
    "\n",
    "Here's one possible solution.\n",
    "\n",
    "```{code-block} python\n",
    "SPseq7B2 = protseq7B2[0:22]   #Select residues 1 (0 as the first item has index 0) to 22 (22 as it goes up to but does not include item 22)\n",
    "print(SPseq7B2)   #print the value that we calculated\n",
    "\n",
    "PhosS136 = protseq7B2[135]   #Select residue 136 (135 as the first item has index 0)\n",
    "print(PhosS136)   #print the value that we calculated\n",
    "\n",
    "PhosS200 = protseq7B2[199]   #Select residue 200 (199 as the first item has index 0)\n",
    "print(PhosS200)   #print the value that we calculated\n",
    "```\n",
    "````"
   ]
  },
  {
   "cell_type": "code",
   "execution_count": null,
   "metadata": {},
   "outputs": [],
   "source": []
  }
 ],
 "metadata": {
  "kernelspec": {
   "display_name": "Python 3 (ipykernel)",
   "language": "python",
   "name": "python3"
  },
  "language_info": {
   "codemirror_mode": {
    "name": "ipython",
    "version": 3
   },
   "file_extension": ".py",
   "mimetype": "text/x-python",
   "name": "python",
   "nbconvert_exporter": "python",
   "pygments_lexer": "ipython3",
   "version": "3.11.3"
  },
  "widgets": {
   "application/vnd.jupyter.widget-state+json": {
    "state": {},
    "version_major": 2,
    "version_minor": 0
   }
  }
 },
 "nbformat": 4,
 "nbformat_minor": 4
}
